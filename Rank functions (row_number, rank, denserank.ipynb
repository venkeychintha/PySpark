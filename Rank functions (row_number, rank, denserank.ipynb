{
 "cells": [
  {
   "cell_type": "code",
   "execution_count": 0,
   "metadata": {
    "application/vnd.databricks.v1+cell": {
     "cellMetadata": {
      "byteLimit": 2048000,
      "rowLimit": 10000
     },
     "inputWidgets": {},
     "nuid": "8b8ef3f5-3787-46f8-aa63-d272e6564edf",
     "showTitle": false,
     "title": ""
    }
   },
   "outputs": [
    {
     "output_type": "stream",
     "name": "stdout",
     "output_type": "stream",
     "text": [
      "+--------+-------+------+\n|    name|    dep|salary|\n+--------+-------+------+\n|  maheer|     HR|  2000|\n|    wafa|     IT|  3000|\n|     asi|     HR|  1500|\n|     anu|payroll|  3500|\n| shakthi|     IT|  3000|\n| pradeep|     IT|  4000|\n|himanshu|     IT|  2000|\n|bhargavi|     HR|  2000|\n| kranthi|Payroll|  2000|\n|  martin|     IT|  2500|\n+--------+-------+------+\n\n"
     ]
    }
   ],
   "source": [
    "from pyspark.sql.functions import row_number, rank, dense_rank\n",
    "from pyspark.sql.window import Window\n",
    "data = [('maheer','HR',2000),('wafa','IT',3000),('asi','HR',1500),('anu','payroll',3500),\n",
    "        ('shakthi','IT',3000),('pradeep','IT',4000),('himanshu','IT',2000),('bhargavi','HR',2000),('kranthi','Payroll',2000),('martin','IT',2500)]\n",
    "schema = ['name','dep','salary']\n",
    "df = spark.createDataFrame(data, schema)\n",
    "df.show()"
   ]
  },
  {
   "cell_type": "code",
   "execution_count": 0,
   "metadata": {
    "application/vnd.databricks.v1+cell": {
     "cellMetadata": {
      "byteLimit": 2048000,
      "rowLimit": 10000
     },
     "inputWidgets": {},
     "nuid": "e8d08a74-e476-4306-acd8-b10b66f2483a",
     "showTitle": false,
     "title": ""
    }
   },
   "outputs": [
    {
     "output_type": "stream",
     "name": "stdout",
     "output_type": "stream",
     "text": [
      "+--------+-------+------+\n|    name|    dep|salary|\n+--------+-------+------+\n|  maheer|     HR|  2000|\n|     asi|     HR|  1500|\n|bhargavi|     HR|  2000|\n| shakthi|     IT|  3000|\n|himanshu|     IT|  2000|\n|    wafa|     IT|  3000|\n|  martin|     IT|  2500|\n| pradeep|     IT|  4000|\n| kranthi|Payroll|  2000|\n|     anu|payroll|  3500|\n+--------+-------+------+\n\n"
     ]
    }
   ],
   "source": [
    "df.sort('dep').show()"
   ]
  },
  {
   "cell_type": "code",
   "execution_count": 0,
   "metadata": {
    "application/vnd.databricks.v1+cell": {
     "cellMetadata": {
      "byteLimit": 2048000,
      "rowLimit": 10000
     },
     "inputWidgets": {},
     "nuid": "998a5662-47c1-43d9-ac7b-618443c0577f",
     "showTitle": false,
     "title": ""
    }
   },
   "outputs": [
    {
     "output_type": "stream",
     "name": "stdout",
     "output_type": "stream",
     "text": [
      "+--------+-------+------+---------+\n|    name|    dep|salary|rowNumber|\n+--------+-------+------+---------+\n|     asi|     HR|  1500|        1|\n|  maheer|     HR|  2000|        2|\n|bhargavi|     HR|  2000|        3|\n|himanshu|     IT|  2000|        1|\n|  martin|     IT|  2500|        2|\n|    wafa|     IT|  3000|        3|\n| shakthi|     IT|  3000|        4|\n| pradeep|     IT|  4000|        5|\n| kranthi|Payroll|  2000|        1|\n|     anu|payroll|  3500|        1|\n+--------+-------+------+---------+\n\n"
     ]
    }
   ],
   "source": [
    "window = Window.partitionBy('dep').orderBy('salary')\n",
    "#Rownumber\n",
    "df.withColumn('rowNumber', row_number().over(window)).show()"
   ]
  },
  {
   "cell_type": "code",
   "execution_count": 0,
   "metadata": {
    "application/vnd.databricks.v1+cell": {
     "cellMetadata": {
      "byteLimit": 2048000,
      "rowLimit": 10000
     },
     "inputWidgets": {},
     "nuid": "1aef9afb-4355-48fa-86a1-e0ee43ae177f",
     "showTitle": false,
     "title": ""
    }
   },
   "outputs": [
    {
     "output_type": "stream",
     "name": "stdout",
     "output_type": "stream",
     "text": [
      "+--------+-------+------+---------+----+\n|    name|    dep|salary|rowNumber|rank|\n+--------+-------+------+---------+----+\n|     asi|     HR|  1500|        1|   1|\n|  maheer|     HR|  2000|        2|   2|\n|bhargavi|     HR|  2000|        3|   2|\n|himanshu|     IT|  2000|        1|   1|\n|  martin|     IT|  2500|        2|   2|\n|    wafa|     IT|  3000|        3|   3|\n| shakthi|     IT|  3000|        4|   3|\n| pradeep|     IT|  4000|        5|   5|\n| kranthi|Payroll|  2000|        1|   1|\n|     anu|payroll|  3500|        1|   1|\n+--------+-------+------+---------+----+\n\n"
     ]
    }
   ],
   "source": [
    "#Rank\n",
    "df.withColumn('rowNumber', row_number().over(window)).withColumn('rank',rank().over(window)).show()"
   ]
  },
  {
   "cell_type": "code",
   "execution_count": 0,
   "metadata": {
    "application/vnd.databricks.v1+cell": {
     "cellMetadata": {
      "byteLimit": 2048000,
      "rowLimit": 10000
     },
     "inputWidgets": {},
     "nuid": "0801d405-e764-4b7e-b3ef-2d47cc306850",
     "showTitle": false,
     "title": ""
    }
   },
   "outputs": [
    {
     "output_type": "stream",
     "name": "stdout",
     "output_type": "stream",
     "text": [
      "+--------+-------+------+---------+----+---------+\n|    name|    dep|salary|rowNumber|rank|denserank|\n+--------+-------+------+---------+----+---------+\n|     asi|     HR|  1500|        1|   1|        1|\n|  maheer|     HR|  2000|        2|   2|        2|\n|bhargavi|     HR|  2000|        3|   2|        2|\n|himanshu|     IT|  2000|        1|   1|        1|\n|  martin|     IT|  2500|        2|   2|        2|\n|    wafa|     IT|  3000|        3|   3|        3|\n| shakthi|     IT|  3000|        4|   3|        3|\n| pradeep|     IT|  4000|        5|   5|        4|\n| kranthi|Payroll|  2000|        1|   1|        1|\n|     anu|payroll|  3500|        1|   1|        1|\n+--------+-------+------+---------+----+---------+\n\n"
     ]
    }
   ],
   "source": [
    "DesnseRank\n",
    "df.withColumn('rowNumber', row_number().over(window)).withColumn('rank',rank().over(window)).withColumn('denserank', dense_rank().over(window)).show()"
   ]
  },
  {
   "cell_type": "code",
   "execution_count": 0,
   "metadata": {
    "application/vnd.databricks.v1+cell": {
     "cellMetadata": {},
     "inputWidgets": {},
     "nuid": "be352ba5-5809-4448-a745-fd420bfc569b",
     "showTitle": false,
     "title": ""
    }
   },
   "outputs": [],
   "source": []
  }
 ],
 "metadata": {
  "application/vnd.databricks.v1+notebook": {
   "dashboards": [],
   "language": "python",
   "notebookMetadata": {
    "pythonIndentUnit": 4
   },
   "notebookName": "Rank functions (row_number, rank, denserank",
   "widgets": {}
  }
 },
 "nbformat": 4,
 "nbformat_minor": 0
}
