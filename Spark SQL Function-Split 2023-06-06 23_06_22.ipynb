{
 "cells": [
  {
   "cell_type": "markdown",
   "metadata": {
    "application/vnd.databricks.v1+cell": {
     "cellMetadata": {},
     "inputWidgets": {},
     "nuid": "d400da95-0324-490a-ae45-ddf8412b3302",
     "showTitle": false,
     "title": ""
    }
   },
   "source": [
    "####PySpark Function Split"
   ]
  },
  {
   "cell_type": "code",
   "execution_count": 0,
   "metadata": {
    "application/vnd.databricks.v1+cell": {
     "cellMetadata": {
      "byteLimit": 2048000,
      "rowLimit": 10000
     },
     "inputWidgets": {},
     "nuid": "bc2cd9c3-efaa-4b3d-ac5f-1f9ef1c1f28f",
     "showTitle": false,
     "title": ""
    }
   },
   "outputs": [
    {
     "output_type": "display_data",
     "data": {
      "text/html": [
       "<style scoped>\n",
       "  .table-result-container {\n",
       "    max-height: 300px;\n",
       "    overflow: auto;\n",
       "  }\n",
       "  table, th, td {\n",
       "    border: 1px solid black;\n",
       "    border-collapse: collapse;\n",
       "  }\n",
       "  th, td {\n",
       "    padding: 5px;\n",
       "  }\n",
       "  th {\n",
       "    text-align: left;\n",
       "  }\n",
       "</style><div class='table-result-container'><table class='table-result'><thead style='background-color: white'><tr><th>employee_id</th><th>name</th><th>doj</th><th>employee_dept_id</th><th>salary</th></tr></thead><tbody><tr><td>10</td><td>raj kumar</td><td>1999-06-01</td><td>100</td><td>2000</td></tr><tr><td>20</td><td>rahul kumar</td><td>2003-03-01</td><td>200</td><td>8000</td></tr><tr><td>30</td><td>raja singh</td><td>2005-04-01</td><td>100</td><td>6000</td></tr><tr><td>40</td><td>raghava</td><td>2008-10-1</td><td>100</td><td>9000</td></tr><tr><td>50</td><td>rama krishna</td><td>1996-02-01</td><td>400</td><td>14000</td></tr><tr><td>60</td><td>Mathew simon</td><td>1994-11-01</td><td>500</td><td>12000</td></tr><tr><td>70</td><td>peter paul</td><td>2011-04-01</td><td>600</td><td>7000</td></tr></tbody></table></div>"
      ]
     },
     "metadata": {
      "application/vnd.databricks.v1+output": {
       "addedWidgets": {},
       "aggData": [],
       "aggError": "",
       "aggOverflow": false,
       "aggSchema": [],
       "aggSeriesLimitReached": false,
       "aggType": "",
       "arguments": {},
       "columnCustomDisplayInfos": {},
       "data": [
        [
         10,
         "raj kumar",
         "1999-06-01",
         "100",
         2000
        ],
        [
         20,
         "rahul kumar",
         "2003-03-01",
         "200",
         8000
        ],
        [
         30,
         "raja singh",
         "2005-04-01",
         "100",
         6000
        ],
        [
         40,
         "raghava",
         "2008-10-1",
         "100",
         9000
        ],
        [
         50,
         "rama krishna",
         "1996-02-01",
         "400",
         14000
        ],
        [
         60,
         "Mathew simon",
         "1994-11-01",
         "500",
         12000
        ],
        [
         70,
         "peter paul",
         "2011-04-01",
         "600",
         7000
        ]
       ],
       "datasetInfos": [],
       "dbfsResultPath": null,
       "isJsonSchema": true,
       "metadata": {},
       "overflow": false,
       "plotOptions": {
        "customPlotOptions": {},
        "displayType": "table",
        "pivotAggregation": null,
        "pivotColumns": null,
        "xColumns": null,
        "yColumns": null
       },
       "removedWidgets": [],
       "schema": [
        {
         "metadata": "{}",
         "name": "employee_id",
         "type": "\"long\""
        },
        {
         "metadata": "{}",
         "name": "name",
         "type": "\"string\""
        },
        {
         "metadata": "{}",
         "name": "doj",
         "type": "\"string\""
        },
        {
         "metadata": "{}",
         "name": "employee_dept_id",
         "type": "\"string\""
        },
        {
         "metadata": "{}",
         "name": "salary",
         "type": "\"long\""
        }
       ],
       "type": "table"
      }
     },
     "output_type": "display_data"
    }
   ],
   "source": [
    "employee_data =[(10, 'raj kumar','1999-06-01','100',2000),\n",
    "                (20, 'rahul kumar','2003-03-01','200',8000),\n",
    "                (30, 'raja singh','2005-04-01','100',6000),\n",
    "                (40, 'raghava','2008-10-1','100',9000),\n",
    "                (50, 'rama krishna','1996-02-01','400',14000),\n",
    "                (60, 'Mathew simon','1994-11-01','500',12000),\n",
    "                (70, 'peter paul','2011-04-01','600',7000)]\n",
    "\n",
    "employee_schema =['employee_id','name','doj','employee_dept_id','salary']\n",
    "\n",
    "df_emp= spark.createDataFrame(data=employee_data, schema=employee_schema)\n",
    "df_emp.display()\n"
   ]
  },
  {
   "cell_type": "markdown",
   "metadata": {
    "application/vnd.databricks.v1+cell": {
     "cellMetadata": {},
     "inputWidgets": {},
     "nuid": "27b1a006-203d-42a4-a086-401a8a9bc83b",
     "showTitle": false,
     "title": ""
    }
   },
   "source": [
    "####First Method of Split"
   ]
  },
  {
   "cell_type": "code",
   "execution_count": 0,
   "metadata": {
    "application/vnd.databricks.v1+cell": {
     "cellMetadata": {
      "byteLimit": 2048000,
      "rowLimit": 10000
     },
     "inputWidgets": {},
     "nuid": "b15b0e5f-e893-438a-b106-1c3d70c62e58",
     "showTitle": false,
     "title": ""
    }
   },
   "outputs": [
    {
     "output_type": "display_data",
     "data": {
      "text/html": [
       "<style scoped>\n",
       "  .table-result-container {\n",
       "    max-height: 300px;\n",
       "    overflow: auto;\n",
       "  }\n",
       "  table, th, td {\n",
       "    border: 1px solid black;\n",
       "    border-collapse: collapse;\n",
       "  }\n",
       "  th, td {\n",
       "    padding: 5px;\n",
       "  }\n",
       "  th {\n",
       "    text-align: left;\n",
       "  }\n",
       "</style><div class='table-result-container'><table class='table-result'><thead style='background-color: white'><tr><th>employee_id</th><th>name</th><th>doj</th><th>employee_dept_id</th><th>salary</th><th>First_Name</th><th>Last_Name</th></tr></thead><tbody><tr><td>10</td><td>raj kumar</td><td>1999-06-01</td><td>100</td><td>2000</td><td>raj</td><td>kumar</td></tr><tr><td>20</td><td>rahul kumar</td><td>2003-03-01</td><td>200</td><td>8000</td><td>rahul</td><td>kumar</td></tr><tr><td>30</td><td>raja singh</td><td>2005-04-01</td><td>100</td><td>6000</td><td>raja</td><td>singh</td></tr><tr><td>40</td><td>raghava</td><td>2008-10-1</td><td>100</td><td>9000</td><td>raghava</td><td>null</td></tr><tr><td>50</td><td>rama krishna</td><td>1996-02-01</td><td>400</td><td>14000</td><td>rama</td><td>krishna</td></tr><tr><td>60</td><td>Mathew simon</td><td>1994-11-01</td><td>500</td><td>12000</td><td>Mathew</td><td>simon</td></tr><tr><td>70</td><td>peter paul</td><td>2011-04-01</td><td>600</td><td>7000</td><td>peter</td><td>paul</td></tr></tbody></table></div>"
      ]
     },
     "metadata": {
      "application/vnd.databricks.v1+output": {
       "addedWidgets": {},
       "aggData": [],
       "aggError": "",
       "aggOverflow": false,
       "aggSchema": [],
       "aggSeriesLimitReached": false,
       "aggType": "",
       "arguments": {},
       "columnCustomDisplayInfos": {},
       "data": [
        [
         10,
         "raj kumar",
         "1999-06-01",
         "100",
         2000,
         "raj",
         "kumar"
        ],
        [
         20,
         "rahul kumar",
         "2003-03-01",
         "200",
         8000,
         "rahul",
         "kumar"
        ],
        [
         30,
         "raja singh",
         "2005-04-01",
         "100",
         6000,
         "raja",
         "singh"
        ],
        [
         40,
         "raghava",
         "2008-10-1",
         "100",
         9000,
         "raghava",
         null
        ],
        [
         50,
         "rama krishna",
         "1996-02-01",
         "400",
         14000,
         "rama",
         "krishna"
        ],
        [
         60,
         "Mathew simon",
         "1994-11-01",
         "500",
         12000,
         "Mathew",
         "simon"
        ],
        [
         70,
         "peter paul",
         "2011-04-01",
         "600",
         7000,
         "peter",
         "paul"
        ]
       ],
       "datasetInfos": [],
       "dbfsResultPath": null,
       "isJsonSchema": true,
       "metadata": {},
       "overflow": false,
       "plotOptions": {
        "customPlotOptions": {},
        "displayType": "table",
        "pivotAggregation": null,
        "pivotColumns": null,
        "xColumns": null,
        "yColumns": null
       },
       "removedWidgets": [],
       "schema": [
        {
         "metadata": "{}",
         "name": "employee_id",
         "type": "\"long\""
        },
        {
         "metadata": "{}",
         "name": "name",
         "type": "\"string\""
        },
        {
         "metadata": "{}",
         "name": "doj",
         "type": "\"string\""
        },
        {
         "metadata": "{}",
         "name": "employee_dept_id",
         "type": "\"string\""
        },
        {
         "metadata": "{}",
         "name": "salary",
         "type": "\"long\""
        },
        {
         "metadata": "{}",
         "name": "First_Name",
         "type": "\"string\""
        },
        {
         "metadata": "{}",
         "name": "Last_Name",
         "type": "\"string\""
        }
       ],
       "type": "table"
      }
     },
     "output_type": "display_data"
    }
   ],
   "source": [
    "from pyspark.sql.functions import split\n",
    "\n",
    "df1 = df_emp.withColumn('First_Name', split(df_emp['name'],' ').getItem(0)).withColumn('Last_Name', split(df_emp['name'],' ').getItem(1))\n",
    "display(df1)"
   ]
  },
  {
   "cell_type": "markdown",
   "metadata": {
    "application/vnd.databricks.v1+cell": {
     "cellMetadata": {},
     "inputWidgets": {},
     "nuid": "adc9da05-2dc5-411f-b756-e169ecabfbb7",
     "showTitle": false,
     "title": ""
    }
   },
   "source": [
    "####Second method of split"
   ]
  },
  {
   "cell_type": "code",
   "execution_count": 0,
   "metadata": {
    "application/vnd.databricks.v1+cell": {
     "cellMetadata": {
      "byteLimit": 2048000,
      "rowLimit": 10000
     },
     "inputWidgets": {},
     "nuid": "0f583b0e-d868-4f7c-bc38-0eb1bce49ae3",
     "showTitle": false,
     "title": ""
    }
   },
   "outputs": [
    {
     "output_type": "display_data",
     "data": {
      "text/html": [
       "<style scoped>\n",
       "  .table-result-container {\n",
       "    max-height: 300px;\n",
       "    overflow: auto;\n",
       "  }\n",
       "  table, th, td {\n",
       "    border: 1px solid black;\n",
       "    border-collapse: collapse;\n",
       "  }\n",
       "  th, td {\n",
       "    padding: 5px;\n",
       "  }\n",
       "  th {\n",
       "    text-align: left;\n",
       "  }\n",
       "</style><div class='table-result-container'><table class='table-result'><thead style='background-color: white'><tr><th>employee_id</th><th>name</th><th>doj</th><th>employee_dept_id</th><th>salary</th><th>First_Name</th><th>Last_Name</th></tr></thead><tbody><tr><td>10</td><td>raj kumar</td><td>1999-06-01</td><td>100</td><td>2000</td><td>raj</td><td>kumar</td></tr><tr><td>20</td><td>rahul kumar</td><td>2003-03-01</td><td>200</td><td>8000</td><td>rahul</td><td>kumar</td></tr><tr><td>30</td><td>raja singh</td><td>2005-04-01</td><td>100</td><td>6000</td><td>raja</td><td>singh</td></tr><tr><td>40</td><td>raghava</td><td>2008-10-1</td><td>100</td><td>9000</td><td>raghava</td><td>null</td></tr><tr><td>50</td><td>rama krishna</td><td>1996-02-01</td><td>400</td><td>14000</td><td>rama</td><td>krishna</td></tr><tr><td>60</td><td>Mathew simon</td><td>1994-11-01</td><td>500</td><td>12000</td><td>Mathew</td><td>simon</td></tr><tr><td>70</td><td>peter paul</td><td>2011-04-01</td><td>600</td><td>7000</td><td>peter</td><td>paul</td></tr></tbody></table></div>"
      ]
     },
     "metadata": {
      "application/vnd.databricks.v1+output": {
       "addedWidgets": {},
       "aggData": [],
       "aggError": "",
       "aggOverflow": false,
       "aggSchema": [],
       "aggSeriesLimitReached": false,
       "aggType": "",
       "arguments": {},
       "columnCustomDisplayInfos": {},
       "data": [
        [
         10,
         "raj kumar",
         "1999-06-01",
         "100",
         2000,
         "raj",
         "kumar"
        ],
        [
         20,
         "rahul kumar",
         "2003-03-01",
         "200",
         8000,
         "rahul",
         "kumar"
        ],
        [
         30,
         "raja singh",
         "2005-04-01",
         "100",
         6000,
         "raja",
         "singh"
        ],
        [
         40,
         "raghava",
         "2008-10-1",
         "100",
         9000,
         "raghava",
         null
        ],
        [
         50,
         "rama krishna",
         "1996-02-01",
         "400",
         14000,
         "rama",
         "krishna"
        ],
        [
         60,
         "Mathew simon",
         "1994-11-01",
         "500",
         12000,
         "Mathew",
         "simon"
        ],
        [
         70,
         "peter paul",
         "2011-04-01",
         "600",
         7000,
         "peter",
         "paul"
        ]
       ],
       "datasetInfos": [],
       "dbfsResultPath": null,
       "isJsonSchema": true,
       "metadata": {},
       "overflow": false,
       "plotOptions": {
        "customPlotOptions": {},
        "displayType": "table",
        "pivotAggregation": null,
        "pivotColumns": null,
        "xColumns": null,
        "yColumns": null
       },
       "removedWidgets": [],
       "schema": [
        {
         "metadata": "{}",
         "name": "employee_id",
         "type": "\"long\""
        },
        {
         "metadata": "{}",
         "name": "name",
         "type": "\"string\""
        },
        {
         "metadata": "{}",
         "name": "doj",
         "type": "\"string\""
        },
        {
         "metadata": "{}",
         "name": "employee_dept_id",
         "type": "\"string\""
        },
        {
         "metadata": "{}",
         "name": "salary",
         "type": "\"long\""
        },
        {
         "metadata": "{}",
         "name": "First_Name",
         "type": "\"string\""
        },
        {
         "metadata": "{}",
         "name": "Last_Name",
         "type": "\"string\""
        }
       ],
       "type": "table"
      }
     },
     "output_type": "display_data"
    }
   ],
   "source": [
    "import pyspark\n",
    "split_col = pyspark.sql.functions.split(df_emp['name'],' ')\n",
    "\n",
    "df2 = df_emp.withColumn('First_Name', split_col.getItem(0)).withColumn('Last_Name', split_col.getItem(1))\n",
    "display(df2)"
   ]
  },
  {
   "cell_type": "markdown",
   "metadata": {
    "application/vnd.databricks.v1+cell": {
     "cellMetadata": {},
     "inputWidgets": {},
     "nuid": "75f79166-9143-4430-b2bc-01036b3a73b6",
     "showTitle": false,
     "title": ""
    }
   },
   "source": [
    "####Third Method for split"
   ]
  },
  {
   "cell_type": "code",
   "execution_count": 0,
   "metadata": {
    "application/vnd.databricks.v1+cell": {
     "cellMetadata": {
      "byteLimit": 2048000,
      "rowLimit": 10000
     },
     "inputWidgets": {},
     "nuid": "8a228925-0e73-42b2-bd50-9e58e2f72e43",
     "showTitle": false,
     "title": ""
    }
   },
   "outputs": [
    {
     "output_type": "display_data",
     "data": {
      "text/html": [
       "<style scoped>\n",
       "  .table-result-container {\n",
       "    max-height: 300px;\n",
       "    overflow: auto;\n",
       "  }\n",
       "  table, th, td {\n",
       "    border: 1px solid black;\n",
       "    border-collapse: collapse;\n",
       "  }\n",
       "  th, td {\n",
       "    padding: 5px;\n",
       "  }\n",
       "  th {\n",
       "    text-align: left;\n",
       "  }\n",
       "</style><div class='table-result-container'><table class='table-result'><thead style='background-color: white'><tr><th>name</th><th>employee_id</th><th>Salary</th><th>employee_dept_id</th><th>joining_year</th><th>joining_month</th><th>joining_day</th></tr></thead><tbody><tr><td>raj kumar</td><td>10</td><td>2000</td><td>100</td><td>1999</td><td>06</td><td>01</td></tr><tr><td>rahul kumar</td><td>20</td><td>8000</td><td>200</td><td>2003</td><td>03</td><td>01</td></tr><tr><td>raja singh</td><td>30</td><td>6000</td><td>100</td><td>2005</td><td>04</td><td>01</td></tr><tr><td>raghava</td><td>40</td><td>9000</td><td>100</td><td>2008</td><td>10</td><td>1</td></tr><tr><td>rama krishna</td><td>50</td><td>14000</td><td>400</td><td>1996</td><td>02</td><td>01</td></tr><tr><td>Mathew simon</td><td>60</td><td>12000</td><td>500</td><td>1994</td><td>11</td><td>01</td></tr><tr><td>peter paul</td><td>70</td><td>7000</td><td>600</td><td>2011</td><td>04</td><td>01</td></tr></tbody></table></div>"
      ]
     },
     "metadata": {
      "application/vnd.databricks.v1+output": {
       "addedWidgets": {},
       "aggData": [],
       "aggError": "",
       "aggOverflow": false,
       "aggSchema": [],
       "aggSeriesLimitReached": false,
       "aggType": "",
       "arguments": {},
       "columnCustomDisplayInfos": {},
       "data": [
        [
         "raj kumar",
         10,
         2000,
         "100",
         "1999",
         "06",
         "01"
        ],
        [
         "rahul kumar",
         20,
         8000,
         "200",
         "2003",
         "03",
         "01"
        ],
        [
         "raja singh",
         30,
         6000,
         "100",
         "2005",
         "04",
         "01"
        ],
        [
         "raghava",
         40,
         9000,
         "100",
         "2008",
         "10",
         "1"
        ],
        [
         "rama krishna",
         50,
         14000,
         "400",
         "1996",
         "02",
         "01"
        ],
        [
         "Mathew simon",
         60,
         12000,
         "500",
         "1994",
         "11",
         "01"
        ],
        [
         "peter paul",
         70,
         7000,
         "600",
         "2011",
         "04",
         "01"
        ]
       ],
       "datasetInfos": [],
       "dbfsResultPath": null,
       "isJsonSchema": true,
       "metadata": {},
       "overflow": false,
       "plotOptions": {
        "customPlotOptions": {},
        "displayType": "table",
        "pivotAggregation": null,
        "pivotColumns": null,
        "xColumns": null,
        "yColumns": null
       },
       "removedWidgets": [],
       "schema": [
        {
         "metadata": "{}",
         "name": "name",
         "type": "\"string\""
        },
        {
         "metadata": "{}",
         "name": "employee_id",
         "type": "\"long\""
        },
        {
         "metadata": "{}",
         "name": "Salary",
         "type": "\"long\""
        },
        {
         "metadata": "{}",
         "name": "employee_dept_id",
         "type": "\"string\""
        },
        {
         "metadata": "{}",
         "name": "joining_year",
         "type": "\"string\""
        },
        {
         "metadata": "{}",
         "name": "joining_month",
         "type": "\"string\""
        },
        {
         "metadata": "{}",
         "name": "joining_day",
         "type": "\"string\""
        }
       ],
       "type": "table"
      }
     },
     "output_type": "display_data"
    }
   ],
   "source": [
    "import pyspark\n",
    "split_col = pyspark.sql.functions.split(df_emp['doj'],'-')\n",
    "\n",
    "df3 = df_emp.select('name','employee_id','Salary','employee_dept_id',split_col.getItem(0).alias('joining_year'),split_col.getItem(1).alias('joining_month'),split_col.getItem(2).alias('joining_day'))\n",
    "display(df3)"
   ]
  },
  {
   "cell_type": "markdown",
   "metadata": {
    "application/vnd.databricks.v1+cell": {
     "cellMetadata": {},
     "inputWidgets": {},
     "nuid": "e2463975-c2cc-4b55-b3f5-eed10673178f",
     "showTitle": false,
     "title": ""
    }
   },
   "source": [
    "####Split Multiple columns at once"
   ]
  },
  {
   "cell_type": "code",
   "execution_count": 0,
   "metadata": {
    "application/vnd.databricks.v1+cell": {
     "cellMetadata": {
      "byteLimit": 2048000,
      "rowLimit": 10000
     },
     "inputWidgets": {},
     "nuid": "432ed98f-148f-4af2-a0b4-3adbb6f64fd2",
     "showTitle": false,
     "title": ""
    }
   },
   "outputs": [
    {
     "output_type": "display_data",
     "data": {
      "text/html": [
       "<style scoped>\n",
       "  .table-result-container {\n",
       "    max-height: 300px;\n",
       "    overflow: auto;\n",
       "  }\n",
       "  table, th, td {\n",
       "    border: 1px solid black;\n",
       "    border-collapse: collapse;\n",
       "  }\n",
       "  th, td {\n",
       "    padding: 5px;\n",
       "  }\n",
       "  th {\n",
       "    text-align: left;\n",
       "  }\n",
       "</style><div class='table-result-container'><table class='table-result'><thead style='background-color: white'><tr><th>employee_id</th><th>name</th><th>doj</th><th>employee_dept_id</th><th>salary</th><th>First_Name</th><th>Last_Name</th><th>joining_year</th><th>joining_mnth</th><th>joining_day</th></tr></thead><tbody><tr><td>10</td><td>raj kumar</td><td>1999-06-01</td><td>100</td><td>2000</td><td>raj</td><td>kumar</td><td>1999</td><td>06</td><td>01</td></tr><tr><td>20</td><td>rahul kumar</td><td>2003-03-01</td><td>200</td><td>8000</td><td>rahul</td><td>kumar</td><td>2003</td><td>03</td><td>01</td></tr><tr><td>30</td><td>raja singh</td><td>2005-04-01</td><td>100</td><td>6000</td><td>raja</td><td>singh</td><td>2005</td><td>04</td><td>01</td></tr><tr><td>40</td><td>raghava</td><td>2008-10-1</td><td>100</td><td>9000</td><td>raghava</td><td>null</td><td>2008</td><td>10</td><td>1</td></tr><tr><td>50</td><td>rama krishna</td><td>1996-02-01</td><td>400</td><td>14000</td><td>rama</td><td>krishna</td><td>1996</td><td>02</td><td>01</td></tr><tr><td>60</td><td>Mathew simon</td><td>1994-11-01</td><td>500</td><td>12000</td><td>Mathew</td><td>simon</td><td>1994</td><td>11</td><td>01</td></tr><tr><td>70</td><td>peter paul</td><td>2011-04-01</td><td>600</td><td>7000</td><td>peter</td><td>paul</td><td>2011</td><td>04</td><td>01</td></tr></tbody></table></div>"
      ]
     },
     "metadata": {
      "application/vnd.databricks.v1+output": {
       "addedWidgets": {},
       "aggData": [],
       "aggError": "",
       "aggOverflow": false,
       "aggSchema": [],
       "aggSeriesLimitReached": false,
       "aggType": "",
       "arguments": {},
       "columnCustomDisplayInfos": {},
       "data": [
        [
         10,
         "raj kumar",
         "1999-06-01",
         "100",
         2000,
         "raj",
         "kumar",
         "1999",
         "06",
         "01"
        ],
        [
         20,
         "rahul kumar",
         "2003-03-01",
         "200",
         8000,
         "rahul",
         "kumar",
         "2003",
         "03",
         "01"
        ],
        [
         30,
         "raja singh",
         "2005-04-01",
         "100",
         6000,
         "raja",
         "singh",
         "2005",
         "04",
         "01"
        ],
        [
         40,
         "raghava",
         "2008-10-1",
         "100",
         9000,
         "raghava",
         null,
         "2008",
         "10",
         "1"
        ],
        [
         50,
         "rama krishna",
         "1996-02-01",
         "400",
         14000,
         "rama",
         "krishna",
         "1996",
         "02",
         "01"
        ],
        [
         60,
         "Mathew simon",
         "1994-11-01",
         "500",
         12000,
         "Mathew",
         "simon",
         "1994",
         "11",
         "01"
        ],
        [
         70,
         "peter paul",
         "2011-04-01",
         "600",
         7000,
         "peter",
         "paul",
         "2011",
         "04",
         "01"
        ]
       ],
       "datasetInfos": [],
       "dbfsResultPath": null,
       "isJsonSchema": true,
       "metadata": {},
       "overflow": false,
       "plotOptions": {
        "customPlotOptions": {},
        "displayType": "table",
        "pivotAggregation": null,
        "pivotColumns": null,
        "xColumns": null,
        "yColumns": null
       },
       "removedWidgets": [],
       "schema": [
        {
         "metadata": "{}",
         "name": "employee_id",
         "type": "\"long\""
        },
        {
         "metadata": "{}",
         "name": "name",
         "type": "\"string\""
        },
        {
         "metadata": "{}",
         "name": "doj",
         "type": "\"string\""
        },
        {
         "metadata": "{}",
         "name": "employee_dept_id",
         "type": "\"string\""
        },
        {
         "metadata": "{}",
         "name": "salary",
         "type": "\"long\""
        },
        {
         "metadata": "{}",
         "name": "First_Name",
         "type": "\"string\""
        },
        {
         "metadata": "{}",
         "name": "Last_Name",
         "type": "\"string\""
        },
        {
         "metadata": "{}",
         "name": "joining_year",
         "type": "\"string\""
        },
        {
         "metadata": "{}",
         "name": "joining_mnth",
         "type": "\"string\""
        },
        {
         "metadata": "{}",
         "name": "joining_day",
         "type": "\"string\""
        }
       ],
       "type": "table"
      }
     },
     "output_type": "display_data"
    }
   ],
   "source": [
    "from pyspark.sql.functions import split\n",
    "\n",
    "df4 = df_emp.withColumn('First_Name', split(df_emp['name'],' ').getItem(0))\\\n",
    "            .withColumn('Last_Name', split(df_emp['name'],' ').getItem(1))\\\n",
    "            .withColumn('joining_year', split(df_emp['doj'],'-').getItem(0))\\\n",
    "            .withColumn('joining_mnth', split(df_emp['doj'],'-').getItem(1))\\\n",
    "            .withColumn('joining_day', split(df_emp['doj'],'-').getItem(2))\n",
    "display(df4)"
   ]
  },
  {
   "cell_type": "markdown",
   "metadata": {
    "application/vnd.databricks.v1+cell": {
     "cellMetadata": {},
     "inputWidgets": {},
     "nuid": "76dede59-61da-446c-980b-f5469a9f0cff",
     "showTitle": false,
     "title": ""
    }
   },
   "source": [
    "#### Split and Drop splited columns"
   ]
  },
  {
   "cell_type": "code",
   "execution_count": 0,
   "metadata": {
    "application/vnd.databricks.v1+cell": {
     "cellMetadata": {
      "byteLimit": 2048000,
      "rowLimit": 10000
     },
     "inputWidgets": {},
     "nuid": "3adb1182-8fbf-4b9f-95eb-5f9aac0ad778",
     "showTitle": false,
     "title": ""
    }
   },
   "outputs": [
    {
     "output_type": "display_data",
     "data": {
      "text/html": [
       "<style scoped>\n",
       "  .table-result-container {\n",
       "    max-height: 300px;\n",
       "    overflow: auto;\n",
       "  }\n",
       "  table, th, td {\n",
       "    border: 1px solid black;\n",
       "    border-collapse: collapse;\n",
       "  }\n",
       "  th, td {\n",
       "    padding: 5px;\n",
       "  }\n",
       "  th {\n",
       "    text-align: left;\n",
       "  }\n",
       "</style><div class='table-result-container'><table class='table-result'><thead style='background-color: white'><tr><th>employee_id</th><th>employee_dept_id</th><th>salary</th><th>First_Name</th><th>Last_Name</th><th>joining_year</th><th>joining_mnth</th><th>joining_day</th></tr></thead><tbody><tr><td>10</td><td>100</td><td>2000</td><td>raj</td><td>kumar</td><td>1999</td><td>06</td><td>01</td></tr><tr><td>20</td><td>200</td><td>8000</td><td>rahul</td><td>kumar</td><td>2003</td><td>03</td><td>01</td></tr><tr><td>30</td><td>100</td><td>6000</td><td>raja</td><td>singh</td><td>2005</td><td>04</td><td>01</td></tr><tr><td>40</td><td>100</td><td>9000</td><td>raghava</td><td>null</td><td>2008</td><td>10</td><td>1</td></tr><tr><td>50</td><td>400</td><td>14000</td><td>rama</td><td>krishna</td><td>1996</td><td>02</td><td>01</td></tr><tr><td>60</td><td>500</td><td>12000</td><td>Mathew</td><td>simon</td><td>1994</td><td>11</td><td>01</td></tr><tr><td>70</td><td>600</td><td>7000</td><td>peter</td><td>paul</td><td>2011</td><td>04</td><td>01</td></tr></tbody></table></div>"
      ]
     },
     "metadata": {
      "application/vnd.databricks.v1+output": {
       "addedWidgets": {},
       "aggData": [],
       "aggError": "",
       "aggOverflow": false,
       "aggSchema": [],
       "aggSeriesLimitReached": false,
       "aggType": "",
       "arguments": {},
       "columnCustomDisplayInfos": {},
       "data": [
        [
         10,
         "100",
         2000,
         "raj",
         "kumar",
         "1999",
         "06",
         "01"
        ],
        [
         20,
         "200",
         8000,
         "rahul",
         "kumar",
         "2003",
         "03",
         "01"
        ],
        [
         30,
         "100",
         6000,
         "raja",
         "singh",
         "2005",
         "04",
         "01"
        ],
        [
         40,
         "100",
         9000,
         "raghava",
         null,
         "2008",
         "10",
         "1"
        ],
        [
         50,
         "400",
         14000,
         "rama",
         "krishna",
         "1996",
         "02",
         "01"
        ],
        [
         60,
         "500",
         12000,
         "Mathew",
         "simon",
         "1994",
         "11",
         "01"
        ],
        [
         70,
         "600",
         7000,
         "peter",
         "paul",
         "2011",
         "04",
         "01"
        ]
       ],
       "datasetInfos": [],
       "dbfsResultPath": null,
       "isJsonSchema": true,
       "metadata": {},
       "overflow": false,
       "plotOptions": {
        "customPlotOptions": {},
        "displayType": "table",
        "pivotAggregation": null,
        "pivotColumns": null,
        "xColumns": null,
        "yColumns": null
       },
       "removedWidgets": [],
       "schema": [
        {
         "metadata": "{}",
         "name": "employee_id",
         "type": "\"long\""
        },
        {
         "metadata": "{}",
         "name": "employee_dept_id",
         "type": "\"string\""
        },
        {
         "metadata": "{}",
         "name": "salary",
         "type": "\"long\""
        },
        {
         "metadata": "{}",
         "name": "First_Name",
         "type": "\"string\""
        },
        {
         "metadata": "{}",
         "name": "Last_Name",
         "type": "\"string\""
        },
        {
         "metadata": "{}",
         "name": "joining_year",
         "type": "\"string\""
        },
        {
         "metadata": "{}",
         "name": "joining_mnth",
         "type": "\"string\""
        },
        {
         "metadata": "{}",
         "name": "joining_day",
         "type": "\"string\""
        }
       ],
       "type": "table"
      }
     },
     "output_type": "display_data"
    }
   ],
   "source": [
    "from pyspark.sql.functions import split\n",
    "\n",
    "df5 = df_emp.withColumn('First_Name', split(df_emp['name'],' ').getItem(0))\\\n",
    "            .withColumn('Last_Name', split(df_emp['name'],' ').getItem(1))\\\n",
    "            .withColumn('joining_year', split(df_emp['doj'],'-').getItem(0))\\\n",
    "            .withColumn('joining_mnth', split(df_emp['doj'],'-').getItem(1))\\\n",
    "            .withColumn('joining_day', split(df_emp['doj'],'-').getItem(2))\\\n",
    "            .drop(df_emp['name'])\\\n",
    "            .drop(df_emp['doj'])\n",
    "\n",
    "display(df5)"
   ]
  },
  {
   "cell_type": "code",
   "execution_count": 0,
   "metadata": {
    "application/vnd.databricks.v1+cell": {
     "cellMetadata": {},
     "inputWidgets": {},
     "nuid": "e5a9d780-c712-41e8-9e96-48c4a8810f07",
     "showTitle": false,
     "title": ""
    }
   },
   "outputs": [],
   "source": []
  }
 ],
 "metadata": {
  "application/vnd.databricks.v1+notebook": {
   "dashboards": [],
   "language": "python",
   "notebookMetadata": {
    "pythonIndentUnit": 4
   },
   "notebookName": "Spark SQL Function-Split 2023-06-06 23:06:22",
   "widgets": {}
  }
 },
 "nbformat": 4,
 "nbformat_minor": 0
}
