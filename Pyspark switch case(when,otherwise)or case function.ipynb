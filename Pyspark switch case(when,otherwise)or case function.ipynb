{
 "cells": [
  {
   "cell_type": "code",
   "execution_count": 0,
   "metadata": {
    "application/vnd.databricks.v1+cell": {
     "cellMetadata": {
      "byteLimit": 2048000,
      "rowLimit": 10000
     },
     "inputWidgets": {},
     "nuid": "15234e25-19c0-408b-b37a-8cb3a287506b",
     "showTitle": false,
     "title": ""
    }
   },
   "outputs": [
    {
     "output_type": "display_data",
     "data": {
      "text/html": [
       "<style scoped>\n",
       "  .table-result-container {\n",
       "    max-height: 300px;\n",
       "    overflow: auto;\n",
       "  }\n",
       "  table, th, td {\n",
       "    border: 1px solid black;\n",
       "    border-collapse: collapse;\n",
       "  }\n",
       "  th, td {\n",
       "    padding: 5px;\n",
       "  }\n",
       "  th {\n",
       "    text-align: left;\n",
       "  }\n",
       "</style><div class='table-result-container'><table class='table-result'><thead style='background-color: white'><tr><th>name</th><th>subject</th><th>Mark</th><th>status</th><th>attendence</th></tr></thead><tbody><tr><td>raja</td><td>science</td><td>80</td><td>p</td><td>90</td></tr><tr><td>rakesh</td><td>maths</td><td>90</td><td>p</td><td>70</td></tr><tr><td>rama</td><td>english</td><td>20</td><td>f</td><td>80</td></tr><tr><td>ramesh</td><td>science</td><td>45</td><td>f</td><td>75</td></tr><tr><td>rajesh</td><td>maths</td><td>30</td><td>f</td><td>50</td></tr><tr><td>raghav</td><td>maths</td><td>null</td><td>NA</td><td>70</td></tr></tbody></table></div>"
      ]
     },
     "metadata": {
      "application/vnd.databricks.v1+output": {
       "addedWidgets": {},
       "aggData": [],
       "aggError": "",
       "aggOverflow": false,
       "aggSchema": [],
       "aggSeriesLimitReached": false,
       "aggType": "",
       "arguments": {},
       "columnCustomDisplayInfos": {},
       "data": [
        [
         "raja",
         "science",
         80,
         "p",
         90
        ],
        [
         "rakesh",
         "maths",
         90,
         "p",
         70
        ],
        [
         "rama",
         "english",
         20,
         "f",
         80
        ],
        [
         "ramesh",
         "science",
         45,
         "f",
         75
        ],
        [
         "rajesh",
         "maths",
         30,
         "f",
         50
        ],
        [
         "raghav",
         "maths",
         null,
         "NA",
         70
        ]
       ],
       "datasetInfos": [],
       "dbfsResultPath": null,
       "isJsonSchema": true,
       "metadata": {},
       "overflow": false,
       "plotOptions": {
        "customPlotOptions": {},
        "displayType": "table",
        "pivotAggregation": null,
        "pivotColumns": null,
        "xColumns": null,
        "yColumns": null
       },
       "removedWidgets": [],
       "schema": [
        {
         "metadata": "{}",
         "name": "name",
         "type": "\"string\""
        },
        {
         "metadata": "{}",
         "name": "subject",
         "type": "\"string\""
        },
        {
         "metadata": "{}",
         "name": "Mark",
         "type": "\"long\""
        },
        {
         "metadata": "{}",
         "name": "status",
         "type": "\"string\""
        },
        {
         "metadata": "{}",
         "name": "attendence",
         "type": "\"long\""
        }
       ],
       "type": "table"
      }
     },
     "output_type": "display_data"
    }
   ],
   "source": [
    "data_student = [('raja','science',80,'p',90),\n",
    "                ('rakesh','maths',90,'p',70),\n",
    "                ('rama','english',20,'f',80),\n",
    "                ('ramesh','science',45,'f',75),\n",
    "                ('rajesh','maths',30,'f',50),\n",
    "                ('raghav','maths',None,'NA',70)]\n",
    "Schema = ['name','subject','Mark','status','attendence']\n",
    "df = spark.createDataFrame(data=data_student, schema = Schema)\n",
    "display(df)"
   ]
  },
  {
   "cell_type": "markdown",
   "metadata": {
    "application/vnd.databricks.v1+cell": {
     "cellMetadata": {},
     "inputWidgets": {},
     "nuid": "47b41b99-7da8-4d30-bf85-7a1e3c44824f",
     "showTitle": false,
     "title": ""
    }
   },
   "source": [
    "###Update the existing column"
   ]
  },
  {
   "cell_type": "code",
   "execution_count": 0,
   "metadata": {
    "application/vnd.databricks.v1+cell": {
     "cellMetadata": {
      "byteLimit": 2048000,
      "rowLimit": 10000
     },
     "inputWidgets": {},
     "nuid": "abae0f24-051c-4a4f-8a24-d88314aed167",
     "showTitle": false,
     "title": ""
    }
   },
   "outputs": [
    {
     "output_type": "stream",
     "name": "stdout",
     "output_type": "stream",
     "text": [
      "+------+-------+----+--------+----------+\n|  name|subject|Mark|  status|attendence|\n+------+-------+----+--------+----------+\n|  raja|science|  80|    pass|        90|\n|rakesh|  maths|  90|    pass|        70|\n|  rama|english|  20|    fail|        80|\n|ramesh|science|  45|    fail|        75|\n|rajesh|  maths|  30|    fail|        50|\n|raghav|  maths|null|Absentee|        70|\n+------+-------+----+--------+----------+\n\n"
     ]
    }
   ],
   "source": [
    "\n",
    "from pyspark.sql.functions import when\n",
    "df1 = df.withColumn(\"status\", when(df.Mark >= 50,\"pass\")\n",
    "                                 .when(df.Mark < 50, 'fail')\n",
    "                                 .otherwise('Absentee'))\n",
    "df1.show()"
   ]
  },
  {
   "cell_type": "markdown",
   "metadata": {
    "application/vnd.databricks.v1+cell": {
     "cellMetadata": {},
     "inputWidgets": {},
     "nuid": "79207347-0854-4f33-b089-9d5e1689d065",
     "showTitle": false,
     "title": ""
    }
   },
   "source": [
    "###create new column"
   ]
  },
  {
   "cell_type": "code",
   "execution_count": 0,
   "metadata": {
    "application/vnd.databricks.v1+cell": {
     "cellMetadata": {
      "byteLimit": 2048000,
      "rowLimit": 10000
     },
     "inputWidgets": {},
     "nuid": "8733811b-54ec-41c2-9a53-f45c103b64b4",
     "showTitle": false,
     "title": ""
    }
   },
   "outputs": [
    {
     "output_type": "stream",
     "name": "stdout",
     "output_type": "stream",
     "text": [
      "+------+-------+----+------+----------+----------+\n|  name|subject|Mark|status|attendence|New_column|\n+------+-------+----+------+----------+----------+\n|  raja|science|  80|     p|        90|      pass|\n|rakesh|  maths|  90|     p|        70|      pass|\n|  rama|english|  20|     f|        80|      fail|\n|ramesh|science|  45|     f|        75|      fail|\n|rajesh|  maths|  30|     f|        50|      fail|\n|raghav|  maths|null|    NA|        70|  Absentee|\n+------+-------+----+------+----------+----------+\n\n"
     ]
    }
   ],
   "source": [
    "\n",
    "from pyspark.sql.functions import when\n",
    "df2 = df.withColumn(\"New_column\", when(df.Mark >= 50,\"pass\")\n",
    "                                 .when(df.Mark < 50, 'fail')\n",
    "                                 .otherwise('Absentee'))\n",
    "df2.show()"
   ]
  },
  {
   "cell_type": "markdown",
   "metadata": {
    "application/vnd.databricks.v1+cell": {
     "cellMetadata": {},
     "inputWidgets": {},
     "nuid": "d894a813-7bbf-4afc-ac9a-d93c4d8b63cf",
     "showTitle": false,
     "title": ""
    }
   },
   "source": [
    "###Multi conditions using AND and OR Operators"
   ]
  },
  {
   "cell_type": "code",
   "execution_count": 0,
   "metadata": {
    "application/vnd.databricks.v1+cell": {
     "cellMetadata": {
      "byteLimit": 2048000,
      "rowLimit": 10000
     },
     "inputWidgets": {},
     "nuid": "6076ced8-a7d9-4482-8b90-9645d2498e32",
     "showTitle": false,
     "title": ""
    }
   },
   "outputs": [
    {
     "output_type": "display_data",
     "data": {
      "text/html": [
       "<style scoped>\n",
       "  .table-result-container {\n",
       "    max-height: 300px;\n",
       "    overflow: auto;\n",
       "  }\n",
       "  table, th, td {\n",
       "    border: 1px solid black;\n",
       "    border-collapse: collapse;\n",
       "  }\n",
       "  th, td {\n",
       "    padding: 5px;\n",
       "  }\n",
       "  th {\n",
       "    text-align: left;\n",
       "  }\n",
       "</style><div class='table-result-container'><table class='table-result'><thead style='background-color: white'><tr><th>name</th><th>subject</th><th>Mark</th><th>status</th><th>attendence</th><th>Grade</th></tr></thead><tbody><tr><td>raja</td><td>science</td><td>80</td><td>p</td><td>90</td><td>Distinction</td></tr><tr><td>rakesh</td><td>maths</td><td>90</td><td>p</td><td>70</td><td>Good</td></tr><tr><td>rama</td><td>english</td><td>20</td><td>f</td><td>80</td><td>Average</td></tr><tr><td>ramesh</td><td>science</td><td>45</td><td>f</td><td>75</td><td>Average</td></tr><tr><td>rajesh</td><td>maths</td><td>30</td><td>f</td><td>50</td><td>Average</td></tr><tr><td>raghav</td><td>maths</td><td>null</td><td>NA</td><td>70</td><td>Average</td></tr></tbody></table></div>"
      ]
     },
     "metadata": {
      "application/vnd.databricks.v1+output": {
       "addedWidgets": {},
       "aggData": [],
       "aggError": "",
       "aggOverflow": false,
       "aggSchema": [],
       "aggSeriesLimitReached": false,
       "aggType": "",
       "arguments": {},
       "columnCustomDisplayInfos": {},
       "data": [
        [
         "raja",
         "science",
         80,
         "p",
         90,
         "Distinction"
        ],
        [
         "rakesh",
         "maths",
         90,
         "p",
         70,
         "Good"
        ],
        [
         "rama",
         "english",
         20,
         "f",
         80,
         "Average"
        ],
        [
         "ramesh",
         "science",
         45,
         "f",
         75,
         "Average"
        ],
        [
         "rajesh",
         "maths",
         30,
         "f",
         50,
         "Average"
        ],
        [
         "raghav",
         "maths",
         null,
         "NA",
         70,
         "Average"
        ]
       ],
       "datasetInfos": [],
       "dbfsResultPath": null,
       "isJsonSchema": true,
       "metadata": {},
       "overflow": false,
       "plotOptions": {
        "customPlotOptions": {},
        "displayType": "table",
        "pivotAggregation": null,
        "pivotColumns": null,
        "xColumns": null,
        "yColumns": null
       },
       "removedWidgets": [],
       "schema": [
        {
         "metadata": "{}",
         "name": "name",
         "type": "\"string\""
        },
        {
         "metadata": "{}",
         "name": "subject",
         "type": "\"string\""
        },
        {
         "metadata": "{}",
         "name": "Mark",
         "type": "\"long\""
        },
        {
         "metadata": "{}",
         "name": "status",
         "type": "\"string\""
        },
        {
         "metadata": "{}",
         "name": "attendence",
         "type": "\"long\""
        },
        {
         "metadata": "{}",
         "name": "Grade",
         "type": "\"string\""
        }
       ],
       "type": "table"
      }
     },
     "output_type": "display_data"
    }
   ],
   "source": [
    "from pyspark.sql.functions import when\n",
    "df4 = df.withColumn('Grade', when((df.Mark >= 80) & (df.attendence >= 80),'Distinction')\n",
    "                    .when((df.Mark >= 50) & (df.attendence >= 50),'Good')\n",
    "                    .otherwise('Average'))\n",
    "display(df4)"
   ]
  },
  {
   "cell_type": "code",
   "execution_count": 0,
   "metadata": {
    "application/vnd.databricks.v1+cell": {
     "cellMetadata": {
      "byteLimit": 2048000,
      "rowLimit": 10000
     },
     "inputWidgets": {},
     "nuid": "c5163e2c-fcc5-4009-a36d-4ef26ff3a4d0",
     "showTitle": false,
     "title": ""
    }
   },
   "outputs": [
    {
     "output_type": "display_data",
     "data": {
      "text/html": [
       "<style scoped>\n",
       "  .table-result-container {\n",
       "    max-height: 300px;\n",
       "    overflow: auto;\n",
       "  }\n",
       "  table, th, td {\n",
       "    border: 1px solid black;\n",
       "    border-collapse: collapse;\n",
       "  }\n",
       "  th, td {\n",
       "    padding: 5px;\n",
       "  }\n",
       "  th {\n",
       "    text-align: left;\n",
       "  }\n",
       "</style><div class='table-result-container'><table class='table-result'><thead style='background-color: white'><tr><th>name</th><th>subject</th><th>Mark</th><th>status</th><th>attendence</th><th>Grade</th></tr></thead><tbody><tr><td>raja</td><td>science</td><td>80</td><td>p</td><td>90</td><td>Distinction</td></tr><tr><td>rakesh</td><td>maths</td><td>90</td><td>p</td><td>70</td><td>Distinction</td></tr><tr><td>rama</td><td>english</td><td>20</td><td>f</td><td>80</td><td>Distinction</td></tr><tr><td>ramesh</td><td>science</td><td>45</td><td>f</td><td>75</td><td>Good</td></tr><tr><td>rajesh</td><td>maths</td><td>30</td><td>f</td><td>50</td><td>Good</td></tr><tr><td>raghav</td><td>maths</td><td>null</td><td>NA</td><td>70</td><td>Good</td></tr></tbody></table></div>"
      ]
     },
     "metadata": {
      "application/vnd.databricks.v1+output": {
       "addedWidgets": {},
       "aggData": [],
       "aggError": "",
       "aggOverflow": false,
       "aggSchema": [],
       "aggSeriesLimitReached": false,
       "aggType": "",
       "arguments": {},
       "columnCustomDisplayInfos": {},
       "data": [
        [
         "raja",
         "science",
         80,
         "p",
         90,
         "Distinction"
        ],
        [
         "rakesh",
         "maths",
         90,
         "p",
         70,
         "Distinction"
        ],
        [
         "rama",
         "english",
         20,
         "f",
         80,
         "Distinction"
        ],
        [
         "ramesh",
         "science",
         45,
         "f",
         75,
         "Good"
        ],
        [
         "rajesh",
         "maths",
         30,
         "f",
         50,
         "Good"
        ],
        [
         "raghav",
         "maths",
         null,
         "NA",
         70,
         "Good"
        ]
       ],
       "datasetInfos": [],
       "dbfsResultPath": null,
       "isJsonSchema": true,
       "metadata": {},
       "overflow": false,
       "plotOptions": {
        "customPlotOptions": {},
        "displayType": "table",
        "pivotAggregation": null,
        "pivotColumns": null,
        "xColumns": null,
        "yColumns": null
       },
       "removedWidgets": [],
       "schema": [
        {
         "metadata": "{}",
         "name": "name",
         "type": "\"string\""
        },
        {
         "metadata": "{}",
         "name": "subject",
         "type": "\"string\""
        },
        {
         "metadata": "{}",
         "name": "Mark",
         "type": "\"long\""
        },
        {
         "metadata": "{}",
         "name": "status",
         "type": "\"string\""
        },
        {
         "metadata": "{}",
         "name": "attendence",
         "type": "\"long\""
        },
        {
         "metadata": "{}",
         "name": "Grade",
         "type": "\"string\""
        }
       ],
       "type": "table"
      }
     },
     "output_type": "display_data"
    }
   ],
   "source": [
    "from pyspark.sql.functions import when\n",
    "df4 = df.withColumn('Grade', when((df.Mark >= 80) | (df.attendence >= 80),'Distinction')\n",
    "                    .when((df.Mark >= 50) | (df.attendence >= 50),'Good')\n",
    "                    .otherwise('Average'))\n",
    "display(df4)"
   ]
  },
  {
   "cell_type": "code",
   "execution_count": 0,
   "metadata": {
    "application/vnd.databricks.v1+cell": {
     "cellMetadata": {},
     "inputWidgets": {},
     "nuid": "a18214fe-0c55-4241-aaca-d2322922e979",
     "showTitle": false,
     "title": ""
    }
   },
   "outputs": [],
   "source": []
  }
 ],
 "metadata": {
  "application/vnd.databricks.v1+notebook": {
   "dashboards": [],
   "language": "python",
   "notebookMetadata": {
    "pythonIndentUnit": 4
   },
   "notebookName": "Pyspark switch case(when,otherwise)or case function",
   "widgets": {}
  }
 },
 "nbformat": 4,
 "nbformat_minor": 0
}
