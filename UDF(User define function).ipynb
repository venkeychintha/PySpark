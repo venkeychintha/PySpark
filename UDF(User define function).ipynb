{
 "cells": [
  {
   "cell_type": "code",
   "execution_count": 0,
   "metadata": {
    "application/vnd.databricks.v1+cell": {
     "cellMetadata": {
      "byteLimit": 2048000,
      "rowLimit": 10000
     },
     "inputWidgets": {},
     "nuid": "3200fb79-f4d8-40b0-9454-9fb6f4d2eeba",
     "showTitle": false,
     "title": ""
    }
   },
   "outputs": [
    {
     "output_type": "display_data",
     "data": {
      "text/html": [
       "<style scoped>\n",
       "  .table-result-container {\n",
       "    max-height: 300px;\n",
       "    overflow: auto;\n",
       "  }\n",
       "  table, th, td {\n",
       "    border: 1px solid black;\n",
       "    border-collapse: collapse;\n",
       "  }\n",
       "  th, td {\n",
       "    padding: 5px;\n",
       "  }\n",
       "  th {\n",
       "    text-align: left;\n",
       "  }\n",
       "</style><div class='table-result-container'><table class='table-result'><thead style='background-color: white'><tr><th>Name</th><th>Subject</th><th>Mark</th><th>Status</th><th>Attandance</th></tr></thead><tbody><tr><td>Micheal</td><td>science</td><td>80</td><td>p</td><td>90</td></tr><tr><td>Nancy</td><td>mathmatics</td><td>90</td><td>p</td><td>null</td></tr><tr><td>David</td><td>english</td><td>20</td><td>f</td><td>80</td></tr><tr><td>John</td><td>science</td><td>null</td><td>f</td><td>75</td></tr><tr><td>Blessy</td><td>null</td><td>30</td><td>f</td><td>50</td></tr><tr><td>Martin</td><td>mathmatics</td><td>null</td><td>null</td><td>70</td></tr></tbody></table></div>"
      ]
     },
     "metadata": {
      "application/vnd.databricks.v1+output": {
       "addedWidgets": {},
       "aggData": [],
       "aggError": "",
       "aggOverflow": false,
       "aggSchema": [],
       "aggSeriesLimitReached": false,
       "aggType": "",
       "arguments": {},
       "columnCustomDisplayInfos": {},
       "data": [
        [
         "Micheal",
         "science",
         80,
         "p",
         "90"
        ],
        [
         "Nancy",
         "mathmatics",
         90,
         "p",
         null
        ],
        [
         "David",
         "english",
         20,
         "f",
         "80"
        ],
        [
         "John",
         "science",
         null,
         "f",
         "75"
        ],
        [
         "Blessy",
         null,
         30,
         "f",
         "50"
        ],
        [
         "Martin",
         "mathmatics",
         null,
         null,
         "70"
        ]
       ],
       "datasetInfos": [],
       "dbfsResultPath": null,
       "isJsonSchema": true,
       "metadata": {},
       "overflow": false,
       "plotOptions": {
        "customPlotOptions": {},
        "displayType": "table",
        "pivotAggregation": null,
        "pivotColumns": null,
        "xColumns": null,
        "yColumns": null
       },
       "removedWidgets": [],
       "schema": [
        {
         "metadata": "{}",
         "name": "Name",
         "type": "\"string\""
        },
        {
         "metadata": "{}",
         "name": "Subject",
         "type": "\"string\""
        },
        {
         "metadata": "{}",
         "name": "Mark",
         "type": "\"long\""
        },
        {
         "metadata": "{}",
         "name": "Status",
         "type": "\"string\""
        },
        {
         "metadata": "{}",
         "name": "Attandance",
         "type": "\"string\""
        }
       ],
       "type": "table"
      }
     },
     "output_type": "display_data"
    }
   ],
   "source": [
    "data_student = [(\"Micheal\",'science',80,'p','90'),\n",
    "                (\"Nancy\",'mathmatics',90,'p',None),\n",
    "                (\"David\",'english',20,'f','80'),\n",
    "                (\"John\",'science',None,'f','75'),\n",
    "                (\"Blessy\",None,30,'f','50'),\n",
    "                (\"Martin\",'mathmatics',None,None,'70')]\n",
    "schema = ['Name','Subject','Mark','Status','Attandance']\n",
    "\n",
    "df = spark.createDataFrame(data=data_student, schema=schema)\n",
    "display(df)"
   ]
  },
  {
   "cell_type": "markdown",
   "metadata": {
    "application/vnd.databricks.v1+cell": {
     "cellMetadata": {
      "byteLimit": 2048000,
      "rowLimit": 10000
     },
     "inputWidgets": {},
     "nuid": "5a1cf172-c4e5-4fdc-8c8f-3a5fb1c17dd7",
     "showTitle": false,
     "title": ""
    }
   },
   "source": [
    "####Filter all records with Null Values"
   ]
  },
  {
   "cell_type": "code",
   "execution_count": 0,
   "metadata": {
    "application/vnd.databricks.v1+cell": {
     "cellMetadata": {
      "byteLimit": 2048000,
      "rowLimit": 10000
     },
     "inputWidgets": {},
     "nuid": "dd90ed3f-97bc-413a-8849-380dc87aa03d",
     "showTitle": true,
     "title": ""
    }
   },
   "outputs": [
    {
     "output_type": "display_data",
     "data": {
      "text/html": [
       "<style scoped>\n",
       "  .table-result-container {\n",
       "    max-height: 300px;\n",
       "    overflow: auto;\n",
       "  }\n",
       "  table, th, td {\n",
       "    border: 1px solid black;\n",
       "    border-collapse: collapse;\n",
       "  }\n",
       "  th, td {\n",
       "    padding: 5px;\n",
       "  }\n",
       "  th {\n",
       "    text-align: left;\n",
       "  }\n",
       "</style><div class='table-result-container'><table class='table-result'><thead style='background-color: white'><tr><th>Name</th><th>Subject</th><th>Mark</th><th>Status</th><th>Attandance</th></tr></thead><tbody><tr><td>John</td><td>science</td><td>null</td><td>f</td><td>75</td></tr><tr><td>Martin</td><td>mathmatics</td><td>null</td><td>null</td><td>70</td></tr></tbody></table></div>"
      ]
     },
     "metadata": {
      "application/vnd.databricks.v1+output": {
       "addedWidgets": {},
       "aggData": [],
       "aggError": "",
       "aggOverflow": false,
       "aggSchema": [],
       "aggSeriesLimitReached": false,
       "aggType": "",
       "arguments": {},
       "columnCustomDisplayInfos": {},
       "data": [
        [
         "John",
         "science",
         null,
         "f",
         "75"
        ],
        [
         "Martin",
         "mathmatics",
         null,
         null,
         "70"
        ]
       ],
       "datasetInfos": [],
       "dbfsResultPath": null,
       "isJsonSchema": true,
       "metadata": {},
       "overflow": false,
       "plotOptions": {
        "customPlotOptions": {},
        "displayType": "table",
        "pivotAggregation": null,
        "pivotColumns": null,
        "xColumns": null,
        "yColumns": null
       },
       "removedWidgets": [],
       "schema": [
        {
         "metadata": "{}",
         "name": "Name",
         "type": "\"string\""
        },
        {
         "metadata": "{}",
         "name": "Subject",
         "type": "\"string\""
        },
        {
         "metadata": "{}",
         "name": "Mark",
         "type": "\"long\""
        },
        {
         "metadata": "{}",
         "name": "Status",
         "type": "\"string\""
        },
        {
         "metadata": "{}",
         "name": "Attandance",
         "type": "\"string\""
        }
       ],
       "type": "table"
      }
     },
     "output_type": "display_data"
    }
   ],
   "source": [
    "display(df.filter(df.Mark.isNull()))\n",
    "\n",
    "#display(df.filter('Mark is null'))\n",
    "\n",
    "#from pyspark.sql.functions import col\n",
    "#display(df.filter(col('Mark').isNull()))"
   ]
  },
  {
   "cell_type": "markdown",
   "metadata": {
    "application/vnd.databricks.v1+cell": {
     "cellMetadata": {
      "byteLimit": 2048000,
      "rowLimit": 10000
     },
     "inputWidgets": {},
     "nuid": "9c49ca23-8054-423d-9098-f3efe6efe65f",
     "showTitle": false,
     "title": ""
    }
   },
   "source": [
    "####Filter all records without null values"
   ]
  },
  {
   "cell_type": "code",
   "execution_count": 0,
   "metadata": {
    "application/vnd.databricks.v1+cell": {
     "cellMetadata": {
      "byteLimit": 2048000,
      "rowLimit": 10000
     },
     "inputWidgets": {},
     "nuid": "aea89439-f74d-4470-92cd-3369169930f1",
     "showTitle": false,
     "title": ""
    }
   },
   "outputs": [
    {
     "output_type": "display_data",
     "data": {
      "text/html": [
       "<style scoped>\n",
       "  .table-result-container {\n",
       "    max-height: 300px;\n",
       "    overflow: auto;\n",
       "  }\n",
       "  table, th, td {\n",
       "    border: 1px solid black;\n",
       "    border-collapse: collapse;\n",
       "  }\n",
       "  th, td {\n",
       "    padding: 5px;\n",
       "  }\n",
       "  th {\n",
       "    text-align: left;\n",
       "  }\n",
       "</style><div class='table-result-container'><table class='table-result'><thead style='background-color: white'><tr><th>Name</th><th>Subject</th><th>Mark</th><th>Status</th><th>Attandance</th></tr></thead><tbody><tr><td>Micheal</td><td>science</td><td>80</td><td>p</td><td>90</td></tr><tr><td>Nancy</td><td>mathmatics</td><td>90</td><td>p</td><td>null</td></tr><tr><td>David</td><td>english</td><td>20</td><td>f</td><td>80</td></tr><tr><td>Blessy</td><td>null</td><td>30</td><td>f</td><td>50</td></tr></tbody></table></div>"
      ]
     },
     "metadata": {
      "application/vnd.databricks.v1+output": {
       "addedWidgets": {},
       "aggData": [],
       "aggError": "",
       "aggOverflow": false,
       "aggSchema": [],
       "aggSeriesLimitReached": false,
       "aggType": "",
       "arguments": {},
       "columnCustomDisplayInfos": {},
       "data": [
        [
         "Micheal",
         "science",
         80,
         "p",
         "90"
        ],
        [
         "Nancy",
         "mathmatics",
         90,
         "p",
         null
        ],
        [
         "David",
         "english",
         20,
         "f",
         "80"
        ],
        [
         "Blessy",
         null,
         30,
         "f",
         "50"
        ]
       ],
       "datasetInfos": [],
       "dbfsResultPath": null,
       "isJsonSchema": true,
       "metadata": {},
       "overflow": false,
       "plotOptions": {
        "customPlotOptions": {},
        "displayType": "table",
        "pivotAggregation": null,
        "pivotColumns": null,
        "xColumns": null,
        "yColumns": null
       },
       "removedWidgets": [],
       "schema": [
        {
         "metadata": "{}",
         "name": "Name",
         "type": "\"string\""
        },
        {
         "metadata": "{}",
         "name": "Subject",
         "type": "\"string\""
        },
        {
         "metadata": "{}",
         "name": "Mark",
         "type": "\"long\""
        },
        {
         "metadata": "{}",
         "name": "Status",
         "type": "\"string\""
        },
        {
         "metadata": "{}",
         "name": "Attandance",
         "type": "\"string\""
        }
       ],
       "type": "table"
      }
     },
     "output_type": "display_data"
    }
   ],
   "source": [
    "display(df.filter(df.Mark.isNotNull()))"
   ]
  },
  {
   "cell_type": "code",
   "execution_count": 0,
   "metadata": {
    "application/vnd.databricks.v1+cell": {
     "cellMetadata": {
      "byteLimit": 2048000,
      "rowLimit": 10000
     },
     "inputWidgets": {},
     "nuid": "3549a390-3752-4eef-b045-a2c8343fc3af",
     "showTitle": false,
     "title": ""
    }
   },
   "outputs": [
    {
     "output_type": "display_data",
     "data": {
      "text/html": [
       "<style scoped>\n",
       "  .table-result-container {\n",
       "    max-height: 300px;\n",
       "    overflow: auto;\n",
       "  }\n",
       "  table, th, td {\n",
       "    border: 1px solid black;\n",
       "    border-collapse: collapse;\n",
       "  }\n",
       "  th, td {\n",
       "    padding: 5px;\n",
       "  }\n",
       "  th {\n",
       "    text-align: left;\n",
       "  }\n",
       "</style><div class='table-result-container'><table class='table-result'><thead style='background-color: white'><tr><th>Name</th><th>Subject</th><th>Mark</th><th>Status</th><th>Attandance</th></tr></thead><tbody><tr><td>Micheal</td><td>science</td><td>80</td><td>p</td><td>90</td></tr><tr><td>David</td><td>english</td><td>20</td><td>f</td><td>80</td></tr><tr><td>Blessy</td><td>null</td><td>30</td><td>f</td><td>50</td></tr></tbody></table></div>"
      ]
     },
     "metadata": {
      "application/vnd.databricks.v1+output": {
       "addedWidgets": {},
       "aggData": [],
       "aggError": "",
       "aggOverflow": false,
       "aggSchema": [],
       "aggSeriesLimitReached": false,
       "aggType": "",
       "arguments": {},
       "columnCustomDisplayInfos": {},
       "data": [
        [
         "Micheal",
         "science",
         80,
         "p",
         "90"
        ],
        [
         "David",
         "english",
         20,
         "f",
         "80"
        ],
        [
         "Blessy",
         null,
         30,
         "f",
         "50"
        ]
       ],
       "datasetInfos": [],
       "dbfsResultPath": null,
       "isJsonSchema": true,
       "metadata": {},
       "overflow": false,
       "plotOptions": {
        "customPlotOptions": {},
        "displayType": "table",
        "pivotAggregation": null,
        "pivotColumns": null,
        "xColumns": null,
        "yColumns": null
       },
       "removedWidgets": [],
       "schema": [
        {
         "metadata": "{}",
         "name": "Name",
         "type": "\"string\""
        },
        {
         "metadata": "{}",
         "name": "Subject",
         "type": "\"string\""
        },
        {
         "metadata": "{}",
         "name": "Mark",
         "type": "\"long\""
        },
        {
         "metadata": "{}",
         "name": "Status",
         "type": "\"string\""
        },
        {
         "metadata": "{}",
         "name": "Attandance",
         "type": "\"string\""
        }
       ],
       "type": "table"
      }
     },
     "output_type": "display_data"
    }
   ],
   "source": [
    "display(df.filter((df.Mark.isNotNull()) & (df.Attandance.isNotNull())))"
   ]
  },
  {
   "cell_type": "code",
   "execution_count": 0,
   "metadata": {
    "application/vnd.databricks.v1+cell": {
     "cellMetadata": {
      "byteLimit": 2048000,
      "rowLimit": 10000
     },
     "inputWidgets": {},
     "nuid": "9d80cd92-ccad-470d-9e47-db5d094ac945",
     "showTitle": false,
     "title": ""
    }
   },
   "outputs": [
    {
     "output_type": "display_data",
     "data": {
      "application/vnd.databricks.v1+bamboolib_hint": "{\"pd.DataFrames\": [], \"version\": \"0.0.1\"}",
      "text/plain": []
     },
     "metadata": {},
     "output_type": "display_data"
    },
    {
     "output_type": "execute_result",
     "data": {
      "text/plain": [
       "DataFrame[Name: string, Subject: string, Mark: bigint, Status: string, Attandance: string]"
      ]
     },
     "execution_count": 7,
     "metadata": {},
     "output_type": "execute_result"
    }
   ],
   "source": [
    "import pandas as pd\n",
    "df1 = df.dropna()\n",
    "df1"
   ]
  },
  {
   "cell_type": "code",
   "execution_count": 0,
   "metadata": {
    "application/vnd.databricks.v1+cell": {
     "cellMetadata": {
      "byteLimit": 2048000,
      "rowLimit": 10000
     },
     "inputWidgets": {},
     "nuid": "c9a1cfe7-1b49-423d-a4aa-b89c77b5d68d",
     "showTitle": false,
     "title": ""
    }
   },
   "outputs": [
    {
     "output_type": "display_data",
     "data": {
      "text/html": [
       "<style scoped>\n",
       "  .table-result-container {\n",
       "    max-height: 300px;\n",
       "    overflow: auto;\n",
       "  }\n",
       "  table, th, td {\n",
       "    border: 1px solid black;\n",
       "    border-collapse: collapse;\n",
       "  }\n",
       "  th, td {\n",
       "    padding: 5px;\n",
       "  }\n",
       "  th {\n",
       "    text-align: left;\n",
       "  }\n",
       "</style><div class='table-result-container'><table class='table-result'><thead style='background-color: white'><tr><th>Name</th><th>Subject</th><th>Mark</th><th>Status</th><th>Attandance</th></tr></thead><tbody><tr><td>Micheal</td><td>science</td><td>80</td><td>p</td><td>90</td></tr><tr><td>Nancy</td><td>mathmatics</td><td>90</td><td>p</td><td>null</td></tr><tr><td>David</td><td>english</td><td>20</td><td>f</td><td>80</td></tr><tr><td>John</td><td>science</td><td>null</td><td>f</td><td>75</td></tr><tr><td>Blessy</td><td>null</td><td>30</td><td>f</td><td>50</td></tr><tr><td>null</td><td>null</td><td>null</td><td>null</td><td>null</td></tr></tbody></table></div>"
      ]
     },
     "metadata": {
      "application/vnd.databricks.v1+output": {
       "addedWidgets": {},
       "aggData": [],
       "aggError": "",
       "aggOverflow": false,
       "aggSchema": [],
       "aggSeriesLimitReached": false,
       "aggType": "",
       "arguments": {},
       "columnCustomDisplayInfos": {},
       "data": [
        [
         "Micheal",
         "science",
         80,
         "p",
         "90"
        ],
        [
         "Nancy",
         "mathmatics",
         90,
         "p",
         null
        ],
        [
         "David",
         "english",
         20,
         "f",
         "80"
        ],
        [
         "John",
         "science",
         null,
         "f",
         "75"
        ],
        [
         "Blessy",
         null,
         30,
         "f",
         "50"
        ],
        [
         null,
         null,
         null,
         null,
         null
        ]
       ],
       "datasetInfos": [],
       "dbfsResultPath": null,
       "isJsonSchema": true,
       "metadata": {},
       "overflow": false,
       "plotOptions": {
        "customPlotOptions": {},
        "displayType": "table",
        "pivotAggregation": null,
        "pivotColumns": null,
        "xColumns": null,
        "yColumns": null
       },
       "removedWidgets": [],
       "schema": [
        {
         "metadata": "{}",
         "name": "Name",
         "type": "\"string\""
        },
        {
         "metadata": "{}",
         "name": "Subject",
         "type": "\"string\""
        },
        {
         "metadata": "{}",
         "name": "Mark",
         "type": "\"long\""
        },
        {
         "metadata": "{}",
         "name": "Status",
         "type": "\"string\""
        },
        {
         "metadata": "{}",
         "name": "Attandance",
         "type": "\"string\""
        }
       ],
       "type": "table"
      }
     },
     "output_type": "display_data"
    }
   ],
   "source": [
    "data_student = [(\"Micheal\",'science',80,'p','90'),\n",
    "                (\"Nancy\",'mathmatics',90,'p',None),\n",
    "                (\"David\",'english',20,'f','80'),\n",
    "                (\"John\",'science',None,'f','75'),\n",
    "                (\"Blessy\",None,30,'f','50'),\n",
    "                (None,None,None,None,None)]\n",
    "schema = ['Name','Subject','Mark','Status','Attandance']\n",
    "\n",
    "df = spark.createDataFrame(data=data_student, schema=schema)\n",
    "display(df)"
   ]
  },
  {
   "cell_type": "markdown",
   "metadata": {
    "application/vnd.databricks.v1+cell": {
     "cellMetadata": {
      "byteLimit": 2048000,
      "rowLimit": 10000
     },
     "inputWidgets": {},
     "nuid": "d7095782-cff6-4738-b71e-0e750ef8a7a6",
     "showTitle": false,
     "title": ""
    }
   },
   "source": [
    "####Drop the records with Null values - All , Any"
   ]
  },
  {
   "cell_type": "code",
   "execution_count": 0,
   "metadata": {
    "application/vnd.databricks.v1+cell": {
     "cellMetadata": {
      "byteLimit": 2048000,
      "rowLimit": 10000
     },
     "inputWidgets": {},
     "nuid": "28b39e00-20cb-4fb2-8203-bbfaf7d7856c",
     "showTitle": false,
     "title": ""
    }
   },
   "outputs": [
    {
     "output_type": "display_data",
     "data": {
      "text/html": [
       "<style scoped>\n",
       "  .table-result-container {\n",
       "    max-height: 300px;\n",
       "    overflow: auto;\n",
       "  }\n",
       "  table, th, td {\n",
       "    border: 1px solid black;\n",
       "    border-collapse: collapse;\n",
       "  }\n",
       "  th, td {\n",
       "    padding: 5px;\n",
       "  }\n",
       "  th {\n",
       "    text-align: left;\n",
       "  }\n",
       "</style><div class='table-result-container'><table class='table-result'><thead style='background-color: white'><tr><th>Name</th><th>Subject</th><th>Mark</th><th>Status</th><th>Attandance</th></tr></thead><tbody><tr><td>Micheal</td><td>science</td><td>80</td><td>p</td><td>90</td></tr><tr><td>David</td><td>english</td><td>20</td><td>f</td><td>80</td></tr></tbody></table></div>"
      ]
     },
     "metadata": {
      "application/vnd.databricks.v1+output": {
       "addedWidgets": {},
       "aggData": [],
       "aggError": "",
       "aggOverflow": false,
       "aggSchema": [],
       "aggSeriesLimitReached": false,
       "aggType": "",
       "arguments": {},
       "columnCustomDisplayInfos": {},
       "data": [
        [
         "Micheal",
         "science",
         80,
         "p",
         "90"
        ],
        [
         "David",
         "english",
         20,
         "f",
         "80"
        ]
       ],
       "datasetInfos": [],
       "dbfsResultPath": null,
       "isJsonSchema": true,
       "metadata": {},
       "overflow": false,
       "plotOptions": {
        "customPlotOptions": {},
        "displayType": "table",
        "pivotAggregation": null,
        "pivotColumns": null,
        "xColumns": null,
        "yColumns": null
       },
       "removedWidgets": [],
       "schema": [
        {
         "metadata": "{}",
         "name": "Name",
         "type": "\"string\""
        },
        {
         "metadata": "{}",
         "name": "Subject",
         "type": "\"string\""
        },
        {
         "metadata": "{}",
         "name": "Mark",
         "type": "\"long\""
        },
        {
         "metadata": "{}",
         "name": "Status",
         "type": "\"string\""
        },
        {
         "metadata": "{}",
         "name": "Attandance",
         "type": "\"string\""
        }
       ],
       "type": "table"
      }
     },
     "output_type": "display_data"
    }
   ],
   "source": [
    "display(df.na.drop())"
   ]
  },
  {
   "cell_type": "code",
   "execution_count": 0,
   "metadata": {
    "application/vnd.databricks.v1+cell": {
     "cellMetadata": {
      "byteLimit": 2048000,
      "rowLimit": 10000
     },
     "inputWidgets": {},
     "nuid": "e1a162e4-5381-4824-8ed6-2a6bd0428119",
     "showTitle": false,
     "title": ""
    }
   },
   "outputs": [
    {
     "output_type": "display_data",
     "data": {
      "text/html": [
       "<style scoped>\n",
       "  .table-result-container {\n",
       "    max-height: 300px;\n",
       "    overflow: auto;\n",
       "  }\n",
       "  table, th, td {\n",
       "    border: 1px solid black;\n",
       "    border-collapse: collapse;\n",
       "  }\n",
       "  th, td {\n",
       "    padding: 5px;\n",
       "  }\n",
       "  th {\n",
       "    text-align: left;\n",
       "  }\n",
       "</style><div class='table-result-container'><table class='table-result'><thead style='background-color: white'><tr><th>Name</th><th>Subject</th><th>Mark</th><th>Status</th><th>Attandance</th></tr></thead><tbody><tr><td>Micheal</td><td>science</td><td>80</td><td>p</td><td>90</td></tr><tr><td>David</td><td>english</td><td>20</td><td>f</td><td>80</td></tr></tbody></table></div>"
      ]
     },
     "metadata": {
      "application/vnd.databricks.v1+output": {
       "addedWidgets": {},
       "aggData": [],
       "aggError": "",
       "aggOverflow": false,
       "aggSchema": [],
       "aggSeriesLimitReached": false,
       "aggType": "",
       "arguments": {},
       "columnCustomDisplayInfos": {},
       "data": [
        [
         "Micheal",
         "science",
         80,
         "p",
         "90"
        ],
        [
         "David",
         "english",
         20,
         "f",
         "80"
        ]
       ],
       "datasetInfos": [],
       "dbfsResultPath": null,
       "isJsonSchema": true,
       "metadata": {},
       "overflow": false,
       "plotOptions": {
        "customPlotOptions": {},
        "displayType": "table",
        "pivotAggregation": null,
        "pivotColumns": null,
        "xColumns": null,
        "yColumns": null
       },
       "removedWidgets": [],
       "schema": [
        {
         "metadata": "{}",
         "name": "Name",
         "type": "\"string\""
        },
        {
         "metadata": "{}",
         "name": "Subject",
         "type": "\"string\""
        },
        {
         "metadata": "{}",
         "name": "Mark",
         "type": "\"long\""
        },
        {
         "metadata": "{}",
         "name": "Status",
         "type": "\"string\""
        },
        {
         "metadata": "{}",
         "name": "Attandance",
         "type": "\"string\""
        }
       ],
       "type": "table"
      }
     },
     "output_type": "display_data"
    }
   ],
   "source": [
    "display(df.na.drop('any'))"
   ]
  },
  {
   "cell_type": "code",
   "execution_count": 0,
   "metadata": {
    "application/vnd.databricks.v1+cell": {
     "cellMetadata": {
      "byteLimit": 2048000,
      "rowLimit": 10000
     },
     "inputWidgets": {},
     "nuid": "5af13bae-971e-419b-8a98-33b4c7dcfd3b",
     "showTitle": false,
     "title": ""
    }
   },
   "outputs": [
    {
     "output_type": "display_data",
     "data": {
      "text/html": [
       "<style scoped>\n",
       "  .table-result-container {\n",
       "    max-height: 300px;\n",
       "    overflow: auto;\n",
       "  }\n",
       "  table, th, td {\n",
       "    border: 1px solid black;\n",
       "    border-collapse: collapse;\n",
       "  }\n",
       "  th, td {\n",
       "    padding: 5px;\n",
       "  }\n",
       "  th {\n",
       "    text-align: left;\n",
       "  }\n",
       "</style><div class='table-result-container'><table class='table-result'><thead style='background-color: white'><tr><th>Name</th><th>Subject</th><th>Mark</th><th>Status</th><th>Attandance</th></tr></thead><tbody><tr><td>Micheal</td><td>science</td><td>80</td><td>p</td><td>90</td></tr><tr><td>Nancy</td><td>mathmatics</td><td>90</td><td>p</td><td>null</td></tr><tr><td>David</td><td>english</td><td>20</td><td>f</td><td>80</td></tr><tr><td>John</td><td>science</td><td>null</td><td>f</td><td>75</td></tr><tr><td>Blessy</td><td>null</td><td>30</td><td>f</td><td>50</td></tr></tbody></table></div>"
      ]
     },
     "metadata": {
      "application/vnd.databricks.v1+output": {
       "addedWidgets": {},
       "aggData": [],
       "aggError": "",
       "aggOverflow": false,
       "aggSchema": [],
       "aggSeriesLimitReached": false,
       "aggType": "",
       "arguments": {},
       "columnCustomDisplayInfos": {},
       "data": [
        [
         "Micheal",
         "science",
         80,
         "p",
         "90"
        ],
        [
         "Nancy",
         "mathmatics",
         90,
         "p",
         null
        ],
        [
         "David",
         "english",
         20,
         "f",
         "80"
        ],
        [
         "John",
         "science",
         null,
         "f",
         "75"
        ],
        [
         "Blessy",
         null,
         30,
         "f",
         "50"
        ]
       ],
       "datasetInfos": [],
       "dbfsResultPath": null,
       "isJsonSchema": true,
       "metadata": {},
       "overflow": false,
       "plotOptions": {
        "customPlotOptions": {},
        "displayType": "table",
        "pivotAggregation": null,
        "pivotColumns": null,
        "xColumns": null,
        "yColumns": null
       },
       "removedWidgets": [],
       "schema": [
        {
         "metadata": "{}",
         "name": "Name",
         "type": "\"string\""
        },
        {
         "metadata": "{}",
         "name": "Subject",
         "type": "\"string\""
        },
        {
         "metadata": "{}",
         "name": "Mark",
         "type": "\"long\""
        },
        {
         "metadata": "{}",
         "name": "Status",
         "type": "\"string\""
        },
        {
         "metadata": "{}",
         "name": "Attandance",
         "type": "\"string\""
        }
       ],
       "type": "table"
      }
     },
     "output_type": "display_data"
    }
   ],
   "source": [
    "display(df.na.drop('all'))"
   ]
  },
  {
   "cell_type": "markdown",
   "metadata": {
    "application/vnd.databricks.v1+cell": {
     "cellMetadata": {
      "byteLimit": 2048000,
      "rowLimit": 10000
     },
     "inputWidgets": {},
     "nuid": "efe138c9-56bb-4389-a5cd-9238411302c5",
     "showTitle": false,
     "title": ""
    }
   },
   "source": [
    "####Drop the records with NULL Value with selected column"
   ]
  },
  {
   "cell_type": "code",
   "execution_count": 0,
   "metadata": {
    "application/vnd.databricks.v1+cell": {
     "cellMetadata": {
      "byteLimit": 2048000,
      "rowLimit": 10000
     },
     "inputWidgets": {},
     "nuid": "88a11a14-c10e-48e8-bb08-46fe465eb516",
     "showTitle": false,
     "title": ""
    }
   },
   "outputs": [
    {
     "output_type": "display_data",
     "data": {
      "text/html": [
       "<style scoped>\n",
       "  .table-result-container {\n",
       "    max-height: 300px;\n",
       "    overflow: auto;\n",
       "  }\n",
       "  table, th, td {\n",
       "    border: 1px solid black;\n",
       "    border-collapse: collapse;\n",
       "  }\n",
       "  th, td {\n",
       "    padding: 5px;\n",
       "  }\n",
       "  th {\n",
       "    text-align: left;\n",
       "  }\n",
       "</style><div class='table-result-container'><table class='table-result'><thead style='background-color: white'><tr><th>Name</th><th>Subject</th><th>Mark</th><th>Status</th><th>Attandance</th></tr></thead><tbody><tr><td>Micheal</td><td>science</td><td>80</td><td>p</td><td>90</td></tr><tr><td>Nancy</td><td>mathmatics</td><td>90</td><td>p</td><td>null</td></tr><tr><td>David</td><td>english</td><td>20</td><td>f</td><td>80</td></tr><tr><td>Blessy</td><td>null</td><td>30</td><td>f</td><td>50</td></tr></tbody></table></div>"
      ]
     },
     "metadata": {
      "application/vnd.databricks.v1+output": {
       "addedWidgets": {},
       "aggData": [],
       "aggError": "",
       "aggOverflow": false,
       "aggSchema": [],
       "aggSeriesLimitReached": false,
       "aggType": "",
       "arguments": {},
       "columnCustomDisplayInfos": {},
       "data": [
        [
         "Micheal",
         "science",
         80,
         "p",
         "90"
        ],
        [
         "Nancy",
         "mathmatics",
         90,
         "p",
         null
        ],
        [
         "David",
         "english",
         20,
         "f",
         "80"
        ],
        [
         "Blessy",
         null,
         30,
         "f",
         "50"
        ]
       ],
       "datasetInfos": [],
       "dbfsResultPath": null,
       "isJsonSchema": true,
       "metadata": {},
       "overflow": false,
       "plotOptions": {
        "customPlotOptions": {},
        "displayType": "table",
        "pivotAggregation": null,
        "pivotColumns": null,
        "xColumns": null,
        "yColumns": null
       },
       "removedWidgets": [],
       "schema": [
        {
         "metadata": "{}",
         "name": "Name",
         "type": "\"string\""
        },
        {
         "metadata": "{}",
         "name": "Subject",
         "type": "\"string\""
        },
        {
         "metadata": "{}",
         "name": "Mark",
         "type": "\"long\""
        },
        {
         "metadata": "{}",
         "name": "Status",
         "type": "\"string\""
        },
        {
         "metadata": "{}",
         "name": "Attandance",
         "type": "\"string\""
        }
       ],
       "type": "table"
      }
     },
     "output_type": "display_data"
    }
   ],
   "source": [
    "display(df.na.drop(subset=['Mark']))"
   ]
  },
  {
   "cell_type": "code",
   "execution_count": 0,
   "metadata": {
    "application/vnd.databricks.v1+cell": {
     "cellMetadata": {
      "byteLimit": 2048000,
      "rowLimit": 10000
     },
     "inputWidgets": {},
     "nuid": "bd26b3e3-3045-4d61-98ea-27d9500f7a59",
     "showTitle": false,
     "title": ""
    }
   },
   "outputs": [
    {
     "output_type": "display_data",
     "data": {
      "text/html": [
       "<style scoped>\n",
       "  .table-result-container {\n",
       "    max-height: 300px;\n",
       "    overflow: auto;\n",
       "  }\n",
       "  table, th, td {\n",
       "    border: 1px solid black;\n",
       "    border-collapse: collapse;\n",
       "  }\n",
       "  th, td {\n",
       "    padding: 5px;\n",
       "  }\n",
       "  th {\n",
       "    text-align: left;\n",
       "  }\n",
       "</style><div class='table-result-container'><table class='table-result'><thead style='background-color: white'><tr><th>Name</th><th>Subject</th><th>Mark</th><th>Status</th><th>Attandance</th></tr></thead><tbody><tr><td>Micheal</td><td>science</td><td>80</td><td>p</td><td>90</td></tr><tr><td>David</td><td>english</td><td>20</td><td>f</td><td>80</td></tr><tr><td>Blessy</td><td>null</td><td>30</td><td>f</td><td>50</td></tr></tbody></table></div>"
      ]
     },
     "metadata": {
      "application/vnd.databricks.v1+output": {
       "addedWidgets": {},
       "aggData": [],
       "aggError": "",
       "aggOverflow": false,
       "aggSchema": [],
       "aggSeriesLimitReached": false,
       "aggType": "",
       "arguments": {},
       "columnCustomDisplayInfos": {},
       "data": [
        [
         "Micheal",
         "science",
         80,
         "p",
         "90"
        ],
        [
         "David",
         "english",
         20,
         "f",
         "80"
        ],
        [
         "Blessy",
         null,
         30,
         "f",
         "50"
        ]
       ],
       "datasetInfos": [],
       "dbfsResultPath": null,
       "isJsonSchema": true,
       "metadata": {},
       "overflow": false,
       "plotOptions": {
        "customPlotOptions": {},
        "displayType": "table",
        "pivotAggregation": null,
        "pivotColumns": null,
        "xColumns": null,
        "yColumns": null
       },
       "removedWidgets": [],
       "schema": [
        {
         "metadata": "{}",
         "name": "Name",
         "type": "\"string\""
        },
        {
         "metadata": "{}",
         "name": "Subject",
         "type": "\"string\""
        },
        {
         "metadata": "{}",
         "name": "Mark",
         "type": "\"long\""
        },
        {
         "metadata": "{}",
         "name": "Status",
         "type": "\"string\""
        },
        {
         "metadata": "{}",
         "name": "Attandance",
         "type": "\"string\""
        }
       ],
       "type": "table"
      }
     },
     "output_type": "display_data"
    }
   ],
   "source": [
    "display(df.na.drop(subset=['Mark','Attandance']))"
   ]
  },
  {
   "cell_type": "markdown",
   "metadata": {
    "application/vnd.databricks.v1+cell": {
     "cellMetadata": {
      "byteLimit": 2048000,
      "rowLimit": 10000
     },
     "inputWidgets": {},
     "nuid": "257647b9-3778-4fa9-9ba6-cee3a1301aa9",
     "showTitle": false,
     "title": ""
    }
   },
   "source": [
    "####Filling Null values with some value"
   ]
  },
  {
   "cell_type": "code",
   "execution_count": 0,
   "metadata": {
    "application/vnd.databricks.v1+cell": {
     "cellMetadata": {
      "byteLimit": 2048000,
      "rowLimit": 10000
     },
     "inputWidgets": {},
     "nuid": "d3a08281-bf2a-4972-88ae-ab99dbe568ec",
     "showTitle": false,
     "title": ""
    }
   },
   "outputs": [
    {
     "output_type": "display_data",
     "data": {
      "text/html": [
       "<style scoped>\n",
       "  .table-result-container {\n",
       "    max-height: 300px;\n",
       "    overflow: auto;\n",
       "  }\n",
       "  table, th, td {\n",
       "    border: 1px solid black;\n",
       "    border-collapse: collapse;\n",
       "  }\n",
       "  th, td {\n",
       "    padding: 5px;\n",
       "  }\n",
       "  th {\n",
       "    text-align: left;\n",
       "  }\n",
       "</style><div class='table-result-container'><table class='table-result'><thead style='background-color: white'><tr><th>Name</th><th>Subject</th><th>Mark</th><th>Status</th><th>Attandance</th></tr></thead><tbody><tr><td>Micheal</td><td>science</td><td>80</td><td>p</td><td>90</td></tr><tr><td>Nancy</td><td>mathmatics</td><td>90</td><td>p</td><td>null</td></tr><tr><td>David</td><td>english</td><td>20</td><td>f</td><td>80</td></tr><tr><td>John</td><td>science</td><td>0</td><td>f</td><td>75</td></tr><tr><td>Blessy</td><td>null</td><td>30</td><td>f</td><td>50</td></tr><tr><td>null</td><td>null</td><td>0</td><td>null</td><td>null</td></tr></tbody></table></div>"
      ]
     },
     "metadata": {
      "application/vnd.databricks.v1+output": {
       "addedWidgets": {},
       "aggData": [],
       "aggError": "",
       "aggOverflow": false,
       "aggSchema": [],
       "aggSeriesLimitReached": false,
       "aggType": "",
       "arguments": {},
       "columnCustomDisplayInfos": {},
       "data": [
        [
         "Micheal",
         "science",
         80,
         "p",
         "90"
        ],
        [
         "Nancy",
         "mathmatics",
         90,
         "p",
         null
        ],
        [
         "David",
         "english",
         20,
         "f",
         "80"
        ],
        [
         "John",
         "science",
         0,
         "f",
         "75"
        ],
        [
         "Blessy",
         null,
         30,
         "f",
         "50"
        ],
        [
         null,
         null,
         0,
         null,
         null
        ]
       ],
       "datasetInfos": [],
       "dbfsResultPath": null,
       "isJsonSchema": true,
       "metadata": {},
       "overflow": false,
       "plotOptions": {
        "customPlotOptions": {},
        "displayType": "table",
        "pivotAggregation": null,
        "pivotColumns": null,
        "xColumns": null,
        "yColumns": null
       },
       "removedWidgets": [],
       "schema": [
        {
         "metadata": "{}",
         "name": "Name",
         "type": "\"string\""
        },
        {
         "metadata": "{}",
         "name": "Subject",
         "type": "\"string\""
        },
        {
         "metadata": "{}",
         "name": "Mark",
         "type": "\"long\""
        },
        {
         "metadata": "{}",
         "name": "Status",
         "type": "\"string\""
        },
        {
         "metadata": "{}",
         "name": "Attandance",
         "type": "\"string\""
        }
       ],
       "type": "table"
      }
     },
     "output_type": "display_data"
    }
   ],
   "source": [
    "display(df.na.fill(value=0))"
   ]
  },
  {
   "cell_type": "code",
   "execution_count": 0,
   "metadata": {
    "application/vnd.databricks.v1+cell": {
     "cellMetadata": {
      "byteLimit": 2048000,
      "rowLimit": 10000
     },
     "inputWidgets": {},
     "nuid": "965b4b6e-d582-4ef3-ae7a-5e6f1b58454f",
     "showTitle": false,
     "title": ""
    }
   },
   "outputs": [
    {
     "output_type": "display_data",
     "data": {
      "text/html": [
       "<style scoped>\n",
       "  .table-result-container {\n",
       "    max-height: 300px;\n",
       "    overflow: auto;\n",
       "  }\n",
       "  table, th, td {\n",
       "    border: 1px solid black;\n",
       "    border-collapse: collapse;\n",
       "  }\n",
       "  th, td {\n",
       "    padding: 5px;\n",
       "  }\n",
       "  th {\n",
       "    text-align: left;\n",
       "  }\n",
       "</style><div class='table-result-container'><table class='table-result'><thead style='background-color: white'><tr><th>Name</th><th>Subject</th><th>Mark</th><th>Status</th><th>Attandance</th></tr></thead><tbody><tr><td>Micheal</td><td>science</td><td>80</td><td>p</td><td>90</td></tr><tr><td>Nancy</td><td>mathmatics</td><td>90</td><td>p</td><td>NA</td></tr><tr><td>David</td><td>english</td><td>20</td><td>f</td><td>80</td></tr><tr><td>John</td><td>science</td><td>null</td><td>f</td><td>75</td></tr><tr><td>Blessy</td><td>NA</td><td>30</td><td>f</td><td>50</td></tr><tr><td>NA</td><td>NA</td><td>null</td><td>NA</td><td>NA</td></tr></tbody></table></div>"
      ]
     },
     "metadata": {
      "application/vnd.databricks.v1+output": {
       "addedWidgets": {},
       "aggData": [],
       "aggError": "",
       "aggOverflow": false,
       "aggSchema": [],
       "aggSeriesLimitReached": false,
       "aggType": "",
       "arguments": {},
       "columnCustomDisplayInfos": {},
       "data": [
        [
         "Micheal",
         "science",
         80,
         "p",
         "90"
        ],
        [
         "Nancy",
         "mathmatics",
         90,
         "p",
         "NA"
        ],
        [
         "David",
         "english",
         20,
         "f",
         "80"
        ],
        [
         "John",
         "science",
         null,
         "f",
         "75"
        ],
        [
         "Blessy",
         "NA",
         30,
         "f",
         "50"
        ],
        [
         "NA",
         "NA",
         null,
         "NA",
         "NA"
        ]
       ],
       "datasetInfos": [],
       "dbfsResultPath": null,
       "isJsonSchema": true,
       "metadata": {},
       "overflow": false,
       "plotOptions": {
        "customPlotOptions": {},
        "displayType": "table",
        "pivotAggregation": null,
        "pivotColumns": null,
        "xColumns": null,
        "yColumns": null
       },
       "removedWidgets": [],
       "schema": [
        {
         "metadata": "{}",
         "name": "Name",
         "type": "\"string\""
        },
        {
         "metadata": "{}",
         "name": "Subject",
         "type": "\"string\""
        },
        {
         "metadata": "{}",
         "name": "Mark",
         "type": "\"long\""
        },
        {
         "metadata": "{}",
         "name": "Status",
         "type": "\"string\""
        },
        {
         "metadata": "{}",
         "name": "Attandance",
         "type": "\"string\""
        }
       ],
       "type": "table"
      }
     },
     "output_type": "display_data"
    }
   ],
   "source": [
    "#display(df.na.fill(value='NA'))\n",
    "\n",
    "display(df.fillna(value='NA'))"
   ]
  },
  {
   "cell_type": "markdown",
   "metadata": {
    "application/vnd.databricks.v1+cell": {
     "cellMetadata": {
      "byteLimit": 2048000,
      "rowLimit": 10000
     },
     "inputWidgets": {},
     "nuid": "f580278a-80ec-48c9-aa9a-90d95ddd4db5",
     "showTitle": false,
     "title": ""
    }
   },
   "source": [
    "####Fill value for specific columns if contains null"
   ]
  },
  {
   "cell_type": "code",
   "execution_count": 0,
   "metadata": {
    "application/vnd.databricks.v1+cell": {
     "cellMetadata": {
      "byteLimit": 2048000,
      "rowLimit": 10000
     },
     "inputWidgets": {},
     "nuid": "ba853ca5-772e-407e-89b8-0ffddf431125",
     "showTitle": false,
     "title": ""
    }
   },
   "outputs": [
    {
     "output_type": "display_data",
     "data": {
      "text/html": [
       "<style scoped>\n",
       "  .table-result-container {\n",
       "    max-height: 300px;\n",
       "    overflow: auto;\n",
       "  }\n",
       "  table, th, td {\n",
       "    border: 1px solid black;\n",
       "    border-collapse: collapse;\n",
       "  }\n",
       "  th, td {\n",
       "    padding: 5px;\n",
       "  }\n",
       "  th {\n",
       "    text-align: left;\n",
       "  }\n",
       "</style><div class='table-result-container'><table class='table-result'><thead style='background-color: white'><tr><th>Name</th><th>Subject</th><th>Mark</th><th>Status</th><th>Attandance</th></tr></thead><tbody><tr><td>Micheal</td><td>science</td><td>80</td><td>p</td><td>90</td></tr><tr><td>Nancy</td><td>mathmatics</td><td>90</td><td>p</td><td>null</td></tr><tr><td>David</td><td>english</td><td>20</td><td>f</td><td>80</td></tr><tr><td>John</td><td>science</td><td>0</td><td>f</td><td>75</td></tr><tr><td>Blessy</td><td>null</td><td>30</td><td>f</td><td>50</td></tr><tr><td>null</td><td>null</td><td>0</td><td>null</td><td>null</td></tr></tbody></table></div>"
      ]
     },
     "metadata": {
      "application/vnd.databricks.v1+output": {
       "addedWidgets": {},
       "aggData": [],
       "aggError": "",
       "aggOverflow": false,
       "aggSchema": [],
       "aggSeriesLimitReached": false,
       "aggType": "",
       "arguments": {},
       "columnCustomDisplayInfos": {},
       "data": [
        [
         "Micheal",
         "science",
         80,
         "p",
         "90"
        ],
        [
         "Nancy",
         "mathmatics",
         90,
         "p",
         null
        ],
        [
         "David",
         "english",
         20,
         "f",
         "80"
        ],
        [
         "John",
         "science",
         0,
         "f",
         "75"
        ],
        [
         "Blessy",
         null,
         30,
         "f",
         "50"
        ],
        [
         null,
         null,
         0,
         null,
         null
        ]
       ],
       "datasetInfos": [],
       "dbfsResultPath": null,
       "isJsonSchema": true,
       "metadata": {},
       "overflow": false,
       "plotOptions": {
        "customPlotOptions": {},
        "displayType": "table",
        "pivotAggregation": null,
        "pivotColumns": null,
        "xColumns": null,
        "yColumns": null
       },
       "removedWidgets": [],
       "schema": [
        {
         "metadata": "{}",
         "name": "Name",
         "type": "\"string\""
        },
        {
         "metadata": "{}",
         "name": "Subject",
         "type": "\"string\""
        },
        {
         "metadata": "{}",
         "name": "Mark",
         "type": "\"long\""
        },
        {
         "metadata": "{}",
         "name": "Status",
         "type": "\"string\""
        },
        {
         "metadata": "{}",
         "name": "Attandance",
         "type": "\"string\""
        }
       ],
       "type": "table"
      }
     },
     "output_type": "display_data"
    }
   ],
   "source": [
    "display(df.na.fill(value=0, subset=[\"Mark\",\"Attandance\",\"Status\"]))"
   ]
  },
  {
   "cell_type": "code",
   "execution_count": 0,
   "metadata": {
    "application/vnd.databricks.v1+cell": {
     "cellMetadata": {
      "byteLimit": 2048000,
      "rowLimit": 10000
     },
     "inputWidgets": {},
     "nuid": "4f036e99-c5c5-4ad1-801b-b52f6c728f87",
     "showTitle": false,
     "title": ""
    }
   },
   "outputs": [
    {
     "output_type": "display_data",
     "data": {
      "text/html": [
       "<style scoped>\n",
       "  .table-result-container {\n",
       "    max-height: 300px;\n",
       "    overflow: auto;\n",
       "  }\n",
       "  table, th, td {\n",
       "    border: 1px solid black;\n",
       "    border-collapse: collapse;\n",
       "  }\n",
       "  th, td {\n",
       "    padding: 5px;\n",
       "  }\n",
       "  th {\n",
       "    text-align: left;\n",
       "  }\n",
       "</style><div class='table-result-container'><table class='table-result'><thead style='background-color: white'><tr><th>Name</th><th>Subject</th><th>Mark</th><th>Status</th><th>Attandance</th></tr></thead><tbody><tr><td>Micheal</td><td>science</td><td>80</td><td>p</td><td>90</td></tr><tr><td>Nancy</td><td>mathmatics</td><td>90</td><td>p</td><td>50</td></tr><tr><td>David</td><td>english</td><td>20</td><td>f</td><td>80</td></tr><tr><td>John</td><td>science</td><td>0</td><td>f</td><td>75</td></tr><tr><td>Blessy</td><td>english</td><td>30</td><td>f</td><td>50</td></tr><tr><td>no_name</td><td>english</td><td>0</td><td>NA</td><td>50</td></tr></tbody></table></div>"
      ]
     },
     "metadata": {
      "application/vnd.databricks.v1+output": {
       "addedWidgets": {},
       "aggData": [],
       "aggError": "",
       "aggOverflow": false,
       "aggSchema": [],
       "aggSeriesLimitReached": false,
       "aggType": "",
       "arguments": {},
       "columnCustomDisplayInfos": {},
       "data": [
        [
         "Micheal",
         "science",
         80,
         "p",
         "90"
        ],
        [
         "Nancy",
         "mathmatics",
         90,
         "p",
         "50"
        ],
        [
         "David",
         "english",
         20,
         "f",
         "80"
        ],
        [
         "John",
         "science",
         0,
         "f",
         "75"
        ],
        [
         "Blessy",
         "english",
         30,
         "f",
         "50"
        ],
        [
         "no_name",
         "english",
         0,
         "NA",
         "50"
        ]
       ],
       "datasetInfos": [],
       "dbfsResultPath": null,
       "isJsonSchema": true,
       "metadata": {},
       "overflow": false,
       "plotOptions": {
        "customPlotOptions": {},
        "displayType": "table",
        "pivotAggregation": null,
        "pivotColumns": null,
        "xColumns": null,
        "yColumns": null
       },
       "removedWidgets": [],
       "schema": [
        {
         "metadata": "{}",
         "name": "Name",
         "type": "\"string\""
        },
        {
         "metadata": "{}",
         "name": "Subject",
         "type": "\"string\""
        },
        {
         "metadata": "{}",
         "name": "Mark",
         "type": "\"long\""
        },
        {
         "metadata": "{}",
         "name": "Status",
         "type": "\"string\""
        },
        {
         "metadata": "{}",
         "name": "Attandance",
         "type": "\"string\""
        }
       ],
       "type": "table"
      }
     },
     "output_type": "display_data"
    }
   ],
   "source": [
    "display(df.na.fill({\"Mark\":0,\"Attandance\":50,\"Status\":'NA','Subject':'english','Name':'no_name'}))"
   ]
  },
  {
   "cell_type": "code",
   "execution_count": 0,
   "metadata": {
    "application/vnd.databricks.v1+cell": {
     "cellMetadata": {
      "byteLimit": 2048000,
      "rowLimit": 10000
     },
     "inputWidgets": {},
     "nuid": "68cabd7d-ad09-4221-bdb7-96420a7248fa",
     "showTitle": false,
     "title": ""
    }
   },
   "outputs": [
    {
     "output_type": "display_data",
     "data": {
      "text/html": [
       "<style scoped>\n",
       "  .table-result-container {\n",
       "    max-height: 300px;\n",
       "    overflow: auto;\n",
       "  }\n",
       "  table, th, td {\n",
       "    border: 1px solid black;\n",
       "    border-collapse: collapse;\n",
       "  }\n",
       "  th, td {\n",
       "    padding: 5px;\n",
       "  }\n",
       "  th {\n",
       "    text-align: left;\n",
       "  }\n",
       "</style><div class='table-result-container'><table class='table-result'><thead style='background-color: white'><tr><th>employee_id</th><th>name</th><th>doj</th><th>employee_dept_id</th><th>salary</th></tr></thead><tbody><tr><td>10</td><td>raj kumar</td><td>1999-06-01</td><td>100</td><td>2000</td></tr><tr><td>20</td><td>rahul kumar</td><td>2003-03-01</td><td>200</td><td>8000</td></tr><tr><td>30</td><td>raja singh</td><td>2005-04-01</td><td>100</td><td>6000</td></tr><tr><td>40</td><td>raghava</td><td>2008-10-1</td><td>100</td><td>9000</td></tr><tr><td>50</td><td>rama krishna</td><td>1996-02-01</td><td>400</td><td>14000</td></tr><tr><td>60</td><td>rasul</td><td>1994-11-01</td><td>500</td><td>12000</td></tr><tr><td>70</td><td>peter paul</td><td>2011-04-01</td><td>600</td><td>7000</td></tr></tbody></table></div>"
      ]
     },
     "metadata": {
      "application/vnd.databricks.v1+output": {
       "addedWidgets": {},
       "aggData": [],
       "aggError": "",
       "aggOverflow": false,
       "aggSchema": [],
       "aggSeriesLimitReached": false,
       "aggType": "",
       "arguments": {},
       "columnCustomDisplayInfos": {},
       "data": [
        [
         10,
         "raj kumar",
         "1999-06-01",
         "100",
         2000
        ],
        [
         20,
         "rahul kumar",
         "2003-03-01",
         "200",
         8000
        ],
        [
         30,
         "raja singh",
         "2005-04-01",
         "100",
         6000
        ],
        [
         40,
         "raghava",
         "2008-10-1",
         "100",
         9000
        ],
        [
         50,
         "rama krishna",
         "1996-02-01",
         "400",
         14000
        ],
        [
         60,
         "rasul",
         "1994-11-01",
         "500",
         12000
        ],
        [
         70,
         "peter paul",
         "2011-04-01",
         "600",
         7000
        ]
       ],
       "datasetInfos": [],
       "dbfsResultPath": null,
       "isJsonSchema": true,
       "metadata": {},
       "overflow": false,
       "plotOptions": {
        "customPlotOptions": {},
        "displayType": "table",
        "pivotAggregation": null,
        "pivotColumns": null,
        "xColumns": null,
        "yColumns": null
       },
       "removedWidgets": [],
       "schema": [
        {
         "metadata": "{}",
         "name": "employee_id",
         "type": "\"long\""
        },
        {
         "metadata": "{}",
         "name": "name",
         "type": "\"string\""
        },
        {
         "metadata": "{}",
         "name": "doj",
         "type": "\"string\""
        },
        {
         "metadata": "{}",
         "name": "employee_dept_id",
         "type": "\"string\""
        },
        {
         "metadata": "{}",
         "name": "salary",
         "type": "\"long\""
        }
       ],
       "type": "table"
      }
     },
     "output_type": "display_data"
    }
   ],
   "source": [
    "employee_data =[(10, 'raj kumar','1999-06-01','100',2000),\n",
    "                (20, 'rahul kumar','2003-03-01','200',8000),\n",
    "                (30, 'raja singh','2005-04-01','100',6000),\n",
    "                (40, 'raghava','2008-10-1','100',9000),\n",
    "                (50, 'rama krishna','1996-02-01','400',14000),\n",
    "                (60, 'rasul','1994-11-01','500',12000),\n",
    "                (70, 'peter paul','2011-04-01','600',7000)]\n",
    "\n",
    "employee_schema =['employee_id','name','doj','employee_dept_id','salary']\n",
    "\n",
    "df_emp= spark.createDataFrame(data=employee_data, schema=employee_schema)\n",
    "df_emp.display()\n"
   ]
  },
  {
   "cell_type": "markdown",
   "metadata": {
    "application/vnd.databricks.v1+cell": {
     "cellMetadata": {
      "byteLimit": 2048000,
      "rowLimit": 10000
     },
     "inputWidgets": {},
     "nuid": "f1f062de-87b3-44be-9cf3-91c09bef3618",
     "showTitle": false,
     "title": ""
    }
   },
   "source": [
    "####Define UDF to Rename Columns"
   ]
  },
  {
   "cell_type": "code",
   "execution_count": 0,
   "metadata": {
    "application/vnd.databricks.v1+cell": {
     "cellMetadata": {
      "byteLimit": 2048000,
      "rowLimit": 10000
     },
     "inputWidgets": {},
     "nuid": "3e023458-a846-4fdc-b41c-690949a51139",
     "showTitle": false,
     "title": ""
    }
   },
   "outputs": [],
   "source": [
    "import pyspark.sql.functions as f\n",
    "\n",
    "def rename_columns(rename_df):\n",
    "\n",
    "    for column in rename_df.columns:\n",
    "        new_column = \"Col_\"+column\n",
    "        rename_df = rename_df.withColumnRenamed(column, new_column)\n",
    "\n",
    "    return rename_df"
   ]
  },
  {
   "cell_type": "code",
   "execution_count": 0,
   "metadata": {
    "application/vnd.databricks.v1+cell": {
     "cellMetadata": {
      "byteLimit": 2048000,
      "rowLimit": 10000
     },
     "inputWidgets": {},
     "nuid": "75e12f89-cfc3-4ff4-b334-ad464fd23257",
     "showTitle": false,
     "title": ""
    }
   },
   "outputs": [
    {
     "output_type": "display_data",
     "data": {
      "text/html": [
       "<style scoped>\n",
       "  .table-result-container {\n",
       "    max-height: 300px;\n",
       "    overflow: auto;\n",
       "  }\n",
       "  table, th, td {\n",
       "    border: 1px solid black;\n",
       "    border-collapse: collapse;\n",
       "  }\n",
       "  th, td {\n",
       "    padding: 5px;\n",
       "  }\n",
       "  th {\n",
       "    text-align: left;\n",
       "  }\n",
       "</style><div class='table-result-container'><table class='table-result'><thead style='background-color: white'><tr><th>Col_employee_id</th><th>Col_name</th><th>Col_doj</th><th>Col_employee_dept_id</th><th>Col_salary</th></tr></thead><tbody><tr><td>10</td><td>raj kumar</td><td>1999-06-01</td><td>100</td><td>2000</td></tr><tr><td>20</td><td>rahul kumar</td><td>2003-03-01</td><td>200</td><td>8000</td></tr><tr><td>30</td><td>raja singh</td><td>2005-04-01</td><td>100</td><td>6000</td></tr><tr><td>40</td><td>raghava</td><td>2008-10-1</td><td>100</td><td>9000</td></tr><tr><td>50</td><td>rama krishna</td><td>1996-02-01</td><td>400</td><td>14000</td></tr><tr><td>60</td><td>rasul</td><td>1994-11-01</td><td>500</td><td>12000</td></tr><tr><td>70</td><td>peter paul</td><td>2011-04-01</td><td>600</td><td>7000</td></tr></tbody></table></div>"
      ]
     },
     "metadata": {
      "application/vnd.databricks.v1+output": {
       "addedWidgets": {},
       "aggData": [],
       "aggError": "",
       "aggOverflow": false,
       "aggSchema": [],
       "aggSeriesLimitReached": false,
       "aggType": "",
       "arguments": {},
       "columnCustomDisplayInfos": {},
       "data": [
        [
         10,
         "raj kumar",
         "1999-06-01",
         "100",
         2000
        ],
        [
         20,
         "rahul kumar",
         "2003-03-01",
         "200",
         8000
        ],
        [
         30,
         "raja singh",
         "2005-04-01",
         "100",
         6000
        ],
        [
         40,
         "raghava",
         "2008-10-1",
         "100",
         9000
        ],
        [
         50,
         "rama krishna",
         "1996-02-01",
         "400",
         14000
        ],
        [
         60,
         "rasul",
         "1994-11-01",
         "500",
         12000
        ],
        [
         70,
         "peter paul",
         "2011-04-01",
         "600",
         7000
        ]
       ],
       "datasetInfos": [],
       "dbfsResultPath": null,
       "isJsonSchema": true,
       "metadata": {},
       "overflow": false,
       "plotOptions": {
        "customPlotOptions": {},
        "displayType": "table",
        "pivotAggregation": null,
        "pivotColumns": null,
        "xColumns": null,
        "yColumns": null
       },
       "removedWidgets": [],
       "schema": [
        {
         "metadata": "{}",
         "name": "Col_employee_id",
         "type": "\"long\""
        },
        {
         "metadata": "{}",
         "name": "Col_name",
         "type": "\"string\""
        },
        {
         "metadata": "{}",
         "name": "Col_doj",
         "type": "\"string\""
        },
        {
         "metadata": "{}",
         "name": "Col_employee_dept_id",
         "type": "\"string\""
        },
        {
         "metadata": "{}",
         "name": "Col_salary",
         "type": "\"long\""
        }
       ],
       "type": "table"
      }
     },
     "output_type": "display_data"
    }
   ],
   "source": [
    "##Execute UDF\n",
    "rename_df = rename_columns(df_emp)\n",
    "display(rename_df)"
   ]
  },
  {
   "cell_type": "markdown",
   "metadata": {
    "application/vnd.databricks.v1+cell": {
     "cellMetadata": {},
     "inputWidgets": {},
     "nuid": "6244375a-9d51-4e07-adb3-3a019b993de0",
     "showTitle": false,
     "title": ""
    }
   },
   "source": [
    "####UDF to convert names into uppercase"
   ]
  },
  {
   "cell_type": "code",
   "execution_count": 0,
   "metadata": {
    "application/vnd.databricks.v1+cell": {
     "cellMetadata": {
      "byteLimit": 2048000,
      "rowLimit": 10000
     },
     "inputWidgets": {},
     "nuid": "ece74089-8596-465f-a02f-844c0c991a70",
     "showTitle": false,
     "title": ""
    }
   },
   "outputs": [],
   "source": [
    "from pyspark.sql.functions import col, upper\n",
    "\n",
    "def upperCase_col(df):\n",
    "\n",
    "    empDF_upper = df.withColumn('name_upper', upper(df.name))\n",
    "    return empDF_upper"
   ]
  },
  {
   "cell_type": "code",
   "execution_count": 0,
   "metadata": {
    "application/vnd.databricks.v1+cell": {
     "cellMetadata": {
      "byteLimit": 2048000,
      "rowLimit": 10000
     },
     "inputWidgets": {},
     "nuid": "845e48e8-588e-446e-b4f4-cd331bc0d6eb",
     "showTitle": false,
     "title": ""
    }
   },
   "outputs": [
    {
     "output_type": "display_data",
     "data": {
      "text/html": [
       "<style scoped>\n",
       "  .table-result-container {\n",
       "    max-height: 300px;\n",
       "    overflow: auto;\n",
       "  }\n",
       "  table, th, td {\n",
       "    border: 1px solid black;\n",
       "    border-collapse: collapse;\n",
       "  }\n",
       "  th, td {\n",
       "    padding: 5px;\n",
       "  }\n",
       "  th {\n",
       "    text-align: left;\n",
       "  }\n",
       "</style><div class='table-result-container'><table class='table-result'><thead style='background-color: white'><tr><th>employee_id</th><th>name</th><th>doj</th><th>employee_dept_id</th><th>salary</th><th>name_upper</th></tr></thead><tbody><tr><td>10</td><td>raj kumar</td><td>1999-06-01</td><td>100</td><td>2000</td><td>RAJ KUMAR</td></tr><tr><td>20</td><td>rahul kumar</td><td>2003-03-01</td><td>200</td><td>8000</td><td>RAHUL KUMAR</td></tr><tr><td>30</td><td>raja singh</td><td>2005-04-01</td><td>100</td><td>6000</td><td>RAJA SINGH</td></tr><tr><td>40</td><td>raghava</td><td>2008-10-1</td><td>100</td><td>9000</td><td>RAGHAVA</td></tr><tr><td>50</td><td>rama krishna</td><td>1996-02-01</td><td>400</td><td>14000</td><td>RAMA KRISHNA</td></tr><tr><td>60</td><td>rasul</td><td>1994-11-01</td><td>500</td><td>12000</td><td>RASUL</td></tr><tr><td>70</td><td>peter paul</td><td>2011-04-01</td><td>600</td><td>7000</td><td>PETER PAUL</td></tr></tbody></table></div>"
      ]
     },
     "metadata": {
      "application/vnd.databricks.v1+output": {
       "addedWidgets": {},
       "aggData": [],
       "aggError": "",
       "aggOverflow": false,
       "aggSchema": [],
       "aggSeriesLimitReached": false,
       "aggType": "",
       "arguments": {},
       "columnCustomDisplayInfos": {},
       "data": [
        [
         10,
         "raj kumar",
         "1999-06-01",
         "100",
         2000,
         "RAJ KUMAR"
        ],
        [
         20,
         "rahul kumar",
         "2003-03-01",
         "200",
         8000,
         "RAHUL KUMAR"
        ],
        [
         30,
         "raja singh",
         "2005-04-01",
         "100",
         6000,
         "RAJA SINGH"
        ],
        [
         40,
         "raghava",
         "2008-10-1",
         "100",
         9000,
         "RAGHAVA"
        ],
        [
         50,
         "rama krishna",
         "1996-02-01",
         "400",
         14000,
         "RAMA KRISHNA"
        ],
        [
         60,
         "rasul",
         "1994-11-01",
         "500",
         12000,
         "RASUL"
        ],
        [
         70,
         "peter paul",
         "2011-04-01",
         "600",
         7000,
         "PETER PAUL"
        ]
       ],
       "datasetInfos": [],
       "dbfsResultPath": null,
       "isJsonSchema": true,
       "metadata": {},
       "overflow": false,
       "plotOptions": {
        "customPlotOptions": {},
        "displayType": "table",
        "pivotAggregation": null,
        "pivotColumns": null,
        "xColumns": null,
        "yColumns": null
       },
       "removedWidgets": [],
       "schema": [
        {
         "metadata": "{}",
         "name": "employee_id",
         "type": "\"long\""
        },
        {
         "metadata": "{}",
         "name": "name",
         "type": "\"string\""
        },
        {
         "metadata": "{}",
         "name": "doj",
         "type": "\"string\""
        },
        {
         "metadata": "{}",
         "name": "employee_dept_id",
         "type": "\"string\""
        },
        {
         "metadata": "{}",
         "name": "salary",
         "type": "\"long\""
        },
        {
         "metadata": "{}",
         "name": "name_upper",
         "type": "\"string\""
        }
       ],
       "type": "table"
      }
     },
     "output_type": "display_data"
    }
   ],
   "source": [
    "Up_Case_DF = upperCase_col(df_emp)\n",
    "display(Up_Case_DF)"
   ]
  },
  {
   "cell_type": "code",
   "execution_count": 0,
   "metadata": {
    "application/vnd.databricks.v1+cell": {
     "cellMetadata": {},
     "inputWidgets": {},
     "nuid": "e70a09ee-b793-487b-9371-e1093a6c3b69",
     "showTitle": false,
     "title": ""
    }
   },
   "outputs": [],
   "source": []
  }
 ],
 "metadata": {
  "application/vnd.databricks.v1+notebook": {
   "dashboards": [],
   "language": "python",
   "notebookMetadata": {
    "pythonIndentUnit": 4
   },
   "notebookName": "Untitled Notebook 2023-06-05 22:11:47",
   "widgets": {}
  }
 },
 "nbformat": 4,
 "nbformat_minor": 0
}
