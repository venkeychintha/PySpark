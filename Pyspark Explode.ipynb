{
 "cells": [
  {
   "cell_type": "markdown",
   "metadata": {
    "application/vnd.databricks.v1+cell": {
     "cellMetadata": {},
     "inputWidgets": {},
     "nuid": "5f64c5b9-3c1b-4cd9-a94a-73175a59e3d0",
     "showTitle": false,
     "title": ""
    }
   },
   "source": [
    "###Create DataFrame with array column"
   ]
  },
  {
   "cell_type": "code",
   "execution_count": 0,
   "metadata": {
    "application/vnd.databricks.v1+cell": {
     "cellMetadata": {
      "byteLimit": 2048000,
      "rowLimit": 10000
     },
     "inputWidgets": {},
     "nuid": "29ff123c-a243-4bb3-acc0-d0ad387894f7",
     "showTitle": false,
     "title": ""
    }
   },
   "outputs": [
    {
     "output_type": "stream",
     "name": "stdout",
     "output_type": "stream",
     "text": [
      "root\n |-- name: string (nullable = true)\n |-- appliances: array (nullable = true)\n |    |-- element: string (containsNull = true)\n\n"
     ]
    },
    {
     "output_type": "display_data",
     "data": {
      "text/html": [
       "<style scoped>\n",
       "  .table-result-container {\n",
       "    max-height: 300px;\n",
       "    overflow: auto;\n",
       "  }\n",
       "  table, th, td {\n",
       "    border: 1px solid black;\n",
       "    border-collapse: collapse;\n",
       "  }\n",
       "  th, td {\n",
       "    padding: 5px;\n",
       "  }\n",
       "  th {\n",
       "    text-align: left;\n",
       "  }\n",
       "</style><div class='table-result-container'><table class='table-result'><thead style='background-color: white'><tr><th>name</th><th>appliances</th></tr></thead><tbody><tr><td>Raja</td><td>List(TV, Refrigerator, Oven, AC)</td></tr><tr><td>Rahgava</td><td>List(AC, Washing Machinee, null)</td></tr><tr><td>Ram</td><td>List(Grinder, TV)</td></tr><tr><td>Ramesh</td><td>List(Refrigerator, TV, null)</td></tr><tr><td>Rajesh</td><td>null</td></tr></tbody></table></div>"
      ]
     },
     "metadata": {
      "application/vnd.databricks.v1+output": {
       "addedWidgets": {},
       "aggData": [],
       "aggError": "",
       "aggOverflow": false,
       "aggSchema": [],
       "aggSeriesLimitReached": false,
       "aggType": "",
       "arguments": {},
       "columnCustomDisplayInfos": {},
       "data": [
        [
         "Raja",
         [
          "TV",
          "Refrigerator",
          "Oven",
          "AC"
         ]
        ],
        [
         "Rahgava",
         [
          "AC",
          "Washing Machinee",
          null
         ]
        ],
        [
         "Ram",
         [
          "Grinder",
          "TV"
         ]
        ],
        [
         "Ramesh",
         [
          "Refrigerator",
          "TV",
          null
         ]
        ],
        [
         "Rajesh",
         null
        ]
       ],
       "datasetInfos": [],
       "dbfsResultPath": null,
       "isJsonSchema": true,
       "metadata": {},
       "overflow": false,
       "plotOptions": {
        "customPlotOptions": {},
        "displayType": "table",
        "pivotAggregation": null,
        "pivotColumns": null,
        "xColumns": null,
        "yColumns": null
       },
       "removedWidgets": [],
       "schema": [
        {
         "metadata": "{}",
         "name": "name",
         "type": "\"string\""
        },
        {
         "metadata": "{}",
         "name": "appliances",
         "type": "{\"type\":\"array\",\"elementType\":\"string\",\"containsNull\":true}"
        }
       ],
       "type": "table"
      }
     },
     "output_type": "display_data"
    }
   ],
   "source": [
    "array_appliance = [\n",
    "    ('Raja',['TV','Refrigerator','Oven','AC']),\n",
    "    ('Rahgava',['AC','Washing Machinee',None]),\n",
    "    ('Ram',['Grinder','TV']),\n",
    "    ('Ramesh',['Refrigerator','TV',None]),\n",
    "     ('Rajesh',None)\n",
    "]\n",
    "df_app = spark.createDataFrame(data=array_appliance, schema=['name','appliances'])\n",
    "df_app.printSchema()\n",
    "display(df_app)"
   ]
  },
  {
   "cell_type": "markdown",
   "metadata": {
    "application/vnd.databricks.v1+cell": {
     "cellMetadata": {},
     "inputWidgets": {},
     "nuid": "ae0d565a-4e3e-4b17-b355-8f4c15377719",
     "showTitle": false,
     "title": ""
    }
   },
   "source": [
    "###Create dataframe with map column"
   ]
  },
  {
   "cell_type": "code",
   "execution_count": 0,
   "metadata": {
    "application/vnd.databricks.v1+cell": {
     "cellMetadata": {
      "byteLimit": 2048000,
      "rowLimit": 10000
     },
     "inputWidgets": {},
     "nuid": "94002268-4a43-4056-b744-e4892190abcf",
     "showTitle": false,
     "title": ""
    }
   },
   "outputs": [
    {
     "output_type": "stream",
     "name": "stdout",
     "output_type": "stream",
     "text": [
      "root\n |-- name: string (nullable = true)\n |-- brand: map (nullable = true)\n |    |-- key: string\n |    |-- value: string (valueContainsNull = true)\n\n"
     ]
    },
    {
     "output_type": "display_data",
     "data": {
      "text/html": [
       "<style scoped>\n",
       "  .table-result-container {\n",
       "    max-height: 300px;\n",
       "    overflow: auto;\n",
       "  }\n",
       "  table, th, td {\n",
       "    border: 1px solid black;\n",
       "    border-collapse: collapse;\n",
       "  }\n",
       "  th, td {\n",
       "    padding: 5px;\n",
       "  }\n",
       "  th {\n",
       "    text-align: left;\n",
       "  }\n",
       "</style><div class='table-result-container'><table class='table-result'><thead style='background-color: white'><tr><th>name</th><th>brand</th></tr></thead><tbody><tr><td>Raja</td><td>Map(Refrigerator -> Samsung, AC -> Voltas, TV -> LG, Oven -> Phillips)</td></tr><tr><td>Rahgava</td><td>Map(Washing Machinee -> LG, AC -> Samsung)</td></tr><tr><td>Ram</td><td>Map(TV -> , Grinder -> Preethi)</td></tr><tr><td>Ramesh</td><td>Map(Refrigerator -> LG, TV -> Croma)</td></tr><tr><td>Rajesh</td><td>null</td></tr></tbody></table></div>"
      ]
     },
     "metadata": {
      "application/vnd.databricks.v1+output": {
       "addedWidgets": {},
       "aggData": [],
       "aggError": "",
       "aggOverflow": false,
       "aggSchema": [],
       "aggSeriesLimitReached": false,
       "aggType": "",
       "arguments": {},
       "columnCustomDisplayInfos": {},
       "data": [
        [
         "Raja",
         {
          "AC": "Voltas",
          "Oven": "Phillips",
          "Refrigerator": "Samsung",
          "TV": "LG"
         }
        ],
        [
         "Rahgava",
         {
          "AC": "Samsung",
          "Washing Machinee": "LG"
         }
        ],
        [
         "Ram",
         {
          "Grinder": "Preethi",
          "TV": ""
         }
        ],
        [
         "Ramesh",
         {
          "Refrigerator": "LG",
          "TV": "Croma"
         }
        ],
        [
         "Rajesh",
         null
        ]
       ],
       "datasetInfos": [],
       "dbfsResultPath": null,
       "isJsonSchema": true,
       "metadata": {},
       "overflow": false,
       "plotOptions": {
        "customPlotOptions": {},
        "displayType": "table",
        "pivotAggregation": null,
        "pivotColumns": null,
        "xColumns": null,
        "yColumns": null
       },
       "removedWidgets": [],
       "schema": [
        {
         "metadata": "{}",
         "name": "name",
         "type": "\"string\""
        },
        {
         "metadata": "{}",
         "name": "brand",
         "type": "{\"type\":\"map\",\"keyType\":\"string\",\"valueType\":\"string\",\"valueContainsNull\":true}"
        }
       ],
       "type": "table"
      }
     },
     "output_type": "display_data"
    }
   ],
   "source": [
    "map_brand = [\n",
    "    ('Raja',{'TV':'LG','Refrigerator':'Samsung','Oven':'Phillips','AC':'Voltas'}),\n",
    "    ('Rahgava',{'AC':'Samsung','Washing Machinee':'LG'}),\n",
    "    ('Ram',{'Grinder':'Preethi','TV':''}),\n",
    "    ('Ramesh',{'Refrigerator':'LG','TV':'Croma'}),\n",
    "     ('Rajesh',None)\n",
    "]\n",
    "df_brand = spark.createDataFrame(data= map_brand, schema=['name','brand'])\n",
    "df_brand.printSchema()\n",
    "display(df_brand)"
   ]
  },
  {
   "cell_type": "markdown",
   "metadata": {
    "application/vnd.databricks.v1+cell": {
     "cellMetadata": {},
     "inputWidgets": {},
     "nuid": "a8d83abb-997f-4834-ae96-5982fe7f6859",
     "showTitle": false,
     "title": ""
    }
   },
   "source": [
    "###Explode array field"
   ]
  },
  {
   "cell_type": "code",
   "execution_count": 0,
   "metadata": {
    "application/vnd.databricks.v1+cell": {
     "cellMetadata": {
      "byteLimit": 2048000,
      "rowLimit": 10000
     },
     "inputWidgets": {},
     "nuid": "570d0bd5-3b24-4b4f-a632-c6c1ee5b8df0",
     "showTitle": false,
     "title": ""
    }
   },
   "outputs": [
    {
     "output_type": "stream",
     "name": "stdout",
     "output_type": "stream",
     "text": [
      "root\n |-- name: string (nullable = true)\n |-- appliances: array (nullable = true)\n |    |-- element: string (containsNull = true)\n\n"
     ]
    },
    {
     "output_type": "display_data",
     "data": {
      "text/html": [
       "<style scoped>\n",
       "  .table-result-container {\n",
       "    max-height: 300px;\n",
       "    overflow: auto;\n",
       "  }\n",
       "  table, th, td {\n",
       "    border: 1px solid black;\n",
       "    border-collapse: collapse;\n",
       "  }\n",
       "  th, td {\n",
       "    padding: 5px;\n",
       "  }\n",
       "  th {\n",
       "    text-align: left;\n",
       "  }\n",
       "</style><div class='table-result-container'><table class='table-result'><thead style='background-color: white'><tr><th>name</th><th>appliances</th></tr></thead><tbody><tr><td>Raja</td><td>List(TV, Refrigerator, Oven, AC)</td></tr><tr><td>Rahgava</td><td>List(AC, Washing Machinee, null)</td></tr><tr><td>Ram</td><td>List(Grinder, TV)</td></tr><tr><td>Ramesh</td><td>List(Refrigerator, TV, null)</td></tr><tr><td>Rajesh</td><td>null</td></tr></tbody></table></div>"
      ]
     },
     "metadata": {
      "application/vnd.databricks.v1+output": {
       "addedWidgets": {},
       "aggData": [],
       "aggError": "",
       "aggOverflow": false,
       "aggSchema": [],
       "aggSeriesLimitReached": false,
       "aggType": "",
       "arguments": {},
       "columnCustomDisplayInfos": {},
       "data": [
        [
         "Raja",
         [
          "TV",
          "Refrigerator",
          "Oven",
          "AC"
         ]
        ],
        [
         "Rahgava",
         [
          "AC",
          "Washing Machinee",
          null
         ]
        ],
        [
         "Ram",
         [
          "Grinder",
          "TV"
         ]
        ],
        [
         "Ramesh",
         [
          "Refrigerator",
          "TV",
          null
         ]
        ],
        [
         "Rajesh",
         null
        ]
       ],
       "datasetInfos": [],
       "dbfsResultPath": null,
       "isJsonSchema": true,
       "metadata": {},
       "overflow": false,
       "plotOptions": {
        "customPlotOptions": {},
        "displayType": "table",
        "pivotAggregation": null,
        "pivotColumns": null,
        "xColumns": null,
        "yColumns": null
       },
       "removedWidgets": [],
       "schema": [
        {
         "metadata": "{}",
         "name": "name",
         "type": "\"string\""
        },
        {
         "metadata": "{}",
         "name": "appliances",
         "type": "{\"type\":\"array\",\"elementType\":\"string\",\"containsNull\":true}"
        }
       ],
       "type": "table"
      }
     },
     "output_type": "display_data"
    },
    {
     "output_type": "stream",
     "name": "stdout",
     "output_type": "stream",
     "text": [
      "root\n |-- name: string (nullable = true)\n |-- col: string (nullable = true)\n\n"
     ]
    },
    {
     "output_type": "display_data",
     "data": {
      "text/html": [
       "<style scoped>\n",
       "  .table-result-container {\n",
       "    max-height: 300px;\n",
       "    overflow: auto;\n",
       "  }\n",
       "  table, th, td {\n",
       "    border: 1px solid black;\n",
       "    border-collapse: collapse;\n",
       "  }\n",
       "  th, td {\n",
       "    padding: 5px;\n",
       "  }\n",
       "  th {\n",
       "    text-align: left;\n",
       "  }\n",
       "</style><div class='table-result-container'><table class='table-result'><thead style='background-color: white'><tr><th>name</th><th>col</th></tr></thead><tbody><tr><td>Raja</td><td>TV</td></tr><tr><td>Raja</td><td>Refrigerator</td></tr><tr><td>Raja</td><td>Oven</td></tr><tr><td>Raja</td><td>AC</td></tr><tr><td>Rahgava</td><td>AC</td></tr><tr><td>Rahgava</td><td>Washing Machinee</td></tr><tr><td>Rahgava</td><td>null</td></tr><tr><td>Ram</td><td>Grinder</td></tr><tr><td>Ram</td><td>TV</td></tr><tr><td>Ramesh</td><td>Refrigerator</td></tr><tr><td>Ramesh</td><td>TV</td></tr><tr><td>Ramesh</td><td>null</td></tr></tbody></table></div>"
      ]
     },
     "metadata": {
      "application/vnd.databricks.v1+output": {
       "addedWidgets": {},
       "aggData": [],
       "aggError": "",
       "aggOverflow": false,
       "aggSchema": [],
       "aggSeriesLimitReached": false,
       "aggType": "",
       "arguments": {},
       "columnCustomDisplayInfos": {},
       "data": [
        [
         "Raja",
         "TV"
        ],
        [
         "Raja",
         "Refrigerator"
        ],
        [
         "Raja",
         "Oven"
        ],
        [
         "Raja",
         "AC"
        ],
        [
         "Rahgava",
         "AC"
        ],
        [
         "Rahgava",
         "Washing Machinee"
        ],
        [
         "Rahgava",
         null
        ],
        [
         "Ram",
         "Grinder"
        ],
        [
         "Ram",
         "TV"
        ],
        [
         "Ramesh",
         "Refrigerator"
        ],
        [
         "Ramesh",
         "TV"
        ],
        [
         "Ramesh",
         null
        ]
       ],
       "datasetInfos": [],
       "dbfsResultPath": null,
       "isJsonSchema": true,
       "metadata": {},
       "overflow": false,
       "plotOptions": {
        "customPlotOptions": {},
        "displayType": "table",
        "pivotAggregation": null,
        "pivotColumns": null,
        "xColumns": null,
        "yColumns": null
       },
       "removedWidgets": [],
       "schema": [
        {
         "metadata": "{}",
         "name": "name",
         "type": "\"string\""
        },
        {
         "metadata": "{}",
         "name": "col",
         "type": "\"string\""
        }
       ],
       "type": "table"
      }
     },
     "output_type": "display_data"
    }
   ],
   "source": [
    "from pyspark.sql.functions import explode\n",
    "\n",
    "df2 = df_app.select(df_app.name, explode(df_app.appliances))\n",
    "\n",
    "df_app.printSchema()\n",
    "display(df_app)\n",
    "\n",
    "df2.printSchema()\n",
    "display(df2)"
   ]
  },
  {
   "cell_type": "markdown",
   "metadata": {
    "application/vnd.databricks.v1+cell": {
     "cellMetadata": {},
     "inputWidgets": {},
     "nuid": "21821f5c-cfb2-4e2f-9643-9a6191410004",
     "showTitle": false,
     "title": ""
    }
   },
   "source": [
    "###Explode Map"
   ]
  },
  {
   "cell_type": "code",
   "execution_count": 0,
   "metadata": {
    "application/vnd.databricks.v1+cell": {
     "cellMetadata": {
      "byteLimit": 2048000,
      "rowLimit": 10000
     },
     "inputWidgets": {},
     "nuid": "79d8e381-45ef-4fa7-9b48-a5e5cb90c9f8",
     "showTitle": false,
     "title": ""
    }
   },
   "outputs": [
    {
     "output_type": "stream",
     "name": "stdout",
     "output_type": "stream",
     "text": [
      "root\n |-- name: string (nullable = true)\n |-- brand: map (nullable = true)\n |    |-- key: string\n |    |-- value: string (valueContainsNull = true)\n\n"
     ]
    },
    {
     "output_type": "display_data",
     "data": {
      "text/html": [
       "<style scoped>\n",
       "  .table-result-container {\n",
       "    max-height: 300px;\n",
       "    overflow: auto;\n",
       "  }\n",
       "  table, th, td {\n",
       "    border: 1px solid black;\n",
       "    border-collapse: collapse;\n",
       "  }\n",
       "  th, td {\n",
       "    padding: 5px;\n",
       "  }\n",
       "  th {\n",
       "    text-align: left;\n",
       "  }\n",
       "</style><div class='table-result-container'><table class='table-result'><thead style='background-color: white'><tr><th>name</th><th>appliances</th></tr></thead><tbody><tr><td>Raja</td><td>List(TV, Refrigerator, Oven, AC)</td></tr><tr><td>Rahgava</td><td>List(AC, Washing Machinee, null)</td></tr><tr><td>Ram</td><td>List(Grinder, TV)</td></tr><tr><td>Ramesh</td><td>List(Refrigerator, TV, null)</td></tr><tr><td>Rajesh</td><td>null</td></tr></tbody></table></div>"
      ]
     },
     "metadata": {
      "application/vnd.databricks.v1+output": {
       "addedWidgets": {},
       "aggData": [],
       "aggError": "",
       "aggOverflow": false,
       "aggSchema": [],
       "aggSeriesLimitReached": false,
       "aggType": "",
       "arguments": {},
       "columnCustomDisplayInfos": {},
       "data": [
        [
         "Raja",
         [
          "TV",
          "Refrigerator",
          "Oven",
          "AC"
         ]
        ],
        [
         "Rahgava",
         [
          "AC",
          "Washing Machinee",
          null
         ]
        ],
        [
         "Ram",
         [
          "Grinder",
          "TV"
         ]
        ],
        [
         "Ramesh",
         [
          "Refrigerator",
          "TV",
          null
         ]
        ],
        [
         "Rajesh",
         null
        ]
       ],
       "datasetInfos": [],
       "dbfsResultPath": null,
       "isJsonSchema": true,
       "metadata": {},
       "overflow": false,
       "plotOptions": {
        "customPlotOptions": {},
        "displayType": "table",
        "pivotAggregation": null,
        "pivotColumns": null,
        "xColumns": null,
        "yColumns": null
       },
       "removedWidgets": [],
       "schema": [
        {
         "metadata": "{}",
         "name": "name",
         "type": "\"string\""
        },
        {
         "metadata": "{}",
         "name": "appliances",
         "type": "{\"type\":\"array\",\"elementType\":\"string\",\"containsNull\":true}"
        }
       ],
       "type": "table"
      }
     },
     "output_type": "display_data"
    },
    {
     "output_type": "stream",
     "name": "stdout",
     "output_type": "stream",
     "text": [
      "root\n |-- name: string (nullable = true)\n |-- key: string (nullable = false)\n |-- value: string (nullable = true)\n\n"
     ]
    },
    {
     "output_type": "display_data",
     "data": {
      "text/html": [
       "<style scoped>\n",
       "  .table-result-container {\n",
       "    max-height: 300px;\n",
       "    overflow: auto;\n",
       "  }\n",
       "  table, th, td {\n",
       "    border: 1px solid black;\n",
       "    border-collapse: collapse;\n",
       "  }\n",
       "  th, td {\n",
       "    padding: 5px;\n",
       "  }\n",
       "  th {\n",
       "    text-align: left;\n",
       "  }\n",
       "</style><div class='table-result-container'><table class='table-result'><thead style='background-color: white'><tr><th>name</th><th>key</th><th>value</th></tr></thead><tbody><tr><td>Raja</td><td>Refrigerator</td><td>Samsung</td></tr><tr><td>Raja</td><td>AC</td><td>Voltas</td></tr><tr><td>Raja</td><td>TV</td><td>LG</td></tr><tr><td>Raja</td><td>Oven</td><td>Phillips</td></tr><tr><td>Rahgava</td><td>Washing Machinee</td><td>LG</td></tr><tr><td>Rahgava</td><td>AC</td><td>Samsung</td></tr><tr><td>Ram</td><td>TV</td><td></td></tr><tr><td>Ram</td><td>Grinder</td><td>Preethi</td></tr><tr><td>Ramesh</td><td>Refrigerator</td><td>LG</td></tr><tr><td>Ramesh</td><td>TV</td><td>Croma</td></tr></tbody></table></div>"
      ]
     },
     "metadata": {
      "application/vnd.databricks.v1+output": {
       "addedWidgets": {},
       "aggData": [],
       "aggError": "",
       "aggOverflow": false,
       "aggSchema": [],
       "aggSeriesLimitReached": false,
       "aggType": "",
       "arguments": {},
       "columnCustomDisplayInfos": {},
       "data": [
        [
         "Raja",
         "Refrigerator",
         "Samsung"
        ],
        [
         "Raja",
         "AC",
         "Voltas"
        ],
        [
         "Raja",
         "TV",
         "LG"
        ],
        [
         "Raja",
         "Oven",
         "Phillips"
        ],
        [
         "Rahgava",
         "Washing Machinee",
         "LG"
        ],
        [
         "Rahgava",
         "AC",
         "Samsung"
        ],
        [
         "Ram",
         "TV",
         ""
        ],
        [
         "Ram",
         "Grinder",
         "Preethi"
        ],
        [
         "Ramesh",
         "Refrigerator",
         "LG"
        ],
        [
         "Ramesh",
         "TV",
         "Croma"
        ]
       ],
       "datasetInfos": [],
       "dbfsResultPath": null,
       "isJsonSchema": true,
       "metadata": {},
       "overflow": false,
       "plotOptions": {
        "customPlotOptions": {},
        "displayType": "table",
        "pivotAggregation": null,
        "pivotColumns": null,
        "xColumns": null,
        "yColumns": null
       },
       "removedWidgets": [],
       "schema": [
        {
         "metadata": "{}",
         "name": "name",
         "type": "\"string\""
        },
        {
         "metadata": "{}",
         "name": "key",
         "type": "\"string\""
        },
        {
         "metadata": "{}",
         "name": "value",
         "type": "\"string\""
        }
       ],
       "type": "table"
      }
     },
     "output_type": "display_data"
    }
   ],
   "source": [
    "from pyspark.sql.functions import explode\n",
    "\n",
    "df3 = df_brand.select(df_brand.name, explode(df_brand.brand))\n",
    "\n",
    "df_brand.printSchema()\n",
    "display(df_app)\n",
    "\n",
    "df3.printSchema()\n",
    "display(df3)"
   ]
  },
  {
   "cell_type": "markdown",
   "metadata": {
    "application/vnd.databricks.v1+cell": {
     "cellMetadata": {},
     "inputWidgets": {},
     "nuid": "c3f44273-a104-43b0-8429-a8895d151f16",
     "showTitle": false,
     "title": ""
    }
   },
   "source": [
    "###Explode outer to consider NULL values"
   ]
  },
  {
   "cell_type": "code",
   "execution_count": 0,
   "metadata": {
    "application/vnd.databricks.v1+cell": {
     "cellMetadata": {
      "byteLimit": 2048000,
      "rowLimit": 10000
     },
     "inputWidgets": {},
     "nuid": "2111c7cf-c322-4dd3-ac97-67f8dd4cb0f7",
     "showTitle": false,
     "title": ""
    }
   },
   "outputs": [
    {
     "output_type": "display_data",
     "data": {
      "text/html": [
       "<style scoped>\n",
       "  .table-result-container {\n",
       "    max-height: 300px;\n",
       "    overflow: auto;\n",
       "  }\n",
       "  table, th, td {\n",
       "    border: 1px solid black;\n",
       "    border-collapse: collapse;\n",
       "  }\n",
       "  th, td {\n",
       "    padding: 5px;\n",
       "  }\n",
       "  th {\n",
       "    text-align: left;\n",
       "  }\n",
       "</style><div class='table-result-container'><table class='table-result'><thead style='background-color: white'><tr><th>name</th><th>col</th></tr></thead><tbody><tr><td>Raja</td><td>TV</td></tr><tr><td>Raja</td><td>Refrigerator</td></tr><tr><td>Raja</td><td>Oven</td></tr><tr><td>Raja</td><td>AC</td></tr><tr><td>Rahgava</td><td>AC</td></tr><tr><td>Rahgava</td><td>Washing Machinee</td></tr><tr><td>Rahgava</td><td>null</td></tr><tr><td>Ram</td><td>Grinder</td></tr><tr><td>Ram</td><td>TV</td></tr><tr><td>Ramesh</td><td>Refrigerator</td></tr><tr><td>Ramesh</td><td>TV</td></tr><tr><td>Ramesh</td><td>null</td></tr><tr><td>Rajesh</td><td>null</td></tr></tbody></table></div>"
      ]
     },
     "metadata": {
      "application/vnd.databricks.v1+output": {
       "addedWidgets": {},
       "aggData": [],
       "aggError": "",
       "aggOverflow": false,
       "aggSchema": [],
       "aggSeriesLimitReached": false,
       "aggType": "",
       "arguments": {},
       "columnCustomDisplayInfos": {},
       "data": [
        [
         "Raja",
         "TV"
        ],
        [
         "Raja",
         "Refrigerator"
        ],
        [
         "Raja",
         "Oven"
        ],
        [
         "Raja",
         "AC"
        ],
        [
         "Rahgava",
         "AC"
        ],
        [
         "Rahgava",
         "Washing Machinee"
        ],
        [
         "Rahgava",
         null
        ],
        [
         "Ram",
         "Grinder"
        ],
        [
         "Ram",
         "TV"
        ],
        [
         "Ramesh",
         "Refrigerator"
        ],
        [
         "Ramesh",
         "TV"
        ],
        [
         "Ramesh",
         null
        ],
        [
         "Rajesh",
         null
        ]
       ],
       "datasetInfos": [],
       "dbfsResultPath": null,
       "isJsonSchema": true,
       "metadata": {},
       "overflow": false,
       "plotOptions": {
        "customPlotOptions": {},
        "displayType": "table",
        "pivotAggregation": null,
        "pivotColumns": null,
        "xColumns": null,
        "yColumns": null
       },
       "removedWidgets": [],
       "schema": [
        {
         "metadata": "{}",
         "name": "name",
         "type": "\"string\""
        },
        {
         "metadata": "{}",
         "name": "col",
         "type": "\"string\""
        }
       ],
       "type": "table"
      }
     },
     "output_type": "display_data"
    },
    {
     "output_type": "display_data",
     "data": {
      "text/html": [
       "<style scoped>\n",
       "  .table-result-container {\n",
       "    max-height: 300px;\n",
       "    overflow: auto;\n",
       "  }\n",
       "  table, th, td {\n",
       "    border: 1px solid black;\n",
       "    border-collapse: collapse;\n",
       "  }\n",
       "  th, td {\n",
       "    padding: 5px;\n",
       "  }\n",
       "  th {\n",
       "    text-align: left;\n",
       "  }\n",
       "</style><div class='table-result-container'><table class='table-result'><thead style='background-color: white'><tr><th>name</th><th>key</th><th>value</th></tr></thead><tbody><tr><td>Raja</td><td>Refrigerator</td><td>Samsung</td></tr><tr><td>Raja</td><td>AC</td><td>Voltas</td></tr><tr><td>Raja</td><td>TV</td><td>LG</td></tr><tr><td>Raja</td><td>Oven</td><td>Phillips</td></tr><tr><td>Rahgava</td><td>Washing Machinee</td><td>LG</td></tr><tr><td>Rahgava</td><td>AC</td><td>Samsung</td></tr><tr><td>Ram</td><td>TV</td><td></td></tr><tr><td>Ram</td><td>Grinder</td><td>Preethi</td></tr><tr><td>Ramesh</td><td>Refrigerator</td><td>LG</td></tr><tr><td>Ramesh</td><td>TV</td><td>Croma</td></tr><tr><td>Rajesh</td><td>null</td><td>null</td></tr></tbody></table></div>"
      ]
     },
     "metadata": {
      "application/vnd.databricks.v1+output": {
       "addedWidgets": {},
       "aggData": [],
       "aggError": "",
       "aggOverflow": false,
       "aggSchema": [],
       "aggSeriesLimitReached": false,
       "aggType": "",
       "arguments": {},
       "columnCustomDisplayInfos": {},
       "data": [
        [
         "Raja",
         "Refrigerator",
         "Samsung"
        ],
        [
         "Raja",
         "AC",
         "Voltas"
        ],
        [
         "Raja",
         "TV",
         "LG"
        ],
        [
         "Raja",
         "Oven",
         "Phillips"
        ],
        [
         "Rahgava",
         "Washing Machinee",
         "LG"
        ],
        [
         "Rahgava",
         "AC",
         "Samsung"
        ],
        [
         "Ram",
         "TV",
         ""
        ],
        [
         "Ram",
         "Grinder",
         "Preethi"
        ],
        [
         "Ramesh",
         "Refrigerator",
         "LG"
        ],
        [
         "Ramesh",
         "TV",
         "Croma"
        ],
        [
         "Rajesh",
         null,
         null
        ]
       ],
       "datasetInfos": [],
       "dbfsResultPath": null,
       "isJsonSchema": true,
       "metadata": {},
       "overflow": false,
       "plotOptions": {
        "customPlotOptions": {},
        "displayType": "table",
        "pivotAggregation": null,
        "pivotColumns": null,
        "xColumns": null,
        "yColumns": null
       },
       "removedWidgets": [],
       "schema": [
        {
         "metadata": "{}",
         "name": "name",
         "type": "\"string\""
        },
        {
         "metadata": "{}",
         "name": "key",
         "type": "\"string\""
        },
        {
         "metadata": "{}",
         "name": "value",
         "type": "\"string\""
        }
       ],
       "type": "table"
      }
     },
     "output_type": "display_data"
    }
   ],
   "source": [
    "from pyspark.sql.functions import explode_outer\n",
    "\n",
    "display(df_app.select(df_app.name, explode_outer(df_app.appliances)))\n",
    "\n",
    "display(df_brand.select(df_brand.name, explode_outer(df_brand.brand)))\n"
   ]
  },
  {
   "cell_type": "markdown",
   "metadata": {
    "application/vnd.databricks.v1+cell": {
     "cellMetadata": {},
     "inputWidgets": {},
     "nuid": "8c22b789-7daf-4ae5-add3-a1b557a49c09",
     "showTitle": false,
     "title": ""
    }
   },
   "source": [
    "###Positional Explode"
   ]
  },
  {
   "cell_type": "code",
   "execution_count": 0,
   "metadata": {
    "application/vnd.databricks.v1+cell": {
     "cellMetadata": {
      "byteLimit": 2048000,
      "rowLimit": 10000
     },
     "inputWidgets": {},
     "nuid": "6368c2f5-96ba-4e50-a110-bf537dd9c75e",
     "showTitle": false,
     "title": ""
    }
   },
   "outputs": [
    {
     "output_type": "display_data",
     "data": {
      "text/html": [
       "<style scoped>\n",
       "  .table-result-container {\n",
       "    max-height: 300px;\n",
       "    overflow: auto;\n",
       "  }\n",
       "  table, th, td {\n",
       "    border: 1px solid black;\n",
       "    border-collapse: collapse;\n",
       "  }\n",
       "  th, td {\n",
       "    padding: 5px;\n",
       "  }\n",
       "  th {\n",
       "    text-align: left;\n",
       "  }\n",
       "</style><div class='table-result-container'><table class='table-result'><thead style='background-color: white'><tr><th>name</th><th>pos</th><th>col</th></tr></thead><tbody><tr><td>Raja</td><td>0</td><td>TV</td></tr><tr><td>Raja</td><td>1</td><td>Refrigerator</td></tr><tr><td>Raja</td><td>2</td><td>Oven</td></tr><tr><td>Raja</td><td>3</td><td>AC</td></tr><tr><td>Rahgava</td><td>0</td><td>AC</td></tr><tr><td>Rahgava</td><td>1</td><td>Washing Machinee</td></tr><tr><td>Rahgava</td><td>2</td><td>null</td></tr><tr><td>Ram</td><td>0</td><td>Grinder</td></tr><tr><td>Ram</td><td>1</td><td>TV</td></tr><tr><td>Ramesh</td><td>0</td><td>Refrigerator</td></tr><tr><td>Ramesh</td><td>1</td><td>TV</td></tr><tr><td>Ramesh</td><td>2</td><td>null</td></tr></tbody></table></div>"
      ]
     },
     "metadata": {
      "application/vnd.databricks.v1+output": {
       "addedWidgets": {},
       "aggData": [],
       "aggError": "",
       "aggOverflow": false,
       "aggSchema": [],
       "aggSeriesLimitReached": false,
       "aggType": "",
       "arguments": {},
       "columnCustomDisplayInfos": {},
       "data": [
        [
         "Raja",
         0,
         "TV"
        ],
        [
         "Raja",
         1,
         "Refrigerator"
        ],
        [
         "Raja",
         2,
         "Oven"
        ],
        [
         "Raja",
         3,
         "AC"
        ],
        [
         "Rahgava",
         0,
         "AC"
        ],
        [
         "Rahgava",
         1,
         "Washing Machinee"
        ],
        [
         "Rahgava",
         2,
         null
        ],
        [
         "Ram",
         0,
         "Grinder"
        ],
        [
         "Ram",
         1,
         "TV"
        ],
        [
         "Ramesh",
         0,
         "Refrigerator"
        ],
        [
         "Ramesh",
         1,
         "TV"
        ],
        [
         "Ramesh",
         2,
         null
        ]
       ],
       "datasetInfos": [],
       "dbfsResultPath": null,
       "isJsonSchema": true,
       "metadata": {},
       "overflow": false,
       "plotOptions": {
        "customPlotOptions": {},
        "displayType": "table",
        "pivotAggregation": null,
        "pivotColumns": null,
        "xColumns": null,
        "yColumns": null
       },
       "removedWidgets": [],
       "schema": [
        {
         "metadata": "{}",
         "name": "name",
         "type": "\"string\""
        },
        {
         "metadata": "{}",
         "name": "pos",
         "type": "\"integer\""
        },
        {
         "metadata": "{}",
         "name": "col",
         "type": "\"string\""
        }
       ],
       "type": "table"
      }
     },
     "output_type": "display_data"
    },
    {
     "output_type": "display_data",
     "data": {
      "text/html": [
       "<style scoped>\n",
       "  .table-result-container {\n",
       "    max-height: 300px;\n",
       "    overflow: auto;\n",
       "  }\n",
       "  table, th, td {\n",
       "    border: 1px solid black;\n",
       "    border-collapse: collapse;\n",
       "  }\n",
       "  th, td {\n",
       "    padding: 5px;\n",
       "  }\n",
       "  th {\n",
       "    text-align: left;\n",
       "  }\n",
       "</style><div class='table-result-container'><table class='table-result'><thead style='background-color: white'><tr><th>name</th><th>pos</th><th>key</th><th>value</th></tr></thead><tbody><tr><td>Raja</td><td>0</td><td>Refrigerator</td><td>Samsung</td></tr><tr><td>Raja</td><td>1</td><td>AC</td><td>Voltas</td></tr><tr><td>Raja</td><td>2</td><td>TV</td><td>LG</td></tr><tr><td>Raja</td><td>3</td><td>Oven</td><td>Phillips</td></tr><tr><td>Rahgava</td><td>0</td><td>Washing Machinee</td><td>LG</td></tr><tr><td>Rahgava</td><td>1</td><td>AC</td><td>Samsung</td></tr><tr><td>Ram</td><td>0</td><td>TV</td><td></td></tr><tr><td>Ram</td><td>1</td><td>Grinder</td><td>Preethi</td></tr><tr><td>Ramesh</td><td>0</td><td>Refrigerator</td><td>LG</td></tr><tr><td>Ramesh</td><td>1</td><td>TV</td><td>Croma</td></tr></tbody></table></div>"
      ]
     },
     "metadata": {
      "application/vnd.databricks.v1+output": {
       "addedWidgets": {},
       "aggData": [],
       "aggError": "",
       "aggOverflow": false,
       "aggSchema": [],
       "aggSeriesLimitReached": false,
       "aggType": "",
       "arguments": {},
       "columnCustomDisplayInfos": {},
       "data": [
        [
         "Raja",
         0,
         "Refrigerator",
         "Samsung"
        ],
        [
         "Raja",
         1,
         "AC",
         "Voltas"
        ],
        [
         "Raja",
         2,
         "TV",
         "LG"
        ],
        [
         "Raja",
         3,
         "Oven",
         "Phillips"
        ],
        [
         "Rahgava",
         0,
         "Washing Machinee",
         "LG"
        ],
        [
         "Rahgava",
         1,
         "AC",
         "Samsung"
        ],
        [
         "Ram",
         0,
         "TV",
         ""
        ],
        [
         "Ram",
         1,
         "Grinder",
         "Preethi"
        ],
        [
         "Ramesh",
         0,
         "Refrigerator",
         "LG"
        ],
        [
         "Ramesh",
         1,
         "TV",
         "Croma"
        ]
       ],
       "datasetInfos": [],
       "dbfsResultPath": null,
       "isJsonSchema": true,
       "metadata": {},
       "overflow": false,
       "plotOptions": {
        "customPlotOptions": {},
        "displayType": "table",
        "pivotAggregation": null,
        "pivotColumns": null,
        "xColumns": null,
        "yColumns": null
       },
       "removedWidgets": [],
       "schema": [
        {
         "metadata": "{}",
         "name": "name",
         "type": "\"string\""
        },
        {
         "metadata": "{}",
         "name": "pos",
         "type": "\"integer\""
        },
        {
         "metadata": "{}",
         "name": "key",
         "type": "\"string\""
        },
        {
         "metadata": "{}",
         "name": "value",
         "type": "\"string\""
        }
       ],
       "type": "table"
      }
     },
     "output_type": "display_data"
    }
   ],
   "source": [
    "from pyspark.sql.functions import posexplode\n",
    "\n",
    "display(df_app.select(df_app.name, posexplode(df_app.appliances)))\n",
    "\n",
    "display(df_brand.select(df_brand.name, posexplode(df_brand.brand)))\n"
   ]
  },
  {
   "cell_type": "markdown",
   "metadata": {
    "application/vnd.databricks.v1+cell": {
     "cellMetadata": {},
     "inputWidgets": {},
     "nuid": "17039c87-1c67-4434-b594-2e301cc1d43e",
     "showTitle": false,
     "title": ""
    }
   },
   "source": [
    "###Positional Explode with outer"
   ]
  },
  {
   "cell_type": "code",
   "execution_count": 0,
   "metadata": {
    "application/vnd.databricks.v1+cell": {
     "cellMetadata": {
      "byteLimit": 2048000,
      "rowLimit": 10000
     },
     "inputWidgets": {},
     "nuid": "e99c702e-d2a3-4bcb-97a4-f3472e5114ee",
     "showTitle": false,
     "title": ""
    }
   },
   "outputs": [
    {
     "output_type": "display_data",
     "data": {
      "text/html": [
       "<style scoped>\n",
       "  .table-result-container {\n",
       "    max-height: 300px;\n",
       "    overflow: auto;\n",
       "  }\n",
       "  table, th, td {\n",
       "    border: 1px solid black;\n",
       "    border-collapse: collapse;\n",
       "  }\n",
       "  th, td {\n",
       "    padding: 5px;\n",
       "  }\n",
       "  th {\n",
       "    text-align: left;\n",
       "  }\n",
       "</style><div class='table-result-container'><table class='table-result'><thead style='background-color: white'><tr><th>name</th><th>pos</th><th>col</th></tr></thead><tbody><tr><td>Raja</td><td>0</td><td>TV</td></tr><tr><td>Raja</td><td>1</td><td>Refrigerator</td></tr><tr><td>Raja</td><td>2</td><td>Oven</td></tr><tr><td>Raja</td><td>3</td><td>AC</td></tr><tr><td>Rahgava</td><td>0</td><td>AC</td></tr><tr><td>Rahgava</td><td>1</td><td>Washing Machinee</td></tr><tr><td>Rahgava</td><td>2</td><td>null</td></tr><tr><td>Ram</td><td>0</td><td>Grinder</td></tr><tr><td>Ram</td><td>1</td><td>TV</td></tr><tr><td>Ramesh</td><td>0</td><td>Refrigerator</td></tr><tr><td>Ramesh</td><td>1</td><td>TV</td></tr><tr><td>Ramesh</td><td>2</td><td>null</td></tr><tr><td>Rajesh</td><td>null</td><td>null</td></tr></tbody></table></div>"
      ]
     },
     "metadata": {
      "application/vnd.databricks.v1+output": {
       "addedWidgets": {},
       "aggData": [],
       "aggError": "",
       "aggOverflow": false,
       "aggSchema": [],
       "aggSeriesLimitReached": false,
       "aggType": "",
       "arguments": {},
       "columnCustomDisplayInfos": {},
       "data": [
        [
         "Raja",
         0,
         "TV"
        ],
        [
         "Raja",
         1,
         "Refrigerator"
        ],
        [
         "Raja",
         2,
         "Oven"
        ],
        [
         "Raja",
         3,
         "AC"
        ],
        [
         "Rahgava",
         0,
         "AC"
        ],
        [
         "Rahgava",
         1,
         "Washing Machinee"
        ],
        [
         "Rahgava",
         2,
         null
        ],
        [
         "Ram",
         0,
         "Grinder"
        ],
        [
         "Ram",
         1,
         "TV"
        ],
        [
         "Ramesh",
         0,
         "Refrigerator"
        ],
        [
         "Ramesh",
         1,
         "TV"
        ],
        [
         "Ramesh",
         2,
         null
        ],
        [
         "Rajesh",
         null,
         null
        ]
       ],
       "datasetInfos": [],
       "dbfsResultPath": null,
       "isJsonSchema": true,
       "metadata": {},
       "overflow": false,
       "plotOptions": {
        "customPlotOptions": {},
        "displayType": "table",
        "pivotAggregation": null,
        "pivotColumns": null,
        "xColumns": null,
        "yColumns": null
       },
       "removedWidgets": [],
       "schema": [
        {
         "metadata": "{}",
         "name": "name",
         "type": "\"string\""
        },
        {
         "metadata": "{}",
         "name": "pos",
         "type": "\"integer\""
        },
        {
         "metadata": "{}",
         "name": "col",
         "type": "\"string\""
        }
       ],
       "type": "table"
      }
     },
     "output_type": "display_data"
    },
    {
     "output_type": "display_data",
     "data": {
      "text/html": [
       "<style scoped>\n",
       "  .table-result-container {\n",
       "    max-height: 300px;\n",
       "    overflow: auto;\n",
       "  }\n",
       "  table, th, td {\n",
       "    border: 1px solid black;\n",
       "    border-collapse: collapse;\n",
       "  }\n",
       "  th, td {\n",
       "    padding: 5px;\n",
       "  }\n",
       "  th {\n",
       "    text-align: left;\n",
       "  }\n",
       "</style><div class='table-result-container'><table class='table-result'><thead style='background-color: white'><tr><th>name</th><th>pos</th><th>key</th><th>value</th></tr></thead><tbody><tr><td>Raja</td><td>0</td><td>Refrigerator</td><td>Samsung</td></tr><tr><td>Raja</td><td>1</td><td>AC</td><td>Voltas</td></tr><tr><td>Raja</td><td>2</td><td>TV</td><td>LG</td></tr><tr><td>Raja</td><td>3</td><td>Oven</td><td>Phillips</td></tr><tr><td>Rahgava</td><td>0</td><td>Washing Machinee</td><td>LG</td></tr><tr><td>Rahgava</td><td>1</td><td>AC</td><td>Samsung</td></tr><tr><td>Ram</td><td>0</td><td>TV</td><td></td></tr><tr><td>Ram</td><td>1</td><td>Grinder</td><td>Preethi</td></tr><tr><td>Ramesh</td><td>0</td><td>Refrigerator</td><td>LG</td></tr><tr><td>Ramesh</td><td>1</td><td>TV</td><td>Croma</td></tr><tr><td>Rajesh</td><td>null</td><td>null</td><td>null</td></tr></tbody></table></div>"
      ]
     },
     "metadata": {
      "application/vnd.databricks.v1+output": {
       "addedWidgets": {},
       "aggData": [],
       "aggError": "",
       "aggOverflow": false,
       "aggSchema": [],
       "aggSeriesLimitReached": false,
       "aggType": "",
       "arguments": {},
       "columnCustomDisplayInfos": {},
       "data": [
        [
         "Raja",
         0,
         "Refrigerator",
         "Samsung"
        ],
        [
         "Raja",
         1,
         "AC",
         "Voltas"
        ],
        [
         "Raja",
         2,
         "TV",
         "LG"
        ],
        [
         "Raja",
         3,
         "Oven",
         "Phillips"
        ],
        [
         "Rahgava",
         0,
         "Washing Machinee",
         "LG"
        ],
        [
         "Rahgava",
         1,
         "AC",
         "Samsung"
        ],
        [
         "Ram",
         0,
         "TV",
         ""
        ],
        [
         "Ram",
         1,
         "Grinder",
         "Preethi"
        ],
        [
         "Ramesh",
         0,
         "Refrigerator",
         "LG"
        ],
        [
         "Ramesh",
         1,
         "TV",
         "Croma"
        ],
        [
         "Rajesh",
         null,
         null,
         null
        ]
       ],
       "datasetInfos": [],
       "dbfsResultPath": null,
       "isJsonSchema": true,
       "metadata": {},
       "overflow": false,
       "plotOptions": {
        "customPlotOptions": {},
        "displayType": "table",
        "pivotAggregation": null,
        "pivotColumns": null,
        "xColumns": null,
        "yColumns": null
       },
       "removedWidgets": [],
       "schema": [
        {
         "metadata": "{}",
         "name": "name",
         "type": "\"string\""
        },
        {
         "metadata": "{}",
         "name": "pos",
         "type": "\"integer\""
        },
        {
         "metadata": "{}",
         "name": "key",
         "type": "\"string\""
        },
        {
         "metadata": "{}",
         "name": "value",
         "type": "\"string\""
        }
       ],
       "type": "table"
      }
     },
     "output_type": "display_data"
    }
   ],
   "source": [
    "from pyspark.sql.functions import posexplode_outer\n",
    "\n",
    "display(df_app.select(df_app.name, posexplode_outer(df_app.appliances)))\n",
    "\n",
    "display(df_brand.select(df_brand.name, posexplode_outer(df_brand.brand)))\n"
   ]
  },
  {
   "cell_type": "code",
   "execution_count": 0,
   "metadata": {
    "application/vnd.databricks.v1+cell": {
     "cellMetadata": {},
     "inputWidgets": {},
     "nuid": "f8a07fe2-0903-46ea-9828-76bef9ac2f9c",
     "showTitle": false,
     "title": ""
    }
   },
   "outputs": [],
   "source": []
  }
 ],
 "metadata": {
  "application/vnd.databricks.v1+notebook": {
   "dashboards": [],
   "language": "python",
   "notebookMetadata": {
    "pythonIndentUnit": 4
   },
   "notebookName": "Pyspark Explode",
   "widgets": {}
  }
 },
 "nbformat": 4,
 "nbformat_minor": 0
}
