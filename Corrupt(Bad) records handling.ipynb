{
 "cells": [
  {
   "cell_type": "code",
   "execution_count": 0,
   "metadata": {
    "application/vnd.databricks.v1+cell": {
     "cellMetadata": {},
     "inputWidgets": {},
     "nuid": "1d4754a0-8c59-4eb8-90cd-e96e88e913cb",
     "showTitle": false,
     "title": ""
    }
   },
   "outputs": [],
   "source": [
    "df = spark.read.format('csv').option('header','true').option('inferschema','true').load('filepath')\n",
    "display(df)"
   ]
  },
  {
   "cell_type": "code",
   "execution_count": 0,
   "metadata": {
    "application/vnd.databricks.v1+cell": {
     "cellMetadata": {},
     "inputWidgets": {},
     "nuid": "77c7c95f-7766-4142-9b34-e44206683c08",
     "showTitle": false,
     "title": ""
    }
   },
   "outputs": [],
   "source": [
    "#Define schema\n",
    "from spark.sql.types import StructType, StructField, StringType, IntegerType\n",
    "\n",
    "schema = StructType([\\\n",
    "    StructField('Month',StringType(), True),\n",
    "    StructField('Emp_Count',IntegerType(),True),\n",
    "    StructField('production_unit',IntegerType(),True),\n",
    "    StructField('Expenses',IntegerType(),True),\n",
    "    StructField('_corrupt_records',StringType(), True)\n",
    "    ])"
   ]
  },
  {
   "cell_type": "markdown",
   "metadata": {
    "application/vnd.databricks.v1+cell": {
     "cellMetadata": {},
     "inputWidgets": {},
     "nuid": "c96a323f-7ff5-4797-b4b4-053a3173d7ae",
     "showTitle": false,
     "title": ""
    }
   },
   "source": [
    "###Permissive Mode"
   ]
  },
  {
   "cell_type": "code",
   "execution_count": 0,
   "metadata": {
    "application/vnd.databricks.v1+cell": {
     "cellMetadata": {},
     "inputWidgets": {},
     "nuid": "50d45a32-c10a-4110-99b0-3f465cc0805e",
     "showTitle": false,
     "title": ""
    }
   },
   "outputs": [],
   "source": [
    "df = spark.read.format('csv').option('header','true').option('mode','PERMISSIVE').schema(schema).load('filepath')\n",
    "display(df)"
   ]
  },
  {
   "cell_type": "markdown",
   "metadata": {
    "application/vnd.databricks.v1+cell": {
     "cellMetadata": {},
     "inputWidgets": {},
     "nuid": "7299d4d9-026c-46cc-b08a-5434240873ab",
     "showTitle": false,
     "title": ""
    }
   },
   "source": [
    "###DropMalformed mode"
   ]
  },
  {
   "cell_type": "code",
   "execution_count": 0,
   "metadata": {
    "application/vnd.databricks.v1+cell": {
     "cellMetadata": {},
     "inputWidgets": {},
     "nuid": "0c463e45-e145-4653-8f06-04e9bedd4ce5",
     "showTitle": false,
     "title": ""
    }
   },
   "outputs": [],
   "source": [
    "df = spark.read.format('csv').option('header','true').option('mode','DROPMALFORMED').schema(schema).load('filepath')\n",
    "display(df)"
   ]
  },
  {
   "cell_type": "markdown",
   "metadata": {
    "application/vnd.databricks.v1+cell": {
     "cellMetadata": {
      "byteLimit": 2048000,
      "rowLimit": 10000
     },
     "inputWidgets": {},
     "nuid": "aa7729b4-6883-4c1c-a4d5-d444d7b06f92",
     "showTitle": false,
     "title": ""
    }
   },
   "source": [
    "###FailFastMode"
   ]
  },
  {
   "cell_type": "code",
   "execution_count": 0,
   "metadata": {
    "application/vnd.databricks.v1+cell": {
     "cellMetadata": {},
     "inputWidgets": {},
     "nuid": "1748c7e0-48a3-40d0-a32f-212fc2106d5b",
     "showTitle": false,
     "title": ""
    }
   },
   "outputs": [],
   "source": [
    "df = spark.read.format('csv').option('header','true').option('mode','FAILFAST').schema(schema).load('filepath')\n",
    "display(df)"
   ]
  }
 ],
 "metadata": {
  "application/vnd.databricks.v1+notebook": {
   "dashboards": [],
   "language": "python",
   "notebookMetadata": {
    "pythonIndentUnit": 4
   },
   "notebookName": "Corrupt(Bad) records handling",
   "widgets": {}
  }
 },
 "nbformat": 4,
 "nbformat_minor": 0
}
