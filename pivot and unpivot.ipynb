{
 "cells": [
  {
   "cell_type": "markdown",
   "metadata": {
    "application/vnd.databricks.v1+cell": {
     "cellMetadata": {},
     "inputWidgets": {},
     "nuid": "d02a460c-f86f-4168-bda5-682014d7e275",
     "showTitle": false,
     "title": ""
    }
   },
   "source": [
    "###Create Sample dataframe"
   ]
  },
  {
   "cell_type": "code",
   "execution_count": 0,
   "metadata": {
    "application/vnd.databricks.v1+cell": {
     "cellMetadata": {
      "byteLimit": 2048000,
      "rowLimit": 10000
     },
     "inputWidgets": {},
     "nuid": "25d78b7d-9e4d-4d7e-811f-64c799d563e9",
     "showTitle": false,
     "title": ""
    }
   },
   "outputs": [
    {
     "output_type": "display_data",
     "data": {
      "text/html": [
       "<style scoped>\n",
       "  .table-result-container {\n",
       "    max-height: 300px;\n",
       "    overflow: auto;\n",
       "  }\n",
       "  table, th, td {\n",
       "    border: 1px solid black;\n",
       "    border-collapse: collapse;\n",
       "  }\n",
       "  th, td {\n",
       "    padding: 5px;\n",
       "  }\n",
       "  th {\n",
       "    text-align: left;\n",
       "  }\n",
       "</style><div class='table-result-container'><table class='table-result'><thead style='background-color: white'><tr><th>Company</th><th>Quater</th><th>Revenue</th></tr></thead><tbody><tr><td>ABC</td><td>Q1</td><td>2000</td></tr><tr><td>ABC</td><td>Q2</td><td>3000</td></tr><tr><td>ABC</td><td>Q3</td><td>6000</td></tr><tr><td>XYZ</td><td>Q1</td><td>5000</td></tr><tr><td>XYZ</td><td>Q2</td><td>4000</td></tr><tr><td>XYZ</td><td>Q3</td><td>1000</td></tr><tr><td>KLM</td><td>Q1</td><td>2000</td></tr><tr><td>KLM</td><td>Q2</td><td>3000</td></tr><tr><td>KLM</td><td>Q3</td><td>1000</td></tr></tbody></table></div>"
      ]
     },
     "metadata": {
      "application/vnd.databricks.v1+output": {
       "addedWidgets": {},
       "aggData": [],
       "aggError": "",
       "aggOverflow": false,
       "aggSchema": [],
       "aggSeriesLimitReached": false,
       "aggType": "",
       "arguments": {},
       "columnCustomDisplayInfos": {},
       "data": [
        [
         "ABC",
         "Q1",
         2000
        ],
        [
         "ABC",
         "Q2",
         3000
        ],
        [
         "ABC",
         "Q3",
         6000
        ],
        [
         "XYZ",
         "Q1",
         5000
        ],
        [
         "XYZ",
         "Q2",
         4000
        ],
        [
         "XYZ",
         "Q3",
         1000
        ],
        [
         "KLM",
         "Q1",
         2000
        ],
        [
         "KLM",
         "Q2",
         3000
        ],
        [
         "KLM",
         "Q3",
         1000
        ]
       ],
       "datasetInfos": [],
       "dbfsResultPath": null,
       "isJsonSchema": true,
       "metadata": {},
       "overflow": false,
       "plotOptions": {
        "customPlotOptions": {},
        "displayType": "table",
        "pivotAggregation": null,
        "pivotColumns": null,
        "xColumns": null,
        "yColumns": null
       },
       "removedWidgets": [],
       "schema": [
        {
         "metadata": "{}",
         "name": "Company",
         "type": "\"string\""
        },
        {
         "metadata": "{}",
         "name": "Quater",
         "type": "\"string\""
        },
        {
         "metadata": "{}",
         "name": "Revenue",
         "type": "\"long\""
        }
       ],
       "type": "table"
      }
     },
     "output_type": "display_data"
    }
   ],
   "source": [
    "data = [('ABC','Q1',2000),\n",
    "        ('ABC','Q2',3000),\n",
    "        ('ABC','Q3',6000),\n",
    "        ('XYZ','Q1',5000),\n",
    "        ('XYZ','Q2',4000),\n",
    "        ('XYZ','Q3',1000),\n",
    "        ('KLM','Q1',2000),\n",
    "        ('KLM','Q2',3000),\n",
    "        ('KLM','Q3',1000)]\n",
    "column =  ['Company','Quater','Revenue']\n",
    "df = spark.createDataFrame(data=data, schema=column)\n",
    "display(df)"
   ]
  },
  {
   "cell_type": "markdown",
   "metadata": {
    "application/vnd.databricks.v1+cell": {
     "cellMetadata": {},
     "inputWidgets": {},
     "nuid": "a15cfddb-1b52-4890-83f5-6c26d02ef77e",
     "showTitle": false,
     "title": ""
    }
   },
   "source": [
    "###Pivot a DataFrame"
   ]
  },
  {
   "cell_type": "code",
   "execution_count": 0,
   "metadata": {
    "application/vnd.databricks.v1+cell": {
     "cellMetadata": {
      "byteLimit": 2048000,
      "rowLimit": 10000
     },
     "inputWidgets": {},
     "nuid": "1af9fccf-c209-4256-bb0a-f2685ddfb8ec",
     "showTitle": false,
     "title": ""
    }
   },
   "outputs": [
    {
     "output_type": "stream",
     "name": "stdout",
     "output_type": "stream",
     "text": [
      "+-------+----+----+----+\n|company|  Q1|  Q2|  Q3|\n+-------+----+----+----+\n|    KLM|2000|3000|1000|\n|    XYZ|5000|4000|1000|\n|    ABC|2000|3000|6000|\n+-------+----+----+----+\n\n"
     ]
    }
   ],
   "source": [
    "pivot_df = df.groupBy('company').pivot('Quater').sum('Revenue')\n",
    "pivot_df.show()"
   ]
  },
  {
   "cell_type": "code",
   "execution_count": 0,
   "metadata": {
    "application/vnd.databricks.v1+cell": {
     "cellMetadata": {
      "byteLimit": 2048000,
      "rowLimit": 10000
     },
     "inputWidgets": {},
     "nuid": "6ce7b5e6-3d73-4505-8bd3-c1a2ef2179ab",
     "showTitle": false,
     "title": ""
    }
   },
   "outputs": [
    {
     "output_type": "display_data",
     "data": {
      "text/plain": [
       "<pyspark.sql.group.GroupedData at 0x7f776988a650>"
      ]
     },
     "metadata": {},
     "output_type": "display_data"
    }
   ],
   "source": [
    "pivot_df = df.groupBy('company').pivot('Quater')\n",
    "display(pivot_df)"
   ]
  },
  {
   "cell_type": "code",
   "execution_count": 0,
   "metadata": {
    "application/vnd.databricks.v1+cell": {
     "cellMetadata": {
      "byteLimit": 2048000,
      "rowLimit": 10000
     },
     "inputWidgets": {},
     "nuid": "da1d5b75-8feb-4444-8e5f-adbf0253a365",
     "showTitle": false,
     "title": ""
    }
   },
   "outputs": [
    {
     "output_type": "display_data",
     "data": {
      "text/plain": [
       "\u001B[0;31m---------------------------------------------------------------------------\u001B[0m\n",
       "\u001B[0;31mAttributeError\u001B[0m                            Traceback (most recent call last)\n",
       "File \u001B[0;32m<command-189585032698280>:3\u001B[0m\n",
       "\u001B[1;32m      1\u001B[0m \u001B[38;5;28;01mfrom\u001B[39;00m \u001B[38;5;21;01mpyspark\u001B[39;00m\u001B[38;5;21;01m.\u001B[39;00m\u001B[38;5;21;01msql\u001B[39;00m\u001B[38;5;21;01m.\u001B[39;00m\u001B[38;5;21;01mfunctions\u001B[39;00m \u001B[38;5;28;01mimport\u001B[39;00m expr\n",
       "\u001B[1;32m      2\u001B[0m unpivotExpr \u001B[38;5;241m=\u001B[39m \u001B[38;5;124m\"\u001B[39m\u001B[38;5;124mstack(3,\u001B[39m\u001B[38;5;124m'\u001B[39m\u001B[38;5;124mQ1\u001B[39m\u001B[38;5;124m'\u001B[39m\u001B[38;5;124m,Q1,\u001B[39m\u001B[38;5;124m'\u001B[39m\u001B[38;5;124mQ2\u001B[39m\u001B[38;5;124m'\u001B[39m\u001B[38;5;124m,Q2,\u001B[39m\u001B[38;5;124m'\u001B[39m\u001B[38;5;124mQ3\u001B[39m\u001B[38;5;124m'\u001B[39m\u001B[38;5;124m,Q3) as (Quater, Revenue)\u001B[39m\u001B[38;5;124m\"\u001B[39m\n",
       "\u001B[0;32m----> 3\u001B[0m unpivot_df \u001B[38;5;241m=\u001B[39m pivot_df\u001B[38;5;241m.\u001B[39mselect(\u001B[38;5;124m'\u001B[39m\u001B[38;5;124mCompany\u001B[39m\u001B[38;5;124m'\u001B[39m, expr(unpivotExpr))\\\n",
       "\u001B[1;32m      4\u001B[0m     \u001B[38;5;241m.\u001B[39mwhere(\u001B[38;5;124m'\u001B[39m\u001B[38;5;124mRevenue is not null\u001B[39m\u001B[38;5;124m'\u001B[39m)\n",
       "\u001B[1;32m      5\u001B[0m display(unpivot_df)\n",
       "\n",
       "\u001B[0;31mAttributeError\u001B[0m: 'GroupedData' object has no attribute 'select'"
      ]
     },
     "metadata": {
      "application/vnd.databricks.v1+output": {
       "arguments": {},
       "data": "\u001B[0;31m---------------------------------------------------------------------------\u001B[0m\n\u001B[0;31mAttributeError\u001B[0m                            Traceback (most recent call last)\nFile \u001B[0;32m<command-189585032698280>:3\u001B[0m\n\u001B[1;32m      1\u001B[0m \u001B[38;5;28;01mfrom\u001B[39;00m \u001B[38;5;21;01mpyspark\u001B[39;00m\u001B[38;5;21;01m.\u001B[39;00m\u001B[38;5;21;01msql\u001B[39;00m\u001B[38;5;21;01m.\u001B[39;00m\u001B[38;5;21;01mfunctions\u001B[39;00m \u001B[38;5;28;01mimport\u001B[39;00m expr\n\u001B[1;32m      2\u001B[0m unpivotExpr \u001B[38;5;241m=\u001B[39m \u001B[38;5;124m\"\u001B[39m\u001B[38;5;124mstack(3,\u001B[39m\u001B[38;5;124m'\u001B[39m\u001B[38;5;124mQ1\u001B[39m\u001B[38;5;124m'\u001B[39m\u001B[38;5;124m,Q1,\u001B[39m\u001B[38;5;124m'\u001B[39m\u001B[38;5;124mQ2\u001B[39m\u001B[38;5;124m'\u001B[39m\u001B[38;5;124m,Q2,\u001B[39m\u001B[38;5;124m'\u001B[39m\u001B[38;5;124mQ3\u001B[39m\u001B[38;5;124m'\u001B[39m\u001B[38;5;124m,Q3) as (Quater, Revenue)\u001B[39m\u001B[38;5;124m\"\u001B[39m\n\u001B[0;32m----> 3\u001B[0m unpivot_df \u001B[38;5;241m=\u001B[39m pivot_df\u001B[38;5;241m.\u001B[39mselect(\u001B[38;5;124m'\u001B[39m\u001B[38;5;124mCompany\u001B[39m\u001B[38;5;124m'\u001B[39m, expr(unpivotExpr))\\\n\u001B[1;32m      4\u001B[0m     \u001B[38;5;241m.\u001B[39mwhere(\u001B[38;5;124m'\u001B[39m\u001B[38;5;124mRevenue is not null\u001B[39m\u001B[38;5;124m'\u001B[39m)\n\u001B[1;32m      5\u001B[0m display(unpivot_df)\n\n\u001B[0;31mAttributeError\u001B[0m: 'GroupedData' object has no attribute 'select'",
       "errorSummary": "<span class='ansi-red-fg'>AttributeError</span>: 'GroupedData' object has no attribute 'select'",
       "errorTraceType": "ansi",
       "metadata": {},
       "type": "ipynbError"
      }
     },
     "output_type": "display_data"
    }
   ],
   "source": [
    "from pyspark.sql.functions import expr\n",
    "unpivotExpr = \"stack(3,'Q1',Q1,'Q2',Q2,'Q3',Q3) as (Quater, Revenue)\"\n",
    "unpivot_df = pivot_df.select('Company', expr(unpivotExpr))\\\n",
    "    .where('Revenue is not null')\n",
    "display(unpivot_df)"
   ]
  },
  {
   "cell_type": "code",
   "execution_count": 0,
   "metadata": {
    "application/vnd.databricks.v1+cell": {
     "cellMetadata": {
      "byteLimit": 2048000,
      "rowLimit": 10000
     },
     "inputWidgets": {},
     "nuid": "b3b9c942-5e02-4193-ba59-6beead2b3395",
     "showTitle": false,
     "title": ""
    }
   },
   "outputs": [
    {
     "output_type": "display_data",
     "data": {
      "text/plain": [
       "\u001B[0;31m---------------------------------------------------------------------------\u001B[0m\n",
       "\u001B[0;31mAttributeError\u001B[0m                            Traceback (most recent call last)\n",
       "File \u001B[0;32m<command-189585032698283>:1\u001B[0m\n",
       "\u001B[0;32m----> 1\u001B[0m df \u001B[38;5;241m=\u001B[39m pivot_df\u001B[38;5;241m.\u001B[39mselectExpr(\u001B[38;5;124m'\u001B[39m\u001B[38;5;124mCompany\u001B[39m\u001B[38;5;124m'\u001B[39m, \u001B[38;5;124m\"\u001B[39m\u001B[38;5;124mstack(3,\u001B[39m\u001B[38;5;124m'\u001B[39m\u001B[38;5;124mQ1\u001B[39m\u001B[38;5;124m'\u001B[39m\u001B[38;5;124m,Q1,\u001B[39m\u001B[38;5;124m'\u001B[39m\u001B[38;5;124mQ2\u001B[39m\u001B[38;5;124m'\u001B[39m\u001B[38;5;124m,Q2,\u001B[39m\u001B[38;5;124m'\u001B[39m\u001B[38;5;124mQ3\u001B[39m\u001B[38;5;124m'\u001B[39m\u001B[38;5;124m,Q3) as (Quater, Revenue)\u001B[39m\u001B[38;5;124m\"\u001B[39m)\n",
       "\u001B[1;32m      2\u001B[0m display(df)\n",
       "\n",
       "\u001B[0;31mAttributeError\u001B[0m: 'GroupedData' object has no attribute 'selectExpr'"
      ]
     },
     "metadata": {
      "application/vnd.databricks.v1+output": {
       "arguments": {},
       "data": "\u001B[0;31m---------------------------------------------------------------------------\u001B[0m\n\u001B[0;31mAttributeError\u001B[0m                            Traceback (most recent call last)\nFile \u001B[0;32m<command-189585032698283>:1\u001B[0m\n\u001B[0;32m----> 1\u001B[0m df \u001B[38;5;241m=\u001B[39m pivot_df\u001B[38;5;241m.\u001B[39mselectExpr(\u001B[38;5;124m'\u001B[39m\u001B[38;5;124mCompany\u001B[39m\u001B[38;5;124m'\u001B[39m, \u001B[38;5;124m\"\u001B[39m\u001B[38;5;124mstack(3,\u001B[39m\u001B[38;5;124m'\u001B[39m\u001B[38;5;124mQ1\u001B[39m\u001B[38;5;124m'\u001B[39m\u001B[38;5;124m,Q1,\u001B[39m\u001B[38;5;124m'\u001B[39m\u001B[38;5;124mQ2\u001B[39m\u001B[38;5;124m'\u001B[39m\u001B[38;5;124m,Q2,\u001B[39m\u001B[38;5;124m'\u001B[39m\u001B[38;5;124mQ3\u001B[39m\u001B[38;5;124m'\u001B[39m\u001B[38;5;124m,Q3) as (Quater, Revenue)\u001B[39m\u001B[38;5;124m\"\u001B[39m)\n\u001B[1;32m      2\u001B[0m display(df)\n\n\u001B[0;31mAttributeError\u001B[0m: 'GroupedData' object has no attribute 'selectExpr'",
       "errorSummary": "<span class='ansi-red-fg'>AttributeError</span>: 'GroupedData' object has no attribute 'selectExpr'",
       "errorTraceType": "ansi",
       "metadata": {},
       "type": "ipynbError"
      }
     },
     "output_type": "display_data"
    }
   ],
   "source": [
    "df = pivot_df.selectExpr('Company', \"stack(3,'Q1',Q1,'Q2',Q2,'Q3',Q3) as (Quater, Revenue)\")\n",
    "display(df)"
   ]
  },
  {
   "cell_type": "code",
   "execution_count": 0,
   "metadata": {
    "application/vnd.databricks.v1+cell": {
     "cellMetadata": {
      "byteLimit": 2048000,
      "rowLimit": 10000
     },
     "inputWidgets": {},
     "nuid": "469afed8-f32c-492f-909d-23e011fa3803",
     "showTitle": false,
     "title": ""
    }
   },
   "outputs": [
    {
     "output_type": "display_data",
     "data": {
      "text/plain": [
       "\u001B[0;31m---------------------------------------------------------------------------\u001B[0m\n",
       "\u001B[0;31mAttributeError\u001B[0m                            Traceback (most recent call last)\n",
       "File \u001B[0;32m<command-189585032698281>:1\u001B[0m\n",
       "\u001B[0;32m----> 1\u001B[0m \u001B[43mpivot_df\u001B[49m\u001B[38;5;241;43m.\u001B[39;49m\u001B[43munpivot\u001B[49m(\u001B[38;5;124m\"\u001B[39m\u001B[38;5;124mCompany\u001B[39m\u001B[38;5;124m\"\u001B[39m, [\u001B[38;5;124m\"\u001B[39m\u001B[38;5;124mQ1\u001B[39m\u001B[38;5;124m\"\u001B[39m, \u001B[38;5;124m\"\u001B[39m\u001B[38;5;124mQ2\u001B[39m\u001B[38;5;124m\"\u001B[39m,\u001B[38;5;124m\"\u001B[39m\u001B[38;5;124mQ3\u001B[39m\u001B[38;5;124m\"\u001B[39m], \u001B[38;5;124m\"\u001B[39m\u001B[38;5;124mQuater\u001B[39m\u001B[38;5;124m\"\u001B[39m, \u001B[38;5;124m\"\u001B[39m\u001B[38;5;124mRevenu\u001B[39m\u001B[38;5;124m\"\u001B[39m)\u001B[38;5;241m.\u001B[39mshow()\n",
       "\n",
       "\u001B[0;31mAttributeError\u001B[0m: 'GroupedData' object has no attribute 'unpivot'"
      ]
     },
     "metadata": {
      "application/vnd.databricks.v1+output": {
       "arguments": {},
       "data": "\u001B[0;31m---------------------------------------------------------------------------\u001B[0m\n\u001B[0;31mAttributeError\u001B[0m                            Traceback (most recent call last)\nFile \u001B[0;32m<command-189585032698281>:1\u001B[0m\n\u001B[0;32m----> 1\u001B[0m \u001B[43mpivot_df\u001B[49m\u001B[38;5;241;43m.\u001B[39;49m\u001B[43munpivot\u001B[49m(\u001B[38;5;124m\"\u001B[39m\u001B[38;5;124mCompany\u001B[39m\u001B[38;5;124m\"\u001B[39m, [\u001B[38;5;124m\"\u001B[39m\u001B[38;5;124mQ1\u001B[39m\u001B[38;5;124m\"\u001B[39m, \u001B[38;5;124m\"\u001B[39m\u001B[38;5;124mQ2\u001B[39m\u001B[38;5;124m\"\u001B[39m,\u001B[38;5;124m\"\u001B[39m\u001B[38;5;124mQ3\u001B[39m\u001B[38;5;124m\"\u001B[39m], \u001B[38;5;124m\"\u001B[39m\u001B[38;5;124mQuater\u001B[39m\u001B[38;5;124m\"\u001B[39m, \u001B[38;5;124m\"\u001B[39m\u001B[38;5;124mRevenu\u001B[39m\u001B[38;5;124m\"\u001B[39m)\u001B[38;5;241m.\u001B[39mshow()\n\n\u001B[0;31mAttributeError\u001B[0m: 'GroupedData' object has no attribute 'unpivot'",
       "errorSummary": "<span class='ansi-red-fg'>AttributeError</span>: 'GroupedData' object has no attribute 'unpivot'",
       "errorTraceType": "ansi",
       "metadata": {},
       "type": "ipynbError"
      }
     },
     "output_type": "display_data"
    }
   ],
   "source": [
    "pivot_df.unpivot(\"Company\", [\"Q1\", \"Q2\",\"Q3\"], \"Quater\", \"Revenu\").show()"
   ]
  },
  {
   "cell_type": "code",
   "execution_count": 0,
   "metadata": {
    "application/vnd.databricks.v1+cell": {
     "cellMetadata": {},
     "inputWidgets": {},
     "nuid": "439956c4-2eaa-4619-929c-7e4402a0dbba",
     "showTitle": false,
     "title": ""
    }
   },
   "outputs": [],
   "source": [
    "\n",
    "from pyspark.sql.functions import expr\n",
    "unpivotExpr = \"stack(3, 'Canada', Canada, 'China', China, 'Mexico', Mexico) as (Country,Total)\"\n",
    "unPivotDF = pivotDF.select(\"Product\", expr(unpivotExpr)) \\\n",
    "    .where(\"Total is not null\")\n",
    "unPivotDF.show(truncate=False)\n",
    "unPivotDF.show()"
   ]
  }
 ],
 "metadata": {
  "application/vnd.databricks.v1+notebook": {
   "dashboards": [],
   "language": "python",
   "notebookMetadata": {
    "pythonIndentUnit": 4
   },
   "notebookName": "pivot and unpivot",
   "widgets": {}
  }
 },
 "nbformat": 4,
 "nbformat_minor": 0
}
