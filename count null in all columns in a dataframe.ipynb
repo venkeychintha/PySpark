{
 "cells": [
  {
   "cell_type": "code",
   "execution_count": 0,
   "metadata": {
    "application/vnd.databricks.v1+cell": {
     "cellMetadata": {
      "byteLimit": 2048000,
      "rowLimit": 10000
     },
     "inputWidgets": {},
     "nuid": "522a2f2c-f0b3-4d72-a1a4-a7469c989d8a",
     "showTitle": false,
     "title": ""
    }
   },
   "outputs": [
    {
     "output_type": "display_data",
     "data": {
      "text/html": [
       "<style scoped>\n",
       "  .table-result-container {\n",
       "    max-height: 300px;\n",
       "    overflow: auto;\n",
       "  }\n",
       "  table, th, td {\n",
       "    border: 1px solid black;\n",
       "    border-collapse: collapse;\n",
       "  }\n",
       "  th, td {\n",
       "    padding: 5px;\n",
       "  }\n",
       "  th {\n",
       "    text-align: left;\n",
       "  }\n",
       "</style><div class='table-result-container'><table class='table-result'><thead style='background-color: white'><tr><th>name</th><th>subject</th><th>Mark</th><th>status</th><th>attendence</th></tr></thead><tbody><tr><td>raja</td><td>science</td><td>80</td><td>p</td><td>90</td></tr><tr><td>rakesh</td><td>maths</td><td>90</td><td>p</td><td>70</td></tr><tr><td>rama</td><td>english</td><td>20</td><td>f</td><td>null</td></tr><tr><td>ramesh</td><td>science</td><td>45</td><td>f</td><td>75</td></tr><tr><td>rajesh</td><td>null</td><td>30</td><td>f</td><td>50</td></tr><tr><td>raghav</td><td>maths</td><td>null</td><td>NA</td><td>70</td></tr><tr><td>null</td><td>null</td><td>null</td><td>null</td><td>null</td></tr></tbody></table></div>"
      ]
     },
     "metadata": {
      "application/vnd.databricks.v1+output": {
       "addedWidgets": {},
       "aggData": [],
       "aggError": "",
       "aggOverflow": false,
       "aggSchema": [],
       "aggSeriesLimitReached": false,
       "aggType": "",
       "arguments": {},
       "columnCustomDisplayInfos": {},
       "data": [
        [
         "raja",
         "science",
         80,
         "p",
         90
        ],
        [
         "rakesh",
         "maths",
         90,
         "p",
         70
        ],
        [
         "rama",
         "english",
         20,
         "f",
         null
        ],
        [
         "ramesh",
         "science",
         45,
         "f",
         75
        ],
        [
         "rajesh",
         null,
         30,
         "f",
         50
        ],
        [
         "raghav",
         "maths",
         null,
         "NA",
         70
        ],
        [
         null,
         null,
         null,
         null,
         null
        ]
       ],
       "datasetInfos": [],
       "dbfsResultPath": null,
       "isJsonSchema": true,
       "metadata": {},
       "overflow": false,
       "plotOptions": {
        "customPlotOptions": {},
        "displayType": "table",
        "pivotAggregation": null,
        "pivotColumns": null,
        "xColumns": null,
        "yColumns": null
       },
       "removedWidgets": [],
       "schema": [
        {
         "metadata": "{}",
         "name": "name",
         "type": "\"string\""
        },
        {
         "metadata": "{}",
         "name": "subject",
         "type": "\"string\""
        },
        {
         "metadata": "{}",
         "name": "Mark",
         "type": "\"long\""
        },
        {
         "metadata": "{}",
         "name": "status",
         "type": "\"string\""
        },
        {
         "metadata": "{}",
         "name": "attendence",
         "type": "\"long\""
        }
       ],
       "type": "table"
      }
     },
     "output_type": "display_data"
    }
   ],
   "source": [
    "data_student = [('raja','science',80,'p',90),\n",
    "                ('rakesh','maths',90,'p',70),\n",
    "                ('rama','english',20,'f',None),\n",
    "                ('ramesh','science',45,'f',75),\n",
    "                ('rajesh',None,30,'f',50),\n",
    "                ('raghav','maths',None,'NA',70),\n",
    "                (None,None,None,None,None)]\n",
    "Schema = ['name','subject','Mark','status','attendence']\n",
    "df = spark.createDataFrame(data=data_student, schema = Schema)\n",
    "display(df)"
   ]
  },
  {
   "cell_type": "markdown",
   "metadata": {
    "application/vnd.databricks.v1+cell": {
     "cellMetadata": {},
     "inputWidgets": {},
     "nuid": "413739b4-dd1a-435d-b0fe-974b2a74cf7b",
     "showTitle": false,
     "title": ""
    }
   },
   "source": [
    "####Find Null Occurence of each column in DataFrame"
   ]
  },
  {
   "cell_type": "code",
   "execution_count": 0,
   "metadata": {
    "application/vnd.databricks.v1+cell": {
     "cellMetadata": {
      "byteLimit": 2048000,
      "rowLimit": 10000
     },
     "inputWidgets": {},
     "nuid": "08f9dd53-5c36-4e53-ba41-e861b3548bef",
     "showTitle": true,
     "title": ""
    }
   },
   "outputs": [
    {
     "output_type": "display_data",
     "data": {
      "text/html": [
       "<style scoped>\n",
       "  .table-result-container {\n",
       "    max-height: 300px;\n",
       "    overflow: auto;\n",
       "  }\n",
       "  table, th, td {\n",
       "    border: 1px solid black;\n",
       "    border-collapse: collapse;\n",
       "  }\n",
       "  th, td {\n",
       "    padding: 5px;\n",
       "  }\n",
       "  th {\n",
       "    text-align: left;\n",
       "  }\n",
       "</style><div class='table-result-container'><table class='table-result'><thead style='background-color: white'><tr><th>name</th><th>subject</th><th>Mark</th><th>status</th><th>attendence</th></tr></thead><tbody><tr><td>1</td><td>2</td><td>2</td><td>1</td><td>2</td></tr></tbody></table></div>"
      ]
     },
     "metadata": {
      "application/vnd.databricks.v1+output": {
       "addedWidgets": {},
       "aggData": [],
       "aggError": "",
       "aggOverflow": false,
       "aggSchema": [],
       "aggSeriesLimitReached": false,
       "aggType": "",
       "arguments": {},
       "columnCustomDisplayInfos": {},
       "data": [
        [
         1,
         2,
         2,
         1,
         2
        ]
       ],
       "datasetInfos": [],
       "dbfsResultPath": null,
       "isJsonSchema": true,
       "metadata": {},
       "overflow": false,
       "plotOptions": {
        "customPlotOptions": {},
        "displayType": "table",
        "pivotAggregation": null,
        "pivotColumns": null,
        "xColumns": null,
        "yColumns": null
       },
       "removedWidgets": [],
       "schema": [
        {
         "metadata": "{}",
         "name": "name",
         "type": "\"long\""
        },
        {
         "metadata": "{}",
         "name": "subject",
         "type": "\"long\""
        },
        {
         "metadata": "{}",
         "name": "Mark",
         "type": "\"long\""
        },
        {
         "metadata": "{}",
         "name": "status",
         "type": "\"long\""
        },
        {
         "metadata": "{}",
         "name": "attendence",
         "type": "\"long\""
        }
       ],
       "type": "table"
      }
     },
     "output_type": "display_data"
    }
   ],
   "source": [
    "from pyspark.sql.functions import col, count, when\n",
    "\n",
    "result = df.select([count(when(col(c).isNull(),c)).alias(c) for c in df.columns])\n",
    "display(result)"
   ]
  },
  {
   "cell_type": "code",
   "execution_count": 0,
   "metadata": {
    "application/vnd.databricks.v1+cell": {
     "cellMetadata": {},
     "inputWidgets": {},
     "nuid": "3dbf66ea-fb15-46a9-9454-cf4abb561906",
     "showTitle": false,
     "title": ""
    }
   },
   "outputs": [],
   "source": []
  }
 ],
 "metadata": {
  "application/vnd.databricks.v1+notebook": {
   "dashboards": [],
   "language": "python",
   "notebookMetadata": {
    "pythonIndentUnit": 4
   },
   "notebookName": "count null in all columns in a dataframe",
   "widgets": {}
  }
 },
 "nbformat": 4,
 "nbformat_minor": 0
}
