{
 "cells": [
  {
   "cell_type": "code",
   "execution_count": 0,
   "metadata": {
    "application/vnd.databricks.v1+cell": {
     "cellMetadata": {
      "byteLimit": 2048000,
      "rowLimit": 10000
     },
     "inputWidgets": {},
     "nuid": "e8e7fc8f-4845-4798-bb50-33e0c90fdd35",
     "showTitle": false,
     "title": ""
    }
   },
   "outputs": [
    {
     "output_type": "display_data",
     "data": {
      "text/html": [
       "<style scoped>\n",
       "  .table-result-container {\n",
       "    max-height: 300px;\n",
       "    overflow: auto;\n",
       "  }\n",
       "  table, th, td {\n",
       "    border: 1px solid black;\n",
       "    border-collapse: collapse;\n",
       "  }\n",
       "  th, td {\n",
       "    padding: 5px;\n",
       "  }\n",
       "  th {\n",
       "    text-align: left;\n",
       "  }\n",
       "</style><div class='table-result-container'><table class='table-result'><thead style='background-color: white'><tr><th>Name</th><th>Score_1</th><th>Score_2</th></tr></thead><tbody><tr><td>John</td><td>4</td><td>1</td></tr><tr><td>John</td><td>6</td><td>2</td></tr><tr><td>David</td><td>7</td><td>3</td></tr><tr><td>Mike</td><td>3</td><td>4</td></tr><tr><td>David</td><td>5</td><td>2</td></tr><tr><td>John</td><td>7</td><td>3</td></tr><tr><td>John</td><td>9</td><td>7</td></tr><tr><td>David</td><td>1</td><td>8</td></tr><tr><td>David</td><td>4</td><td>9</td></tr><tr><td>David</td><td>7</td><td>4</td></tr><tr><td>Mike</td><td>8</td><td>5</td></tr><tr><td>Mike</td><td>5</td><td>2</td></tr><tr><td>Mike</td><td>3</td><td>8</td></tr><tr><td>John</td><td>2</td><td>7</td></tr><tr><td>David</td><td>1</td><td>9</td></tr></tbody></table></div>"
      ]
     },
     "metadata": {
      "application/vnd.databricks.v1+output": {
       "addedWidgets": {},
       "aggData": [],
       "aggError": "",
       "aggOverflow": false,
       "aggSchema": [],
       "aggSeriesLimitReached": false,
       "aggType": "",
       "arguments": {},
       "columnCustomDisplayInfos": {},
       "data": [
        [
         "John",
         4,
         1
        ],
        [
         "John",
         6,
         2
        ],
        [
         "David",
         7,
         3
        ],
        [
         "Mike",
         3,
         4
        ],
        [
         "David",
         5,
         2
        ],
        [
         "John",
         7,
         3
        ],
        [
         "John",
         9,
         7
        ],
        [
         "David",
         1,
         8
        ],
        [
         "David",
         4,
         9
        ],
        [
         "David",
         7,
         4
        ],
        [
         "Mike",
         8,
         5
        ],
        [
         "Mike",
         5,
         2
        ],
        [
         "Mike",
         3,
         8
        ],
        [
         "John",
         2,
         7
        ],
        [
         "David",
         1,
         9
        ]
       ],
       "datasetInfos": [],
       "dbfsResultPath": null,
       "isJsonSchema": true,
       "metadata": {},
       "overflow": false,
       "plotOptions": {
        "customPlotOptions": {},
        "displayType": "table",
        "pivotAggregation": null,
        "pivotColumns": null,
        "xColumns": null,
        "yColumns": null
       },
       "removedWidgets": [],
       "schema": [
        {
         "metadata": "{}",
         "name": "Name",
         "type": "\"string\""
        },
        {
         "metadata": "{}",
         "name": "Score_1",
         "type": "\"long\""
        },
        {
         "metadata": "{}",
         "name": "Score_2",
         "type": "\"long\""
        }
       ],
       "type": "table"
      }
     },
     "output_type": "display_data"
    }
   ],
   "source": [
    "array_data =[\n",
    "    ('John',4, 1),\n",
    "    ('John', 6, 2),\n",
    "    ('David', 7, 3),\n",
    "    ('Mike', 3, 4),\n",
    "    ('David', 5 , 2),\n",
    "    ('John', 7, 3),\n",
    "    ('John',9,7),\n",
    "    ('David', 1 , 8),\n",
    "    ('David', 4 , 9),\n",
    "    ('David', 7 , 4),\n",
    "    ('Mike',8,5),\n",
    "    ('Mike',5,2),\n",
    "    ('Mike',3,8),\n",
    "    ('John',2,7),\n",
    "    ('David', 1 , 9)\n",
    "]\n",
    "\n",
    "array_schema = ['Name','Score_1','Score_2']\n",
    "arrayDF = spark.createDataFrame(data = array_data, schema=array_schema)\n",
    "display(arrayDF)"
   ]
  },
  {
   "cell_type": "markdown",
   "metadata": {
    "application/vnd.databricks.v1+cell": {
     "cellMetadata": {},
     "inputWidgets": {},
     "nuid": "725858bf-fcde-4d10-9b5f-108fbaf3c48c",
     "showTitle": false,
     "title": ""
    }
   },
   "source": [
    "####Convert Sample DataFrame into Array Dataframe"
   ]
  },
  {
   "cell_type": "code",
   "execution_count": 0,
   "metadata": {
    "application/vnd.databricks.v1+cell": {
     "cellMetadata": {
      "byteLimit": 2048000,
      "rowLimit": 10000
     },
     "inputWidgets": {},
     "nuid": "aecff8bc-7826-4c2b-876e-c23aa4b5ac0d",
     "showTitle": false,
     "title": ""
    }
   },
   "outputs": [
    {
     "output_type": "display_data",
     "data": {
      "text/html": [
       "<style scoped>\n",
       "  .table-result-container {\n",
       "    max-height: 300px;\n",
       "    overflow: auto;\n",
       "  }\n",
       "  table, th, td {\n",
       "    border: 1px solid black;\n",
       "    border-collapse: collapse;\n",
       "  }\n",
       "  th, td {\n",
       "    padding: 5px;\n",
       "  }\n",
       "  th {\n",
       "    text-align: left;\n",
       "  }\n",
       "</style><div class='table-result-container'><table class='table-result'><thead style='background-color: white'><tr><th>Name</th><th>array_score_1</th><th>array_score_2</th></tr></thead><tbody><tr><td>John</td><td>List(4, 6, 7, 9, 2)</td><td>List(1, 2, 3, 7, 7)</td></tr><tr><td>David</td><td>List(7, 5, 1, 4, 7, 1)</td><td>List(3, 2, 8, 9, 4, 9)</td></tr><tr><td>Mike</td><td>List(3, 8, 5, 3)</td><td>List(4, 5, 2, 8)</td></tr></tbody></table></div>"
      ]
     },
     "metadata": {
      "application/vnd.databricks.v1+output": {
       "addedWidgets": {},
       "aggData": [],
       "aggError": "",
       "aggOverflow": false,
       "aggSchema": [],
       "aggSeriesLimitReached": false,
       "aggType": "",
       "arguments": {},
       "columnCustomDisplayInfos": {},
       "data": [
        [
         "John",
         [
          4,
          6,
          7,
          9,
          2
         ],
         [
          1,
          2,
          3,
          7,
          7
         ]
        ],
        [
         "David",
         [
          7,
          5,
          1,
          4,
          7,
          1
         ],
         [
          3,
          2,
          8,
          9,
          4,
          9
         ]
        ],
        [
         "Mike",
         [
          3,
          8,
          5,
          3
         ],
         [
          4,
          5,
          2,
          8
         ]
        ]
       ],
       "datasetInfos": [],
       "dbfsResultPath": null,
       "isJsonSchema": true,
       "metadata": {},
       "overflow": false,
       "plotOptions": {
        "customPlotOptions": {},
        "displayType": "table",
        "pivotAggregation": null,
        "pivotColumns": null,
        "xColumns": null,
        "yColumns": null
       },
       "removedWidgets": [],
       "schema": [
        {
         "metadata": "{}",
         "name": "Name",
         "type": "\"string\""
        },
        {
         "metadata": "{}",
         "name": "array_score_1",
         "type": "{\"type\":\"array\",\"elementType\":\"long\",\"containsNull\":false}"
        },
        {
         "metadata": "{}",
         "name": "array_score_2",
         "type": "{\"type\":\"array\",\"elementType\":\"long\",\"containsNull\":false}"
        }
       ],
       "type": "table"
      }
     },
     "output_type": "display_data"
    },
    {
     "output_type": "stream",
     "name": "stdout",
     "output_type": "stream",
     "text": [
      "root\n |-- Name: string (nullable = true)\n |-- array_score_1: array (nullable = false)\n |    |-- element: long (containsNull = false)\n |-- array_score_2: array (nullable = false)\n |    |-- element: long (containsNull = false)\n\n"
     ]
    }
   ],
   "source": [
    "from pyspark.sql import functions as f \n",
    "\n",
    "masterDF = arrayDF.groupby('Name').agg(f.collect_list('Score_1').alias('array_score_1'),(f.collect_list('Score_2').alias('array_score_2')))\n",
    "display(masterDF)\n",
    "masterDF.printSchema()"
   ]
  },
  {
   "cell_type": "markdown",
   "metadata": {
    "application/vnd.databricks.v1+cell": {
     "cellMetadata": {},
     "inputWidgets": {},
     "nuid": "ec1ab754-34fa-4525-bf0a-b88bfaf297dd",
     "showTitle": false,
     "title": ""
    }
   },
   "source": [
    "####Apply array_zip function on array DF"
   ]
  },
  {
   "cell_type": "code",
   "execution_count": 0,
   "metadata": {
    "application/vnd.databricks.v1+cell": {
     "cellMetadata": {
      "byteLimit": 2048000,
      "rowLimit": 10000
     },
     "inputWidgets": {},
     "nuid": "3d189b99-2d67-496d-adc9-f0948ffee5ba",
     "showTitle": false,
     "title": ""
    }
   },
   "outputs": [
    {
     "output_type": "stream",
     "name": "stdout",
     "output_type": "stream",
     "text": [
      "+-----+------------------+------------------+------------------------------------------------+\n|Name |array_score_1     |array_score_2     |Zipped_value                                    |\n+-----+------------------+------------------+------------------------------------------------+\n|John |[4, 6, 7, 9, 2]   |[1, 2, 3, 7, 7]   |[{4, 1}, {6, 2}, {7, 3}, {9, 7}, {2, 7}]        |\n|David|[7, 5, 1, 4, 7, 1]|[3, 2, 8, 9, 4, 9]|[{7, 3}, {5, 2}, {1, 8}, {4, 9}, {7, 4}, {1, 9}]|\n|Mike |[3, 8, 5, 3]      |[4, 5, 2, 8]      |[{3, 4}, {8, 5}, {5, 2}, {3, 8}]                |\n+-----+------------------+------------------+------------------------------------------------+\n\n"
     ]
    }
   ],
   "source": [
    "array_zip_df = masterDF.withColumn('Zipped_value',f.arrays_zip('array_score_1','array_score_2'))\n",
    "array_zip_df.show(10, False)\n",
    "#display(array_zip_df)"
   ]
  },
  {
   "cell_type": "markdown",
   "metadata": {
    "application/vnd.databricks.v1+cell": {
     "cellMetadata": {},
     "inputWidgets": {},
     "nuid": "6a1c2e07-183e-47b4-8596-df0c5f5b3818",
     "showTitle": false,
     "title": ""
    }
   },
   "source": [
    "## Apply Array_Intersect"
   ]
  },
  {
   "cell_type": "code",
   "execution_count": 0,
   "metadata": {
    "application/vnd.databricks.v1+cell": {
     "cellMetadata": {
      "byteLimit": 2048000,
      "rowLimit": 10000
     },
     "inputWidgets": {},
     "nuid": "ccfa23ed-f2cd-44b7-b059-ea879c7ecbc1",
     "showTitle": false,
     "title": ""
    }
   },
   "outputs": [
    {
     "output_type": "display_data",
     "data": {
      "text/html": [
       "<style scoped>\n",
       "  .table-result-container {\n",
       "    max-height: 300px;\n",
       "    overflow: auto;\n",
       "  }\n",
       "  table, th, td {\n",
       "    border: 1px solid black;\n",
       "    border-collapse: collapse;\n",
       "  }\n",
       "  th, td {\n",
       "    padding: 5px;\n",
       "  }\n",
       "  th {\n",
       "    text-align: left;\n",
       "  }\n",
       "</style><div class='table-result-container'><table class='table-result'><thead style='background-color: white'><tr><th>Name</th><th>Array_1</th><th>Array_2</th></tr></thead><tbody><tr><td>John</td><td>List(4, 6, 7, 9, 2)</td><td>List(1, 2, 3, 7, 7)</td></tr><tr><td>David</td><td>List(7, 5, 1, 4, 7, 1)</td><td>List(3, 2, 8, 9, 4, 9)</td></tr><tr><td>Mike</td><td>List(3, 9, 1, 6, 2)</td><td>List(1, 2, 3, 5, 8)</td></tr></tbody></table></div>"
      ]
     },
     "metadata": {
      "application/vnd.databricks.v1+output": {
       "addedWidgets": {},
       "aggData": [],
       "aggError": "",
       "aggOverflow": false,
       "aggSchema": [],
       "aggSeriesLimitReached": false,
       "aggType": "",
       "arguments": {},
       "columnCustomDisplayInfos": {},
       "data": [
        [
         "John",
         [
          4,
          6,
          7,
          9,
          2
         ],
         [
          1,
          2,
          3,
          7,
          7
         ]
        ],
        [
         "David",
         [
          7,
          5,
          1,
          4,
          7,
          1
         ],
         [
          3,
          2,
          8,
          9,
          4,
          9
         ]
        ],
        [
         "Mike",
         [
          3,
          9,
          1,
          6,
          2
         ],
         [
          1,
          2,
          3,
          5,
          8
         ]
        ]
       ],
       "datasetInfos": [],
       "dbfsResultPath": null,
       "isJsonSchema": true,
       "metadata": {},
       "overflow": false,
       "plotOptions": {
        "customPlotOptions": {},
        "displayType": "table",
        "pivotAggregation": null,
        "pivotColumns": null,
        "xColumns": null,
        "yColumns": null
       },
       "removedWidgets": [],
       "schema": [
        {
         "metadata": "{}",
         "name": "Name",
         "type": "\"string\""
        },
        {
         "metadata": "{}",
         "name": "Array_1",
         "type": "{\"type\":\"array\",\"elementType\":\"long\",\"containsNull\":true}"
        },
        {
         "metadata": "{}",
         "name": "Array_2",
         "type": "{\"type\":\"array\",\"elementType\":\"long\",\"containsNull\":true}"
        }
       ],
       "type": "table"
      }
     },
     "output_type": "display_data"
    }
   ],
   "source": [
    "empDF = [\n",
    "    ('John',[4,6,7,9,2],[1,2,3,7,7]),\n",
    "    ('David',[7,5,1,4,7,1],[3,2,8,9,4,9]),\n",
    "    ('Mike',[3,9,1,6,2],[1,2,3,5,8])\n",
    "]\n",
    "\n",
    "df = spark.createDataFrame(data=empDF, schema=['Name','Array_1','Array_2'])\n",
    "display(df)"
   ]
  },
  {
   "cell_type": "code",
   "execution_count": 0,
   "metadata": {
    "application/vnd.databricks.v1+cell": {
     "cellMetadata": {
      "byteLimit": 2048000,
      "rowLimit": 10000
     },
     "inputWidgets": {},
     "nuid": "b0b65e17-b0b0-4b0d-b335-69fbbe41c3d3",
     "showTitle": false,
     "title": ""
    }
   },
   "outputs": [
    {
     "output_type": "display_data",
     "data": {
      "text/html": [
       "<style scoped>\n",
       "  .table-result-container {\n",
       "    max-height: 300px;\n",
       "    overflow: auto;\n",
       "  }\n",
       "  table, th, td {\n",
       "    border: 1px solid black;\n",
       "    border-collapse: collapse;\n",
       "  }\n",
       "  th, td {\n",
       "    padding: 5px;\n",
       "  }\n",
       "  th {\n",
       "    text-align: left;\n",
       "  }\n",
       "</style><div class='table-result-container'><table class='table-result'><thead style='background-color: white'><tr><th>Name</th><th>Array_1</th><th>Array_2</th><th>Intersect</th></tr></thead><tbody><tr><td>John</td><td>List(4, 6, 7, 9, 2)</td><td>List(1, 2, 3, 7, 7)</td><td>List(7, 2)</td></tr><tr><td>David</td><td>List(7, 5, 1, 4, 7, 1)</td><td>List(3, 2, 8, 9, 4, 9)</td><td>List(4)</td></tr><tr><td>Mike</td><td>List(3, 9, 1, 6, 2)</td><td>List(1, 2, 3, 5, 8)</td><td>List(3, 1, 2)</td></tr></tbody></table></div>"
      ]
     },
     "metadata": {
      "application/vnd.databricks.v1+output": {
       "addedWidgets": {},
       "aggData": [],
       "aggError": "",
       "aggOverflow": false,
       "aggSchema": [],
       "aggSeriesLimitReached": false,
       "aggType": "",
       "arguments": {},
       "columnCustomDisplayInfos": {},
       "data": [
        [
         "John",
         [
          4,
          6,
          7,
          9,
          2
         ],
         [
          1,
          2,
          3,
          7,
          7
         ],
         [
          7,
          2
         ]
        ],
        [
         "David",
         [
          7,
          5,
          1,
          4,
          7,
          1
         ],
         [
          3,
          2,
          8,
          9,
          4,
          9
         ],
         [
          4
         ]
        ],
        [
         "Mike",
         [
          3,
          9,
          1,
          6,
          2
         ],
         [
          1,
          2,
          3,
          5,
          8
         ],
         [
          3,
          1,
          2
         ]
        ]
       ],
       "datasetInfos": [],
       "dbfsResultPath": null,
       "isJsonSchema": true,
       "metadata": {},
       "overflow": false,
       "plotOptions": {
        "customPlotOptions": {},
        "displayType": "table",
        "pivotAggregation": null,
        "pivotColumns": null,
        "xColumns": null,
        "yColumns": null
       },
       "removedWidgets": [],
       "schema": [
        {
         "metadata": "{}",
         "name": "Name",
         "type": "\"string\""
        },
        {
         "metadata": "{}",
         "name": "Array_1",
         "type": "{\"type\":\"array\",\"elementType\":\"long\",\"containsNull\":true}"
        },
        {
         "metadata": "{}",
         "name": "Array_2",
         "type": "{\"type\":\"array\",\"elementType\":\"long\",\"containsNull\":true}"
        },
        {
         "metadata": "{}",
         "name": "Intersect",
         "type": "{\"type\":\"array\",\"elementType\":\"long\",\"containsNull\":true}"
        }
       ],
       "type": "table"
      }
     },
     "output_type": "display_data"
    }
   ],
   "source": [
    "##Apply Array_Intersect\n",
    "from pyspark.sql import functions as f\n",
    "outputDF = df.withColumn('Intersect', f.array_intersect('Array_1','Array_2'))\n",
    "display(outputDF)"
   ]
  },
  {
   "cell_type": "markdown",
   "metadata": {
    "application/vnd.databricks.v1+cell": {
     "cellMetadata": {},
     "inputWidgets": {},
     "nuid": "b62df9fd-06b4-43c2-a991-3108580f3cdf",
     "showTitle": false,
     "title": ""
    }
   },
   "source": [
    "## Apply Array_Except"
   ]
  },
  {
   "cell_type": "code",
   "execution_count": 0,
   "metadata": {
    "application/vnd.databricks.v1+cell": {
     "cellMetadata": {
      "byteLimit": 2048000,
      "rowLimit": 10000
     },
     "inputWidgets": {},
     "nuid": "94a10222-0d9f-4f09-a2fe-3c8aa1d58f54",
     "showTitle": false,
     "title": ""
    }
   },
   "outputs": [
    {
     "output_type": "display_data",
     "data": {
      "text/html": [
       "<style scoped>\n",
       "  .table-result-container {\n",
       "    max-height: 300px;\n",
       "    overflow: auto;\n",
       "  }\n",
       "  table, th, td {\n",
       "    border: 1px solid black;\n",
       "    border-collapse: collapse;\n",
       "  }\n",
       "  th, td {\n",
       "    padding: 5px;\n",
       "  }\n",
       "  th {\n",
       "    text-align: left;\n",
       "  }\n",
       "</style><div class='table-result-container'><table class='table-result'><thead style='background-color: white'><tr><th>Name</th><th>Array_1</th><th>Array_2</th></tr></thead><tbody><tr><td>John</td><td>List(4, 6, 7, 9, 2)</td><td>List(1, 2, 3, 7, 7)</td></tr><tr><td>David</td><td>List(7, 5, 1, 4, 7, 1)</td><td>List(3, 2, 8, 9, 4, 9)</td></tr><tr><td>Mike</td><td>List(3, 9, 1, 6, 2)</td><td>List(1, 2, 3, 5, 8)</td></tr></tbody></table></div>"
      ]
     },
     "metadata": {
      "application/vnd.databricks.v1+output": {
       "addedWidgets": {},
       "aggData": [],
       "aggError": "",
       "aggOverflow": false,
       "aggSchema": [],
       "aggSeriesLimitReached": false,
       "aggType": "",
       "arguments": {},
       "columnCustomDisplayInfos": {},
       "data": [
        [
         "John",
         [
          4,
          6,
          7,
          9,
          2
         ],
         [
          1,
          2,
          3,
          7,
          7
         ]
        ],
        [
         "David",
         [
          7,
          5,
          1,
          4,
          7,
          1
         ],
         [
          3,
          2,
          8,
          9,
          4,
          9
         ]
        ],
        [
         "Mike",
         [
          3,
          9,
          1,
          6,
          2
         ],
         [
          1,
          2,
          3,
          5,
          8
         ]
        ]
       ],
       "datasetInfos": [],
       "dbfsResultPath": null,
       "isJsonSchema": true,
       "metadata": {},
       "overflow": false,
       "plotOptions": {
        "customPlotOptions": {},
        "displayType": "table",
        "pivotAggregation": null,
        "pivotColumns": null,
        "xColumns": null,
        "yColumns": null
       },
       "removedWidgets": [],
       "schema": [
        {
         "metadata": "{}",
         "name": "Name",
         "type": "\"string\""
        },
        {
         "metadata": "{}",
         "name": "Array_1",
         "type": "{\"type\":\"array\",\"elementType\":\"long\",\"containsNull\":true}"
        },
        {
         "metadata": "{}",
         "name": "Array_2",
         "type": "{\"type\":\"array\",\"elementType\":\"long\",\"containsNull\":true}"
        }
       ],
       "type": "table"
      }
     },
     "output_type": "display_data"
    }
   ],
   "source": [
    "empDF = [\n",
    "    ('John',[4,6,7,9,2],[1,2,3,7,7]),\n",
    "    ('David',[7,5,1,4,7,1],[3,2,8,9,4,9]),\n",
    "    ('Mike',[3,9,1,6,2],[1,2,3,5,8])\n",
    "]\n",
    "\n",
    "df = spark.createDataFrame(data=empDF, schema=['Name','Array_1','Array_2'])\n",
    "display(df)"
   ]
  },
  {
   "cell_type": "code",
   "execution_count": 0,
   "metadata": {
    "application/vnd.databricks.v1+cell": {
     "cellMetadata": {
      "byteLimit": 2048000,
      "rowLimit": 10000
     },
     "inputWidgets": {},
     "nuid": "3b22ae07-6b79-447f-b2fa-68ae151664d1",
     "showTitle": false,
     "title": ""
    }
   },
   "outputs": [
    {
     "output_type": "display_data",
     "data": {
      "text/html": [
       "<style scoped>\n",
       "  .table-result-container {\n",
       "    max-height: 300px;\n",
       "    overflow: auto;\n",
       "  }\n",
       "  table, th, td {\n",
       "    border: 1px solid black;\n",
       "    border-collapse: collapse;\n",
       "  }\n",
       "  th, td {\n",
       "    padding: 5px;\n",
       "  }\n",
       "  th {\n",
       "    text-align: left;\n",
       "  }\n",
       "</style><div class='table-result-container'><table class='table-result'><thead style='background-color: white'><tr><th>Name</th><th>Array_1</th><th>Array_2</th><th>Intersect</th></tr></thead><tbody><tr><td>John</td><td>List(4, 6, 7, 9, 2)</td><td>List(1, 2, 3, 7, 7)</td><td>List(4, 6, 9)</td></tr><tr><td>David</td><td>List(7, 5, 1, 4, 7, 1)</td><td>List(3, 2, 8, 9, 4, 9)</td><td>List(7, 5, 1)</td></tr><tr><td>Mike</td><td>List(3, 9, 1, 6, 2)</td><td>List(1, 2, 3, 5, 8)</td><td>List(9, 6)</td></tr></tbody></table></div>"
      ]
     },
     "metadata": {
      "application/vnd.databricks.v1+output": {
       "addedWidgets": {},
       "aggData": [],
       "aggError": "",
       "aggOverflow": false,
       "aggSchema": [],
       "aggSeriesLimitReached": false,
       "aggType": "",
       "arguments": {},
       "columnCustomDisplayInfos": {},
       "data": [
        [
         "John",
         [
          4,
          6,
          7,
          9,
          2
         ],
         [
          1,
          2,
          3,
          7,
          7
         ],
         [
          4,
          6,
          9
         ]
        ],
        [
         "David",
         [
          7,
          5,
          1,
          4,
          7,
          1
         ],
         [
          3,
          2,
          8,
          9,
          4,
          9
         ],
         [
          7,
          5,
          1
         ]
        ],
        [
         "Mike",
         [
          3,
          9,
          1,
          6,
          2
         ],
         [
          1,
          2,
          3,
          5,
          8
         ],
         [
          9,
          6
         ]
        ]
       ],
       "datasetInfos": [],
       "dbfsResultPath": null,
       "isJsonSchema": true,
       "metadata": {},
       "overflow": false,
       "plotOptions": {
        "customPlotOptions": {},
        "displayType": "table",
        "pivotAggregation": null,
        "pivotColumns": null,
        "xColumns": null,
        "yColumns": null
       },
       "removedWidgets": [],
       "schema": [
        {
         "metadata": "{}",
         "name": "Name",
         "type": "\"string\""
        },
        {
         "metadata": "{}",
         "name": "Array_1",
         "type": "{\"type\":\"array\",\"elementType\":\"long\",\"containsNull\":true}"
        },
        {
         "metadata": "{}",
         "name": "Array_2",
         "type": "{\"type\":\"array\",\"elementType\":\"long\",\"containsNull\":true}"
        },
        {
         "metadata": "{}",
         "name": "Intersect",
         "type": "{\"type\":\"array\",\"elementType\":\"long\",\"containsNull\":true}"
        }
       ],
       "type": "table"
      }
     },
     "output_type": "display_data"
    }
   ],
   "source": [
    "##Apply Array_Except\n",
    "from pyspark.sql import functions as f\n",
    "outputDF = df.withColumn('Intersect', f.array_except('Array_1','Array_2'))\n",
    "display(outputDF)"
   ]
  },
  {
   "cell_type": "markdown",
   "metadata": {
    "application/vnd.databricks.v1+cell": {
     "cellMetadata": {},
     "inputWidgets": {},
     "nuid": "1632bd9c-62ab-4f52-80ad-9faf49356035",
     "showTitle": false,
     "title": ""
    }
   },
   "source": [
    "##Apply Array_Sort"
   ]
  },
  {
   "cell_type": "code",
   "execution_count": 0,
   "metadata": {
    "application/vnd.databricks.v1+cell": {
     "cellMetadata": {
      "byteLimit": 2048000,
      "rowLimit": 10000
     },
     "inputWidgets": {},
     "nuid": "21fc8c23-4ed3-4007-a7a2-553ebfa4f4ba",
     "showTitle": false,
     "title": ""
    }
   },
   "outputs": [
    {
     "output_type": "display_data",
     "data": {
      "text/html": [
       "<style scoped>\n",
       "  .table-result-container {\n",
       "    max-height: 300px;\n",
       "    overflow: auto;\n",
       "  }\n",
       "  table, th, td {\n",
       "    border: 1px solid black;\n",
       "    border-collapse: collapse;\n",
       "  }\n",
       "  th, td {\n",
       "    padding: 5px;\n",
       "  }\n",
       "  th {\n",
       "    text-align: left;\n",
       "  }\n",
       "</style><div class='table-result-container'><table class='table-result'><thead style='background-color: white'><tr><th>Name</th><th>Array_1</th></tr></thead><tbody><tr><td>John</td><td>List(4, 6, 7, 9, 2)</td></tr><tr><td>David</td><td>List(7, 5, 1, 4, 7, 1)</td></tr><tr><td>Mike</td><td>List(3, 9, 1, 6, 2)</td></tr></tbody></table></div>"
      ]
     },
     "metadata": {
      "application/vnd.databricks.v1+output": {
       "addedWidgets": {},
       "aggData": [],
       "aggError": "",
       "aggOverflow": false,
       "aggSchema": [],
       "aggSeriesLimitReached": false,
       "aggType": "",
       "arguments": {},
       "columnCustomDisplayInfos": {},
       "data": [
        [
         "John",
         [
          4,
          6,
          7,
          9,
          2
         ]
        ],
        [
         "David",
         [
          7,
          5,
          1,
          4,
          7,
          1
         ]
        ],
        [
         "Mike",
         [
          3,
          9,
          1,
          6,
          2
         ]
        ]
       ],
       "datasetInfos": [],
       "dbfsResultPath": null,
       "isJsonSchema": true,
       "metadata": {},
       "overflow": false,
       "plotOptions": {
        "customPlotOptions": {},
        "displayType": "table",
        "pivotAggregation": null,
        "pivotColumns": null,
        "xColumns": null,
        "yColumns": null
       },
       "removedWidgets": [],
       "schema": [
        {
         "metadata": "{}",
         "name": "Name",
         "type": "\"string\""
        },
        {
         "metadata": "{}",
         "name": "Array_1",
         "type": "{\"type\":\"array\",\"elementType\":\"long\",\"containsNull\":true}"
        }
       ],
       "type": "table"
      }
     },
     "output_type": "display_data"
    }
   ],
   "source": [
    "empDF = [\n",
    "    ('John',[4,6,7,9,2]),\n",
    "    ('David',[7,5,1,4,7,1]),\n",
    "    ('Mike',[3,9,1,6,2])\n",
    "]\n",
    "\n",
    "df = spark.createDataFrame(data=empDF, schema=['Name','Array_1'])\n",
    "display(df)"
   ]
  },
  {
   "cell_type": "code",
   "execution_count": 0,
   "metadata": {
    "application/vnd.databricks.v1+cell": {
     "cellMetadata": {
      "byteLimit": 2048000,
      "rowLimit": 10000
     },
     "inputWidgets": {},
     "nuid": "1cb232bc-d61e-4d4a-acad-0df23944dc93",
     "showTitle": false,
     "title": ""
    }
   },
   "outputs": [
    {
     "output_type": "display_data",
     "data": {
      "text/html": [
       "<style scoped>\n",
       "  .table-result-container {\n",
       "    max-height: 300px;\n",
       "    overflow: auto;\n",
       "  }\n",
       "  table, th, td {\n",
       "    border: 1px solid black;\n",
       "    border-collapse: collapse;\n",
       "  }\n",
       "  th, td {\n",
       "    padding: 5px;\n",
       "  }\n",
       "  th {\n",
       "    text-align: left;\n",
       "  }\n",
       "</style><div class='table-result-container'><table class='table-result'><thead style='background-color: white'><tr><th>Name</th><th>Array_1</th><th>Sorted</th></tr></thead><tbody><tr><td>John</td><td>List(4, 6, 7, 9, 2)</td><td>List(2, 4, 6, 7, 9)</td></tr><tr><td>David</td><td>List(7, 5, 1, 4, 7, 1)</td><td>List(1, 1, 4, 5, 7, 7)</td></tr><tr><td>Mike</td><td>List(3, 9, 1, 6, 2)</td><td>List(1, 2, 3, 6, 9)</td></tr></tbody></table></div>"
      ]
     },
     "metadata": {
      "application/vnd.databricks.v1+output": {
       "addedWidgets": {},
       "aggData": [],
       "aggError": "",
       "aggOverflow": false,
       "aggSchema": [],
       "aggSeriesLimitReached": false,
       "aggType": "",
       "arguments": {},
       "columnCustomDisplayInfos": {},
       "data": [
        [
         "John",
         [
          4,
          6,
          7,
          9,
          2
         ],
         [
          2,
          4,
          6,
          7,
          9
         ]
        ],
        [
         "David",
         [
          7,
          5,
          1,
          4,
          7,
          1
         ],
         [
          1,
          1,
          4,
          5,
          7,
          7
         ]
        ],
        [
         "Mike",
         [
          3,
          9,
          1,
          6,
          2
         ],
         [
          1,
          2,
          3,
          6,
          9
         ]
        ]
       ],
       "datasetInfos": [],
       "dbfsResultPath": null,
       "isJsonSchema": true,
       "metadata": {},
       "overflow": false,
       "plotOptions": {
        "customPlotOptions": {},
        "displayType": "table",
        "pivotAggregation": null,
        "pivotColumns": null,
        "xColumns": null,
        "yColumns": null
       },
       "removedWidgets": [],
       "schema": [
        {
         "metadata": "{}",
         "name": "Name",
         "type": "\"string\""
        },
        {
         "metadata": "{}",
         "name": "Array_1",
         "type": "{\"type\":\"array\",\"elementType\":\"long\",\"containsNull\":true}"
        },
        {
         "metadata": "{}",
         "name": "Sorted",
         "type": "{\"type\":\"array\",\"elementType\":\"long\",\"containsNull\":true}"
        }
       ],
       "type": "table"
      }
     },
     "output_type": "display_data"
    }
   ],
   "source": [
    "##Apply Array_Sort\n",
    "from pyspark.sql import functions as f\n",
    "outputDF = df.withColumn('Sorted', f.array_sort('Array_1'))\n",
    "display(outputDF)"
   ]
  },
  {
   "cell_type": "code",
   "execution_count": 0,
   "metadata": {
    "application/vnd.databricks.v1+cell": {
     "cellMetadata": {},
     "inputWidgets": {},
     "nuid": "189c09f2-3b28-4ecc-a877-f149aedf3932",
     "showTitle": false,
     "title": ""
    }
   },
   "outputs": [],
   "source": []
  }
 ],
 "metadata": {
  "application/vnd.databricks.v1+notebook": {
   "dashboards": [],
   "language": "python",
   "notebookMetadata": {
    "pythonIndentUnit": 4
   },
   "notebookName": "Array_Function -Array_Zip",
   "widgets": {}
  }
 },
 "nbformat": 4,
 "nbformat_minor": 0
}
