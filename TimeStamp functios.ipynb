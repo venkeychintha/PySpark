{
 "cells": [
  {
   "cell_type": "code",
   "execution_count": 0,
   "metadata": {
    "application/vnd.databricks.v1+cell": {
     "cellMetadata": {
      "byteLimit": 2048000,
      "rowLimit": 10000
     },
     "inputWidgets": {},
     "nuid": "2b7372cf-647d-429f-bd1d-85885585afdd",
     "showTitle": false,
     "title": ""
    }
   },
   "outputs": [
    {
     "output_type": "stream",
     "name": "stdout",
     "output_type": "stream",
     "text": [
      "+---+\n| id|\n+---+\n|  0|\n|  1|\n+---+\n\n"
     ]
    }
   ],
   "source": [
    "df = spark.range(2)\n",
    "df.show()"
   ]
  },
  {
   "cell_type": "code",
   "execution_count": 0,
   "metadata": {
    "application/vnd.databricks.v1+cell": {
     "cellMetadata": {
      "byteLimit": 2048000,
      "rowLimit": 10000
     },
     "inputWidgets": {},
     "nuid": "0142774f-28ee-43f0-a3b0-b156627adf92",
     "showTitle": false,
     "title": ""
    }
   },
   "outputs": [
    {
     "output_type": "stream",
     "name": "stdout",
     "output_type": "stream",
     "text": [
      "+---+-----------------------+\n|id |currentTimeStamp       |\n+---+-----------------------+\n|0  |2023-06-16 22:56:39.972|\n|1  |2023-06-16 22:56:39.972|\n+---+-----------------------+\n\nroot\n |-- id: long (nullable = false)\n |-- currentTimeStamp: timestamp (nullable = false)\n\n"
     ]
    }
   ],
   "source": [
    "from pyspark.sql.functions import current_timestamp\n",
    "\n",
    "df1 = df.withColumn('currentTimeStamp', current_timestamp())\n",
    "df1.show(truncate=False)\n",
    "df1.printSchema()"
   ]
  },
  {
   "cell_type": "code",
   "execution_count": 0,
   "metadata": {
    "application/vnd.databricks.v1+cell": {
     "cellMetadata": {
      "byteLimit": 2048000,
      "rowLimit": 10000
     },
     "inputWidgets": {},
     "nuid": "8de7e16c-fa67-444b-8957-57d83f166903",
     "showTitle": false,
     "title": ""
    }
   },
   "outputs": [
    {
     "output_type": "stream",
     "name": "stdout",
     "output_type": "stream",
     "text": [
      "+---+-----------------------+-------------------+\n|id |currentTimeStamp       |timestampinsting   |\n+---+-----------------------+-------------------+\n|0  |2023-06-16 23:08:45.492|12.25.2022 08.10.03|\n|1  |2023-06-16 23:08:45.492|12.25.2022 08.10.03|\n+---+-----------------------+-------------------+\n\nroot\n |-- id: long (nullable = false)\n |-- currentTimeStamp: timestamp (nullable = false)\n |-- timestampinsting: string (nullable = false)\n\n+---+-----------------------+-------------------+\n|id |currentTimeStamp       |timestampinsting   |\n+---+-----------------------+-------------------+\n|0  |2023-06-16 23:08:45.592|2022-12-25 08:10:03|\n|1  |2023-06-16 23:08:45.592|2022-12-25 08:10:03|\n+---+-----------------------+-------------------+\n\nroot\n |-- id: long (nullable = false)\n |-- currentTimeStamp: timestamp (nullable = false)\n |-- timestampinsting: timestamp (nullable = true)\n\n"
     ]
    }
   ],
   "source": [
    "from pyspark.sql.functions import current_timestamp, lit\n",
    "\n",
    "df2 = df1.withColumn('timestampinsting', lit('12.25.2022 08.10.03'))\n",
    "df2.show(truncate=False)\n",
    "df2.printSchema()\n",
    "\n",
    "from pyspark.sql.functions import to_timestamp\n",
    "\n",
    "df3 = df2.withColumn('timestampinsting', to_timestamp(df2.timestampinsting, 'MM.dd.yyyy HH.mm.ss'))\n",
    "df3.show(truncate=False)\n",
    "df3.printSchema()"
   ]
  },
  {
   "cell_type": "code",
   "execution_count": 0,
   "metadata": {
    "application/vnd.databricks.v1+cell": {
     "cellMetadata": {
      "byteLimit": 2048000,
      "rowLimit": 10000
     },
     "inputWidgets": {},
     "nuid": "8e3aa0a7-6c1e-4dfa-9c5d-8e97c073ed67",
     "showTitle": false,
     "title": ""
    }
   },
   "outputs": [
    {
     "output_type": "stream",
     "name": "stdout",
     "output_type": "stream",
     "text": [
      "+---+-----------------------+----+\n|id |currentTimeStamp       |hour|\n+---+-----------------------+----+\n|0  |2023-06-16 23:15:01.841|23  |\n|1  |2023-06-16 23:15:01.841|23  |\n+---+-----------------------+----+\n\n+---+-----------------------+------+\n|id |currentTimeStamp       |minute|\n+---+-----------------------+------+\n|0  |2023-06-16 23:15:01.958|15    |\n|1  |2023-06-16 23:15:01.958|15    |\n+---+-----------------------+------+\n\n+---+-----------------------+------+\n|id |currentTimeStamp       |second|\n+---+-----------------------+------+\n|0  |2023-06-16 23:15:02.062|2     |\n|1  |2023-06-16 23:15:02.062|2     |\n+---+-----------------------+------+\n\n"
     ]
    }
   ],
   "source": [
    "from pyspark.sql.functions import hour, minute, second\n",
    "df1.select('*', hour(df1.currentTimeStamp).alias('hour')).show(truncate=False)\n",
    "df1.select('*', minute(df1.currentTimeStamp).alias('minute')).show(truncate=False)\n",
    "df1.select('*', second(df1.currentTimeStamp).alias('second')).show(truncate=False)"
   ]
  },
  {
   "cell_type": "code",
   "execution_count": 0,
   "metadata": {
    "application/vnd.databricks.v1+cell": {
     "cellMetadata": {
      "byteLimit": 2048000,
      "rowLimit": 10000
     },
     "inputWidgets": {},
     "nuid": "1adf4e68-caf6-4aa6-bbb9-d69271da0aa4",
     "showTitle": false,
     "title": ""
    }
   },
   "outputs": [
    {
     "output_type": "stream",
     "name": "stdout",
     "output_type": "stream",
     "text": [
      "+---+-----------------------+----+------+------+\n|id |currentTimeStamp       |hour|minute|second|\n+---+-----------------------+----+------+------+\n|0  |2023-06-16 23:19:01.018|23  |19    |1     |\n|1  |2023-06-16 23:19:01.018|23  |19    |1     |\n+---+-----------------------+----+------+------+\n\n"
     ]
    }
   ],
   "source": [
    "from pyspark.sql.functions import hour, minute, second\n",
    "df1.select('*', hour(df1.currentTimeStamp).alias('hour'),\\\n",
    "minute(df1.currentTimeStamp).alias('minute'),\\\n",
    "second(df1.currentTimeStamp).alias('second')).show(truncate=False)"
   ]
  },
  {
   "cell_type": "code",
   "execution_count": 0,
   "metadata": {
    "application/vnd.databricks.v1+cell": {
     "cellMetadata": {},
     "inputWidgets": {},
     "nuid": "bf7b5e42-9c12-48e7-bff7-7a6a1adbd6a8",
     "showTitle": false,
     "title": ""
    }
   },
   "outputs": [],
   "source": []
  }
 ],
 "metadata": {
  "application/vnd.databricks.v1+notebook": {
   "dashboards": [],
   "language": "python",
   "notebookMetadata": {
    "pythonIndentUnit": 4
   },
   "notebookName": "TimeStamp functios",
   "widgets": {}
  }
 },
 "nbformat": 4,
 "nbformat_minor": 0
}
