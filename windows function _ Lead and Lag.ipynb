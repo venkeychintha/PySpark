{
 "cells": [
  {
   "cell_type": "markdown",
   "metadata": {
    "application/vnd.databricks.v1+cell": {
     "cellMetadata": {},
     "inputWidgets": {},
     "nuid": "0b17fcaf-0e8a-4af9-8f8c-8ea97849ead1",
     "showTitle": false,
     "title": ""
    }
   },
   "source": [
    "###Create data frame"
   ]
  },
  {
   "cell_type": "code",
   "execution_count": 0,
   "metadata": {
    "application/vnd.databricks.v1+cell": {
     "cellMetadata": {
      "byteLimit": 2048000,
      "rowLimit": 10000
     },
     "inputWidgets": {},
     "nuid": "c72680cd-2025-4486-b462-ef9b98da3aa1",
     "showTitle": false,
     "title": ""
    }
   },
   "outputs": [
    {
     "output_type": "display_data",
     "data": {
      "text/html": [
       "<style scoped>\n",
       "  .table-result-container {\n",
       "    max-height: 300px;\n",
       "    overflow: auto;\n",
       "  }\n",
       "  table, th, td {\n",
       "    border: 1px solid black;\n",
       "    border-collapse: collapse;\n",
       "  }\n",
       "  th, td {\n",
       "    padding: 5px;\n",
       "  }\n",
       "  th {\n",
       "    text-align: left;\n",
       "  }\n",
       "</style><div class='table-result-container'><table class='table-result'><thead style='background-color: white'><tr><th>employee_name</th><th>department</th><th>salary</th></tr></thead><tbody><tr><td>James</td><td>sales</td><td>3000</td></tr><tr><td>David</td><td>sales</td><td>3000</td></tr><tr><td>Robert</td><td>sales</td><td>4100</td></tr><tr><td>Saif</td><td>sales</td><td>4100</td></tr><tr><td>Micheal</td><td>sales</td><td>4600</td></tr><tr><td>Marin</td><td>finance</td><td>3000</td></tr><tr><td>Scott</td><td>finance</td><td>3300</td></tr><tr><td>Jen</td><td>finance</td><td>3900</td></tr><tr><td>Kumar</td><td>marketing</td><td>2000</td></tr><tr><td>Jeff</td><td>marketing</td><td>3000</td></tr></tbody></table></div>"
      ]
     },
     "metadata": {
      "application/vnd.databricks.v1+output": {
       "addedWidgets": {},
       "aggData": [],
       "aggError": "",
       "aggOverflow": false,
       "aggSchema": [],
       "aggSeriesLimitReached": false,
       "aggType": "",
       "arguments": {},
       "columnCustomDisplayInfos": {},
       "data": [
        [
         "James",
         "sales",
         3000
        ],
        [
         "David",
         "sales",
         3000
        ],
        [
         "Robert",
         "sales",
         4100
        ],
        [
         "Saif",
         "sales",
         4100
        ],
        [
         "Micheal",
         "sales",
         4600
        ],
        [
         "Marin",
         "finance",
         3000
        ],
        [
         "Scott",
         "finance",
         3300
        ],
        [
         "Jen",
         "finance",
         3900
        ],
        [
         "Kumar",
         "marketing",
         2000
        ],
        [
         "Jeff",
         "marketing",
         3000
        ]
       ],
       "datasetInfos": [],
       "dbfsResultPath": null,
       "isJsonSchema": true,
       "metadata": {},
       "overflow": false,
       "plotOptions": {
        "customPlotOptions": {},
        "displayType": "table",
        "pivotAggregation": null,
        "pivotColumns": null,
        "xColumns": null,
        "yColumns": null
       },
       "removedWidgets": [],
       "schema": [
        {
         "metadata": "{}",
         "name": "employee_name",
         "type": "\"string\""
        },
        {
         "metadata": "{}",
         "name": "department",
         "type": "\"string\""
        },
        {
         "metadata": "{}",
         "name": "salary",
         "type": "\"long\""
        }
       ],
       "type": "table"
      }
     },
     "output_type": "display_data"
    }
   ],
   "source": [
    "simpleData = (('James', 'sales',3000),\n",
    "              ('David','sales',3000),\n",
    "              ('Robert','sales',4100),\n",
    "              ('Saif','sales',4100),\n",
    "              ('Micheal','sales',4600),\n",
    "              ('Marin','finance',3000),\n",
    "              ('Scott','finance',3300),\n",
    "              ('Jen','finance',3900),\n",
    "              ('Kumar','marketing',2000),\n",
    "              ('Jeff','marketing',3000))\n",
    "columns = ['employee_name','department','salary']\n",
    "df = spark.createDataFrame(data=simpleData, schema=columns)\n",
    "display(df)"
   ]
  },
  {
   "cell_type": "code",
   "execution_count": 0,
   "metadata": {
    "application/vnd.databricks.v1+cell": {
     "cellMetadata": {
      "byteLimit": 2048000,
      "rowLimit": 10000
     },
     "inputWidgets": {},
     "nuid": "9cf4f6d4-dde9-4973-a7e4-8df17bc68a40",
     "showTitle": false,
     "title": ""
    }
   },
   "outputs": [],
   "source": [
    "#window definition\n",
    "\n",
    "from pyspark.sql.window import Window\n",
    "from pyspark.sql.functions import row_number\n",
    "\n",
    "windowSpec = Window.partitionBy('department').orderBy('salary')"
   ]
  },
  {
   "cell_type": "markdown",
   "metadata": {
    "application/vnd.databricks.v1+cell": {
     "cellMetadata": {},
     "inputWidgets": {},
     "nuid": "1fbec7ba-dd8e-4bc2-b404-a8ed86a0053b",
     "showTitle": false,
     "title": ""
    }
   },
   "source": [
    "###Lag window function"
   ]
  },
  {
   "cell_type": "code",
   "execution_count": 0,
   "metadata": {
    "application/vnd.databricks.v1+cell": {
     "cellMetadata": {
      "byteLimit": 2048000,
      "rowLimit": 10000
     },
     "inputWidgets": {},
     "nuid": "b8bb8aad-4723-405b-8e33-7d03cdc869e7",
     "showTitle": false,
     "title": ""
    }
   },
   "outputs": [
    {
     "output_type": "stream",
     "name": "stdout",
     "output_type": "stream",
     "text": [
      "+-------------+----------+------+----+\n|employee_name|department|salary| lag|\n+-------------+----------+------+----+\n|        Marin|   finance|  3000|null|\n|        Scott|   finance|  3300|3000|\n|          Jen|   finance|  3900|3300|\n|        Kumar| marketing|  2000|null|\n|         Jeff| marketing|  3000|2000|\n|        James|     sales|  3000|null|\n|        David|     sales|  3000|3000|\n|       Robert|     sales|  4100|3000|\n|         Saif|     sales|  4100|4100|\n|      Micheal|     sales|  4600|4100|\n+-------------+----------+------+----+\n\n"
     ]
    }
   ],
   "source": [
    "from pyspark.sql.functions import lag\n",
    "df.withColumn('lag',lag('salary',1).over(windowSpec)).show()"
   ]
  },
  {
   "cell_type": "code",
   "execution_count": 0,
   "metadata": {
    "application/vnd.databricks.v1+cell": {
     "cellMetadata": {
      "byteLimit": 2048000,
      "rowLimit": 10000
     },
     "inputWidgets": {},
     "nuid": "27d338ae-d6bc-46c5-88f5-d427817c538d",
     "showTitle": false,
     "title": ""
    }
   },
   "outputs": [
    {
     "output_type": "stream",
     "name": "stdout",
     "output_type": "stream",
     "text": [
      "+-------------+----------+------+----+\n|employee_name|department|salary| lag|\n+-------------+----------+------+----+\n|        Marin|   finance|  3000|null|\n|        Scott|   finance|  3300|null|\n|          Jen|   finance|  3900|3000|\n|        Kumar| marketing|  2000|null|\n|         Jeff| marketing|  3000|null|\n|        James|     sales|  3000|null|\n|        David|     sales|  3000|null|\n|       Robert|     sales|  4100|3000|\n|         Saif|     sales|  4100|3000|\n|      Micheal|     sales|  4600|4100|\n+-------------+----------+------+----+\n\n"
     ]
    }
   ],
   "source": [
    "from pyspark.sql.functions import lag\n",
    "df.withColumn('lag',lag('salary',2).over(windowSpec)).show()"
   ]
  },
  {
   "cell_type": "markdown",
   "metadata": {
    "application/vnd.databricks.v1+cell": {
     "cellMetadata": {},
     "inputWidgets": {},
     "nuid": "62caa833-bc75-407a-91e9-40c17c359ffc",
     "showTitle": false,
     "title": ""
    }
   },
   "source": [
    "###Lead window function"
   ]
  },
  {
   "cell_type": "code",
   "execution_count": 0,
   "metadata": {
    "application/vnd.databricks.v1+cell": {
     "cellMetadata": {
      "byteLimit": 2048000,
      "rowLimit": 10000
     },
     "inputWidgets": {},
     "nuid": "43984a4b-1807-4596-9fdd-e0e0aec0e0b2",
     "showTitle": false,
     "title": ""
    }
   },
   "outputs": [
    {
     "output_type": "stream",
     "name": "stdout",
     "output_type": "stream",
     "text": [
      "+-------------+----------+------+----+\n|employee_name|department|salary|lead|\n+-------------+----------+------+----+\n|        Marin|   finance|  3000|3300|\n|        Scott|   finance|  3300|3900|\n|          Jen|   finance|  3900|null|\n|        Kumar| marketing|  2000|3000|\n|         Jeff| marketing|  3000|null|\n|        James|     sales|  3000|3000|\n|        David|     sales|  3000|4100|\n|       Robert|     sales|  4100|4100|\n|         Saif|     sales|  4100|4600|\n|      Micheal|     sales|  4600|null|\n+-------------+----------+------+----+\n\n"
     ]
    }
   ],
   "source": [
    "from pyspark.sql.functions import lead\n",
    "df.withColumn('lead',lead('salary',1).over(windowSpec)).show()"
   ]
  },
  {
   "cell_type": "code",
   "execution_count": 0,
   "metadata": {
    "application/vnd.databricks.v1+cell": {
     "cellMetadata": {},
     "inputWidgets": {},
     "nuid": "7cf0cf19-9025-4b74-a824-fa366b1c22da",
     "showTitle": false,
     "title": ""
    }
   },
   "outputs": [],
   "source": []
  }
 ],
 "metadata": {
  "application/vnd.databricks.v1+notebook": {
   "dashboards": [],
   "language": "python",
   "notebookMetadata": {
    "pythonIndentUnit": 4
   },
   "notebookName": "windows function : Lead and Lag",
   "widgets": {}
  }
 },
 "nbformat": 4,
 "nbformat_minor": 0
}
