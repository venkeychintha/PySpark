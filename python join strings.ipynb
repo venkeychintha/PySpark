{
 "cells": [
  {
   "cell_type": "code",
   "execution_count": 0,
   "metadata": {
    "application/vnd.databricks.v1+cell": {
     "cellMetadata": {
      "byteLimit": 2048000,
      "rowLimit": 10000
     },
     "inputWidgets": {},
     "nuid": "387e624a-35c0-45c8-8f61-06a97daa7a7f",
     "showTitle": false,
     "title": ""
    }
   },
   "outputs": [
    {
     "output_type": "display_data",
     "data": {
      "text/html": [
       "<style scoped>\n",
       "  .table-result-container {\n",
       "    max-height: 300px;\n",
       "    overflow: auto;\n",
       "  }\n",
       "  table, th, td {\n",
       "    border: 1px solid black;\n",
       "    border-collapse: collapse;\n",
       "  }\n",
       "  th, td {\n",
       "    padding: 5px;\n",
       "  }\n",
       "  th {\n",
       "    text-align: left;\n",
       "  }\n",
       "</style><div class='table-result-container'><table class='table-result'><thead style='background-color: white'><tr><th>employee_id</th><th>name</th><th>doj</th><th>employee_dept_id</th><th>gender</th><th>salary</th></tr></thead><tbody><tr><td>10</td><td>raj kumar</td><td>1999</td><td>100</td><td>M</td><td>2000</td></tr><tr><td>20</td><td>rahul kumar</td><td>2002</td><td>200</td><td>F</td><td>8000</td></tr><tr><td>30</td><td>raja singh</td><td>2010</td><td>100</td><td>null</td><td>6000</td></tr><tr><td>40</td><td>raghava</td><td>2004</td><td>100</td><td>M</td><td>9000</td></tr><tr><td>50</td><td>rama krishna</td><td>2008</td><td>400</td><td>M</td><td>14000</td></tr><tr><td>60</td><td>rasul</td><td>2014</td><td>500</td><td>F</td><td>12000</td></tr><tr><td>70</td><td>kumar Chand </td><td>2004</td><td>600</td><td>M</td><td>7000</td></tr></tbody></table></div>"
      ]
     },
     "metadata": {
      "application/vnd.databricks.v1+output": {
       "addedWidgets": {},
       "aggData": [],
       "aggError": "",
       "aggOverflow": false,
       "aggSchema": [],
       "aggSeriesLimitReached": false,
       "aggType": "",
       "arguments": {},
       "columnCustomDisplayInfos": {},
       "data": [
        [
         10,
         "raj kumar",
         "1999",
         "100",
         "M",
         2000
        ],
        [
         20,
         "rahul kumar",
         "2002",
         "200",
         "F",
         8000
        ],
        [
         30,
         "raja singh",
         "2010",
         "100",
         null,
         6000
        ],
        [
         40,
         "raghava",
         "2004",
         "100",
         "M",
         9000
        ],
        [
         50,
         "rama krishna",
         "2008",
         "400",
         "M",
         14000
        ],
        [
         60,
         "rasul",
         "2014",
         "500",
         "F",
         12000
        ],
        [
         70,
         "kumar Chand ",
         "2004",
         "600",
         "M",
         7000
        ]
       ],
       "datasetInfos": [],
       "dbfsResultPath": null,
       "isJsonSchema": true,
       "metadata": {},
       "overflow": false,
       "plotOptions": {
        "customPlotOptions": {},
        "displayType": "table",
        "pivotAggregation": null,
        "pivotColumns": null,
        "xColumns": null,
        "yColumns": null
       },
       "removedWidgets": [],
       "schema": [
        {
         "metadata": "{}",
         "name": "employee_id",
         "type": "\"long\""
        },
        {
         "metadata": "{}",
         "name": "name",
         "type": "\"string\""
        },
        {
         "metadata": "{}",
         "name": "doj",
         "type": "\"string\""
        },
        {
         "metadata": "{}",
         "name": "employee_dept_id",
         "type": "\"string\""
        },
        {
         "metadata": "{}",
         "name": "gender",
         "type": "\"string\""
        },
        {
         "metadata": "{}",
         "name": "salary",
         "type": "\"long\""
        }
       ],
       "type": "table"
      }
     },
     "output_type": "display_data"
    }
   ],
   "source": [
    "employee_data =[(10, 'raj kumar','1999','100','M',2000),\n",
    "                (20, 'rahul kumar','2002','200','F',8000),\n",
    "                (30, 'raja singh','2010','100',None,6000),\n",
    "                (40, 'raghava','2004','100','M',9000),\n",
    "                (50, 'rama krishna','2008','400','M',14000),\n",
    "                (60, 'rasul','2014','500','F',12000),\n",
    "                (70, 'kumar Chand ','2004','600','M',7000)]\n",
    "\n",
    "employee_schema =['employee_id','name','doj','employee_dept_id','gender','salary']\n",
    "\n",
    "df_emp= spark.createDataFrame(data=employee_data, schema=employee_schema)\n",
    "df_emp.display()"
   ]
  },
  {
   "cell_type": "markdown",
   "metadata": {
    "application/vnd.databricks.v1+cell": {
     "cellMetadata": {},
     "inputWidgets": {},
     "nuid": "54626bc7-f44e-492a-bb71-743e94bbb959",
     "showTitle": false,
     "title": ""
    }
   },
   "source": [
    "###Create iterable data"
   ]
  },
  {
   "cell_type": "code",
   "execution_count": 0,
   "metadata": {
    "application/vnd.databricks.v1+cell": {
     "cellMetadata": {
      "byteLimit": 2048000,
      "rowLimit": 10000
     },
     "inputWidgets": {},
     "nuid": "8f771b25-2c05-41d9-90e0-193d3c9ac5e3",
     "showTitle": false,
     "title": ""
    }
   },
   "outputs": [
    {
     "output_type": "stream",
     "name": "stdout",
     "output_type": "stream",
     "text": [
      "['employee_id', 'name', 'doj', 'employee_dept_id', 'gender', 'salary']\n"
     ]
    }
   ],
   "source": [
    "#It gives all column names\n",
    "column_list = df_emp.columns\n",
    "print(column_list)"
   ]
  },
  {
   "cell_type": "markdown",
   "metadata": {
    "application/vnd.databricks.v1+cell": {
     "cellMetadata": {},
     "inputWidgets": {},
     "nuid": "8b782b83-aec3-4f31-bc0a-1ebe4d023884",
     "showTitle": false,
     "title": ""
    }
   },
   "source": [
    "###Join the string"
   ]
  },
  {
   "cell_type": "code",
   "execution_count": 0,
   "metadata": {
    "application/vnd.databricks.v1+cell": {
     "cellMetadata": {
      "byteLimit": 2048000,
      "rowLimit": 10000
     },
     "inputWidgets": {},
     "nuid": "f4c91ba1-8a3c-4400-8930-ca6d9679f7c4",
     "showTitle": false,
     "title": ""
    }
   },
   "outputs": [
    {
     "output_type": "stream",
     "name": "stdout",
     "output_type": "stream",
     "text": [
      "employee_id,name,doj,employee_dept_id,gender,salary\n"
     ]
    }
   ],
   "source": [
    "joined_string = \",\".join(column_list)\n",
    "print(joined_string)"
   ]
  },
  {
   "cell_type": "code",
   "execution_count": 0,
   "metadata": {
    "application/vnd.databricks.v1+cell": {
     "cellMetadata": {
      "byteLimit": 2048000,
      "rowLimit": 10000
     },
     "inputWidgets": {},
     "nuid": "f0f96c4b-0ef9-4a98-be97-e04c02e3b348",
     "showTitle": false,
     "title": ""
    }
   },
   "outputs": [
    {
     "output_type": "stream",
     "name": "stdout",
     "output_type": "stream",
     "text": [
      "employee_id+name+doj+employee_dept_id+gender+salary\n"
     ]
    }
   ],
   "source": [
    "joined_string = \"+\".join(column_list)\n",
    "print(joined_string)"
   ]
  },
  {
   "cell_type": "markdown",
   "metadata": {
    "application/vnd.databricks.v1+cell": {
     "cellMetadata": {},
     "inputWidgets": {},
     "nuid": "5383a7ee-378f-418b-b272-d57fcd522f2a",
     "showTitle": false,
     "title": ""
    }
   },
   "source": [
    "###usecases"
   ]
  },
  {
   "cell_type": "code",
   "execution_count": 0,
   "metadata": {
    "application/vnd.databricks.v1+cell": {
     "cellMetadata": {
      "byteLimit": 2048000,
      "rowLimit": 10000
     },
     "inputWidgets": {},
     "nuid": "fd228f7a-6623-403a-a85e-8edaecdd314f",
     "showTitle": false,
     "title": ""
    }
   },
   "outputs": [
    {
     "output_type": "stream",
     "name": "stdout",
     "output_type": "stream",
     "text": [
      "['employee_id', 'name', 'doj', 'employee_dept_id', 'gender', 'salary']\n"
     ]
    }
   ],
   "source": [
    "joinstring = list(map(lambda x: x,column_list))\n",
    "print(joinstring)"
   ]
  },
  {
   "cell_type": "code",
   "execution_count": 0,
   "metadata": {
    "application/vnd.databricks.v1+cell": {
     "cellMetadata": {
      "byteLimit": 2048000,
      "rowLimit": 10000
     },
     "inputWidgets": {},
     "nuid": "fd108310-d659-4e6f-b0d3-e402fe15fdb2",
     "showTitle": false,
     "title": ""
    }
   },
   "outputs": [
    {
     "output_type": "stream",
     "name": "stdout",
     "output_type": "stream",
     "text": [
      "Target.employee_id= Source.employee_id AND Target.name= Source.name AND Target.doj= Source.doj AND Target.employee_dept_id= Source.employee_dept_id AND Target.gender= Source.gender AND Target.salary= Source.salary\n"
     ]
    }
   ],
   "source": [
    "joinstring = ' AND '.join(list(map(lambda x: (\"Target.\" + x + \"= Source.\"+x),column_list)))\n",
    "print(joinstring)"
   ]
  },
  {
   "cell_type": "code",
   "execution_count": 0,
   "metadata": {
    "application/vnd.databricks.v1+cell": {
     "cellMetadata": {
      "byteLimit": 2048000,
      "rowLimit": 10000
     },
     "inputWidgets": {},
     "nuid": "b24a1ece-ac7a-44e3-ac30-fe505335362d",
     "showTitle": false,
     "title": ""
    }
   },
   "outputs": [
    {
     "output_type": "stream",
     "name": "stdout",
     "output_type": "stream",
     "text": [
      "Target.employee_id= Source.employee_id , Target.name= Source.name , Target.doj= Source.doj , Target.employee_dept_id= Source.employee_dept_id , Target.gender= Source.gender , Target.salary= Source.salary\n"
     ]
    }
   ],
   "source": [
    "updatestring = ' , '.join(list(map(lambda x: (\"Target.\" + x + \"= Source.\"+x),column_list)))\n",
    "print(updatestring)"
   ]
  },
  {
   "cell_type": "code",
   "execution_count": 0,
   "metadata": {
    "application/vnd.databricks.v1+cell": {
     "cellMetadata": {
      "byteLimit": 2048000,
      "rowLimit": 10000
     },
     "inputWidgets": {},
     "nuid": "ff9087a6-196c-428b-9a09-6a950483f23d",
     "showTitle": false,
     "title": ""
    }
   },
   "outputs": [
    {
     "output_type": "stream",
     "name": "stdout",
     "output_type": "stream",
     "text": [
      "Source.employee_id,Source.name,Source.doj,Source.employee_dept_id,Source.gender,Source.salary\n"
     ]
    }
   ],
   "source": [
    "sourceinsertstring = ','.join(list(map(lambda x: (\"Source.\"+x),column_list)))\n",
    "print(sourceinsertstring)"
   ]
  },
  {
   "cell_type": "code",
   "execution_count": 0,
   "metadata": {
    "application/vnd.databricks.v1+cell": {
     "cellMetadata": {},
     "inputWidgets": {},
     "nuid": "f3d3220a-4a08-4f70-8aac-cfc96551c879",
     "showTitle": false,
     "title": ""
    }
   },
   "outputs": [],
   "source": []
  }
 ],
 "metadata": {
  "application/vnd.databricks.v1+notebook": {
   "dashboards": [],
   "language": "python",
   "notebookMetadata": {
    "pythonIndentUnit": 4
   },
   "notebookName": "python join strings",
   "widgets": {}
  }
 },
 "nbformat": 4,
 "nbformat_minor": 0
}
