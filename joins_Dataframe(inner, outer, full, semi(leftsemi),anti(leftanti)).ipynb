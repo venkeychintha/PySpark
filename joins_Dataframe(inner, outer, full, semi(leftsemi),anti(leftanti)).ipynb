{
 "cells": [
  {
   "cell_type": "code",
   "execution_count": 0,
   "metadata": {
    "application/vnd.databricks.v1+cell": {
     "cellMetadata": {
      "byteLimit": 2048000,
      "rowLimit": 10000
     },
     "inputWidgets": {},
     "nuid": "5c5e836d-8469-497a-836e-c3a141281c8c",
     "showTitle": false,
     "title": ""
    }
   },
   "outputs": [
    {
     "output_type": "display_data",
     "data": {
      "text/html": [
       "<style scoped>\n",
       "  .table-result-container {\n",
       "    max-height: 300px;\n",
       "    overflow: auto;\n",
       "  }\n",
       "  table, th, td {\n",
       "    border: 1px solid black;\n",
       "    border-collapse: collapse;\n",
       "  }\n",
       "  th, td {\n",
       "    padding: 5px;\n",
       "  }\n",
       "  th {\n",
       "    text-align: left;\n",
       "  }\n",
       "</style><div class='table-result-container'><table class='table-result'><thead style='background-color: white'><tr><th>dept_name</th><th>dept_id</th></tr></thead><tbody><tr><td>HR</td><td>100</td></tr><tr><td>Supply</td><td>200</td></tr><tr><td>Sales</td><td>300</td></tr><tr><td>Stock</td><td>400</td></tr></tbody></table></div>"
      ]
     },
     "metadata": {
      "application/vnd.databricks.v1+output": {
       "addedWidgets": {},
       "aggData": [],
       "aggError": "",
       "aggOverflow": false,
       "aggSchema": [],
       "aggSeriesLimitReached": false,
       "aggType": "",
       "arguments": {},
       "columnCustomDisplayInfos": {},
       "data": [
        [
         "HR",
         100
        ],
        [
         "Supply",
         200
        ],
        [
         "Sales",
         300
        ],
        [
         "Stock",
         400
        ]
       ],
       "datasetInfos": [],
       "dbfsResultPath": null,
       "isJsonSchema": true,
       "metadata": {},
       "overflow": false,
       "plotOptions": {
        "customPlotOptions": {},
        "displayType": "table",
        "pivotAggregation": null,
        "pivotColumns": null,
        "xColumns": null,
        "yColumns": null
       },
       "removedWidgets": [],
       "schema": [
        {
         "metadata": "{}",
         "name": "dept_name",
         "type": "\"string\""
        },
        {
         "metadata": "{}",
         "name": "dept_id",
         "type": "\"long\""
        }
       ],
       "type": "table"
      }
     },
     "output_type": "display_data"
    }
   ],
   "source": [
    "department_data = [\n",
    "    ('HR',100),\n",
    "    ('Supply',200),\n",
    "    ('Sales',300),\n",
    "    ('Stock',400)\n",
    "    ]\n",
    "\n",
    "department_schema = ['dept_name','dept_id']\n",
    "\n",
    "dept_df = spark.createDataFrame(data=department_data, schema=department_schema)\n",
    "display(dept_df)"
   ]
  },
  {
   "cell_type": "code",
   "execution_count": 0,
   "metadata": {
    "application/vnd.databricks.v1+cell": {
     "cellMetadata": {
      "byteLimit": 2048000,
      "rowLimit": 10000
     },
     "inputWidgets": {},
     "nuid": "46a77c65-a1f4-4ae8-95e0-e9eef81713fc",
     "showTitle": false,
     "title": ""
    }
   },
   "outputs": [
    {
     "output_type": "display_data",
     "data": {
      "text/html": [
       "<style scoped>\n",
       "  .table-result-container {\n",
       "    max-height: 300px;\n",
       "    overflow: auto;\n",
       "  }\n",
       "  table, th, td {\n",
       "    border: 1px solid black;\n",
       "    border-collapse: collapse;\n",
       "  }\n",
       "  th, td {\n",
       "    padding: 5px;\n",
       "  }\n",
       "  th {\n",
       "    text-align: left;\n",
       "  }\n",
       "</style><div class='table-result-container'><table class='table-result'><thead style='background-color: white'><tr><th>employee_id</th><th>name</th><th>doj</th><th>employee_dept_id</th><th>gender</th><th>salary</th></tr></thead><tbody><tr><td>10</td><td>raj kumar</td><td>1999</td><td>100</td><td>M</td><td>2000</td></tr><tr><td>20</td><td>rahul kumar</td><td>2002</td><td>200</td><td>F</td><td>8000</td></tr><tr><td>30</td><td>raja singh</td><td>2010</td><td>100</td><td>null</td><td>6000</td></tr><tr><td>40</td><td>raghava</td><td>2004</td><td>100</td><td>M</td><td>9000</td></tr><tr><td>50</td><td>rama krishna</td><td>2008</td><td>400</td><td>M</td><td>14000</td></tr><tr><td>60</td><td>rasul</td><td>2014</td><td>500</td><td>F</td><td>12000</td></tr><tr><td>70</td><td>kumar Chand </td><td>2004</td><td>600</td><td>M</td><td>7000</td></tr></tbody></table></div>"
      ]
     },
     "metadata": {
      "application/vnd.databricks.v1+output": {
       "addedWidgets": {},
       "aggData": [],
       "aggError": "",
       "aggOverflow": false,
       "aggSchema": [],
       "aggSeriesLimitReached": false,
       "aggType": "",
       "arguments": {},
       "columnCustomDisplayInfos": {},
       "data": [
        [
         10,
         "raj kumar",
         "1999",
         "100",
         "M",
         2000
        ],
        [
         20,
         "rahul kumar",
         "2002",
         "200",
         "F",
         8000
        ],
        [
         30,
         "raja singh",
         "2010",
         "100",
         null,
         6000
        ],
        [
         40,
         "raghava",
         "2004",
         "100",
         "M",
         9000
        ],
        [
         50,
         "rama krishna",
         "2008",
         "400",
         "M",
         14000
        ],
        [
         60,
         "rasul",
         "2014",
         "500",
         "F",
         12000
        ],
        [
         70,
         "kumar Chand ",
         "2004",
         "600",
         "M",
         7000
        ]
       ],
       "datasetInfos": [],
       "dbfsResultPath": null,
       "isJsonSchema": true,
       "metadata": {},
       "overflow": false,
       "plotOptions": {
        "customPlotOptions": {},
        "displayType": "table",
        "pivotAggregation": null,
        "pivotColumns": null,
        "xColumns": null,
        "yColumns": null
       },
       "removedWidgets": [],
       "schema": [
        {
         "metadata": "{}",
         "name": "employee_id",
         "type": "\"long\""
        },
        {
         "metadata": "{}",
         "name": "name",
         "type": "\"string\""
        },
        {
         "metadata": "{}",
         "name": "doj",
         "type": "\"string\""
        },
        {
         "metadata": "{}",
         "name": "employee_dept_id",
         "type": "\"string\""
        },
        {
         "metadata": "{}",
         "name": "gender",
         "type": "\"string\""
        },
        {
         "metadata": "{}",
         "name": "salary",
         "type": "\"long\""
        }
       ],
       "type": "table"
      }
     },
     "output_type": "display_data"
    }
   ],
   "source": [
    "employee_data =[(10, 'raj kumar','1999','100','M',2000),\n",
    "                (20, 'rahul kumar','2002','200','F',8000),\n",
    "                (30, 'raja singh','2010','100',None,6000),\n",
    "                (40, 'raghava','2004','100','M',9000),\n",
    "                (50, 'rama krishna','2008','400','M',14000),\n",
    "                (60, 'rasul','2014','500','F',12000),\n",
    "                (70, 'kumar Chand ','2004','600','M',7000)]\n",
    "\n",
    "employee_schema =['employee_id','name','doj','employee_dept_id','gender','salary']\n",
    "\n",
    "df_emp= spark.createDataFrame(data=employee_data, schema=employee_schema)\n",
    "df_emp.display()"
   ]
  },
  {
   "cell_type": "code",
   "execution_count": 0,
   "metadata": {
    "application/vnd.databricks.v1+cell": {
     "cellMetadata": {
      "byteLimit": 2048000,
      "rowLimit": 10000
     },
     "inputWidgets": {},
     "nuid": "5eaaa809-2b32-4513-baa9-b2e80408d1f5",
     "showTitle": false,
     "title": ""
    }
   },
   "outputs": [],
   "source": [
    "df = df_emp.join(dept_df, df_emp.employee_dept_id == dept_df.dept_id,'inner')"
   ]
  },
  {
   "cell_type": "code",
   "execution_count": 0,
   "metadata": {
    "application/vnd.databricks.v1+cell": {
     "cellMetadata": {
      "byteLimit": 2048000,
      "rowLimit": 10000
     },
     "inputWidgets": {},
     "nuid": "966a97da-f451-4ff3-b4cb-f404294c15e5",
     "showTitle": false,
     "title": ""
    }
   },
   "outputs": [
    {
     "output_type": "display_data",
     "data": {
      "text/html": [
       "<style scoped>\n",
       "  .table-result-container {\n",
       "    max-height: 300px;\n",
       "    overflow: auto;\n",
       "  }\n",
       "  table, th, td {\n",
       "    border: 1px solid black;\n",
       "    border-collapse: collapse;\n",
       "  }\n",
       "  th, td {\n",
       "    padding: 5px;\n",
       "  }\n",
       "  th {\n",
       "    text-align: left;\n",
       "  }\n",
       "</style><div class='table-result-container'><table class='table-result'><thead style='background-color: white'><tr><th>employee_id</th><th>name</th><th>doj</th><th>employee_dept_id</th><th>gender</th><th>salary</th><th>dept_name</th><th>dept_id</th></tr></thead><tbody><tr><td>10</td><td>raj kumar</td><td>1999</td><td>100</td><td>M</td><td>2000</td><td>HR</td><td>100</td></tr><tr><td>30</td><td>raja singh</td><td>2010</td><td>100</td><td>null</td><td>6000</td><td>HR</td><td>100</td></tr><tr><td>40</td><td>raghava</td><td>2004</td><td>100</td><td>M</td><td>9000</td><td>HR</td><td>100</td></tr><tr><td>20</td><td>rahul kumar</td><td>2002</td><td>200</td><td>F</td><td>8000</td><td>Supply</td><td>200</td></tr><tr><td>50</td><td>rama krishna</td><td>2008</td><td>400</td><td>M</td><td>14000</td><td>Stock</td><td>400</td></tr></tbody></table></div>"
      ]
     },
     "metadata": {
      "application/vnd.databricks.v1+output": {
       "addedWidgets": {},
       "aggData": [],
       "aggError": "",
       "aggOverflow": false,
       "aggSchema": [],
       "aggSeriesLimitReached": false,
       "aggType": "",
       "arguments": {},
       "columnCustomDisplayInfos": {},
       "data": [
        [
         10,
         "raj kumar",
         "1999",
         "100",
         "M",
         2000,
         "HR",
         100
        ],
        [
         30,
         "raja singh",
         "2010",
         "100",
         null,
         6000,
         "HR",
         100
        ],
        [
         40,
         "raghava",
         "2004",
         "100",
         "M",
         9000,
         "HR",
         100
        ],
        [
         20,
         "rahul kumar",
         "2002",
         "200",
         "F",
         8000,
         "Supply",
         200
        ],
        [
         50,
         "rama krishna",
         "2008",
         "400",
         "M",
         14000,
         "Stock",
         400
        ]
       ],
       "datasetInfos": [],
       "dbfsResultPath": null,
       "isJsonSchema": true,
       "metadata": {},
       "overflow": false,
       "plotOptions": {
        "customPlotOptions": {},
        "displayType": "table",
        "pivotAggregation": null,
        "pivotColumns": null,
        "xColumns": null,
        "yColumns": null
       },
       "removedWidgets": [],
       "schema": [
        {
         "metadata": "{}",
         "name": "employee_id",
         "type": "\"long\""
        },
        {
         "metadata": "{}",
         "name": "name",
         "type": "\"string\""
        },
        {
         "metadata": "{}",
         "name": "doj",
         "type": "\"string\""
        },
        {
         "metadata": "{}",
         "name": "employee_dept_id",
         "type": "\"string\""
        },
        {
         "metadata": "{}",
         "name": "gender",
         "type": "\"string\""
        },
        {
         "metadata": "{}",
         "name": "salary",
         "type": "\"long\""
        },
        {
         "metadata": "{}",
         "name": "dept_name",
         "type": "\"string\""
        },
        {
         "metadata": "{}",
         "name": "dept_id",
         "type": "\"long\""
        }
       ],
       "type": "table"
      }
     },
     "output_type": "display_data"
    }
   ],
   "source": [
    "display(df)"
   ]
  },
  {
   "cell_type": "code",
   "execution_count": 0,
   "metadata": {
    "application/vnd.databricks.v1+cell": {
     "cellMetadata": {
      "byteLimit": 2048000,
      "rowLimit": 10000
     },
     "inputWidgets": {},
     "nuid": "8cbbe720-0aef-4810-8d56-8b8298f29321",
     "showTitle": false,
     "title": ""
    }
   },
   "outputs": [
    {
     "output_type": "execute_result",
     "data": {
      "text/plain": [
       "7"
      ]
     },
     "execution_count": 6,
     "metadata": {},
     "output_type": "execute_result"
    }
   ],
   "source": [
    "df_emp.count()"
   ]
  },
  {
   "cell_type": "code",
   "execution_count": 0,
   "metadata": {
    "application/vnd.databricks.v1+cell": {
     "cellMetadata": {
      "byteLimit": 2048000,
      "rowLimit": 10000
     },
     "inputWidgets": {},
     "nuid": "cb6f46cb-ddba-4422-9d56-fc321587daae",
     "showTitle": false,
     "title": ""
    }
   },
   "outputs": [
    {
     "output_type": "display_data",
     "data": {
      "text/html": [
       "<style scoped>\n",
       "  .table-result-container {\n",
       "    max-height: 300px;\n",
       "    overflow: auto;\n",
       "  }\n",
       "  table, th, td {\n",
       "    border: 1px solid black;\n",
       "    border-collapse: collapse;\n",
       "  }\n",
       "  th, td {\n",
       "    padding: 5px;\n",
       "  }\n",
       "  th {\n",
       "    text-align: left;\n",
       "  }\n",
       "</style><div class='table-result-container'><table class='table-result'><thead style='background-color: white'><tr><th>employee_id</th><th>name</th><th>doj</th><th>employee_dept_id</th><th>gender</th><th>salary</th><th>dept_name</th><th>dept_id</th></tr></thead><tbody><tr><td>10</td><td>raj kumar</td><td>1999</td><td>100</td><td>M</td><td>2000</td><td>HR</td><td>100</td></tr><tr><td>30</td><td>raja singh</td><td>2010</td><td>100</td><td>null</td><td>6000</td><td>HR</td><td>100</td></tr><tr><td>40</td><td>raghava</td><td>2004</td><td>100</td><td>M</td><td>9000</td><td>HR</td><td>100</td></tr><tr><td>20</td><td>rahul kumar</td><td>2002</td><td>200</td><td>F</td><td>8000</td><td>Supply</td><td>200</td></tr><tr><td>null</td><td>null</td><td>null</td><td>null</td><td>null</td><td>null</td><td>Sales</td><td>300</td></tr><tr><td>50</td><td>rama krishna</td><td>2008</td><td>400</td><td>M</td><td>14000</td><td>Stock</td><td>400</td></tr><tr><td>60</td><td>rasul</td><td>2014</td><td>500</td><td>F</td><td>12000</td><td>null</td><td>null</td></tr><tr><td>70</td><td>kumar Chand </td><td>2004</td><td>600</td><td>M</td><td>7000</td><td>null</td><td>null</td></tr></tbody></table></div>"
      ]
     },
     "metadata": {
      "application/vnd.databricks.v1+output": {
       "addedWidgets": {},
       "aggData": [],
       "aggError": "",
       "aggOverflow": false,
       "aggSchema": [],
       "aggSeriesLimitReached": false,
       "aggType": "",
       "arguments": {},
       "columnCustomDisplayInfos": {},
       "data": [
        [
         10,
         "raj kumar",
         "1999",
         "100",
         "M",
         2000,
         "HR",
         100
        ],
        [
         30,
         "raja singh",
         "2010",
         "100",
         null,
         6000,
         "HR",
         100
        ],
        [
         40,
         "raghava",
         "2004",
         "100",
         "M",
         9000,
         "HR",
         100
        ],
        [
         20,
         "rahul kumar",
         "2002",
         "200",
         "F",
         8000,
         "Supply",
         200
        ],
        [
         null,
         null,
         null,
         null,
         null,
         null,
         "Sales",
         300
        ],
        [
         50,
         "rama krishna",
         "2008",
         "400",
         "M",
         14000,
         "Stock",
         400
        ],
        [
         60,
         "rasul",
         "2014",
         "500",
         "F",
         12000,
         null,
         null
        ],
        [
         70,
         "kumar Chand ",
         "2004",
         "600",
         "M",
         7000,
         null,
         null
        ]
       ],
       "datasetInfos": [],
       "dbfsResultPath": null,
       "isJsonSchema": true,
       "metadata": {},
       "overflow": false,
       "plotOptions": {
        "customPlotOptions": {},
        "displayType": "table",
        "pivotAggregation": null,
        "pivotColumns": null,
        "xColumns": null,
        "yColumns": null
       },
       "removedWidgets": [],
       "schema": [
        {
         "metadata": "{}",
         "name": "employee_id",
         "type": "\"long\""
        },
        {
         "metadata": "{}",
         "name": "name",
         "type": "\"string\""
        },
        {
         "metadata": "{}",
         "name": "doj",
         "type": "\"string\""
        },
        {
         "metadata": "{}",
         "name": "employee_dept_id",
         "type": "\"string\""
        },
        {
         "metadata": "{}",
         "name": "gender",
         "type": "\"string\""
        },
        {
         "metadata": "{}",
         "name": "salary",
         "type": "\"long\""
        },
        {
         "metadata": "{}",
         "name": "dept_name",
         "type": "\"string\""
        },
        {
         "metadata": "{}",
         "name": "dept_id",
         "type": "\"long\""
        }
       ],
       "type": "table"
      }
     },
     "output_type": "display_data"
    }
   ],
   "source": [
    "df1 = df_emp.join(dept_df, df_emp.employee_dept_id == dept_df.dept_id, 'full')\n",
    "display(df1)"
   ]
  },
  {
   "cell_type": "code",
   "execution_count": 0,
   "metadata": {
    "application/vnd.databricks.v1+cell": {
     "cellMetadata": {
      "byteLimit": 2048000,
      "rowLimit": 10000
     },
     "inputWidgets": {},
     "nuid": "9a1b01d8-6678-42b3-9555-30e510f9bece",
     "showTitle": false,
     "title": ""
    }
   },
   "outputs": [
    {
     "output_type": "display_data",
     "data": {
      "text/html": [
       "<style scoped>\n",
       "  .table-result-container {\n",
       "    max-height: 300px;\n",
       "    overflow: auto;\n",
       "  }\n",
       "  table, th, td {\n",
       "    border: 1px solid black;\n",
       "    border-collapse: collapse;\n",
       "  }\n",
       "  th, td {\n",
       "    padding: 5px;\n",
       "  }\n",
       "  th {\n",
       "    text-align: left;\n",
       "  }\n",
       "</style><div class='table-result-container'><table class='table-result'><thead style='background-color: white'><tr><th>employee_id</th><th>name</th><th>doj</th><th>employee_dept_id</th><th>gender</th><th>salary</th></tr></thead><tbody><tr><td>10</td><td>raj kumar</td><td>1999</td><td>100</td><td>M</td><td>2000</td></tr><tr><td>30</td><td>raja singh</td><td>2010</td><td>100</td><td>null</td><td>6000</td></tr><tr><td>40</td><td>raghava</td><td>2004</td><td>100</td><td>M</td><td>9000</td></tr><tr><td>20</td><td>rahul kumar</td><td>2002</td><td>200</td><td>F</td><td>8000</td></tr><tr><td>50</td><td>rama krishna</td><td>2008</td><td>400</td><td>M</td><td>14000</td></tr></tbody></table></div>"
      ]
     },
     "metadata": {
      "application/vnd.databricks.v1+output": {
       "addedWidgets": {},
       "aggData": [],
       "aggError": "",
       "aggOverflow": false,
       "aggSchema": [],
       "aggSeriesLimitReached": false,
       "aggType": "",
       "arguments": {},
       "columnCustomDisplayInfos": {},
       "data": [
        [
         10,
         "raj kumar",
         "1999",
         "100",
         "M",
         2000
        ],
        [
         30,
         "raja singh",
         "2010",
         "100",
         null,
         6000
        ],
        [
         40,
         "raghava",
         "2004",
         "100",
         "M",
         9000
        ],
        [
         20,
         "rahul kumar",
         "2002",
         "200",
         "F",
         8000
        ],
        [
         50,
         "rama krishna",
         "2008",
         "400",
         "M",
         14000
        ]
       ],
       "datasetInfos": [],
       "dbfsResultPath": null,
       "isJsonSchema": true,
       "metadata": {},
       "overflow": false,
       "plotOptions": {
        "customPlotOptions": {},
        "displayType": "table",
        "pivotAggregation": null,
        "pivotColumns": null,
        "xColumns": null,
        "yColumns": null
       },
       "removedWidgets": [],
       "schema": [
        {
         "metadata": "{}",
         "name": "employee_id",
         "type": "\"long\""
        },
        {
         "metadata": "{}",
         "name": "name",
         "type": "\"string\""
        },
        {
         "metadata": "{}",
         "name": "doj",
         "type": "\"string\""
        },
        {
         "metadata": "{}",
         "name": "employee_dept_id",
         "type": "\"string\""
        },
        {
         "metadata": "{}",
         "name": "gender",
         "type": "\"string\""
        },
        {
         "metadata": "{}",
         "name": "salary",
         "type": "\"long\""
        }
       ],
       "type": "table"
      }
     },
     "output_type": "display_data"
    }
   ],
   "source": [
    "df2 = df_emp.join(dept_df, df_emp.employee_dept_id == dept_df.dept_id, 'semi')\n",
    "display(df2)"
   ]
  },
  {
   "cell_type": "code",
   "execution_count": 0,
   "metadata": {
    "application/vnd.databricks.v1+cell": {
     "cellMetadata": {
      "byteLimit": 2048000,
      "rowLimit": 10000
     },
     "inputWidgets": {},
     "nuid": "30540a6b-479b-41cd-95bf-29ab8e9df57c",
     "showTitle": false,
     "title": ""
    }
   },
   "outputs": [
    {
     "output_type": "display_data",
     "data": {
      "text/html": [
       "<style scoped>\n",
       "  .table-result-container {\n",
       "    max-height: 300px;\n",
       "    overflow: auto;\n",
       "  }\n",
       "  table, th, td {\n",
       "    border: 1px solid black;\n",
       "    border-collapse: collapse;\n",
       "  }\n",
       "  th, td {\n",
       "    padding: 5px;\n",
       "  }\n",
       "  th {\n",
       "    text-align: left;\n",
       "  }\n",
       "</style><div class='table-result-container'><table class='table-result'><thead style='background-color: white'><tr><th>employee_id</th><th>name</th><th>doj</th><th>employee_dept_id</th><th>gender</th><th>salary</th></tr></thead><tbody><tr><td>60</td><td>rasul</td><td>2014</td><td>500</td><td>F</td><td>12000</td></tr><tr><td>70</td><td>kumar Chand </td><td>2004</td><td>600</td><td>M</td><td>7000</td></tr></tbody></table></div>"
      ]
     },
     "metadata": {
      "application/vnd.databricks.v1+output": {
       "addedWidgets": {},
       "aggData": [],
       "aggError": "",
       "aggOverflow": false,
       "aggSchema": [],
       "aggSeriesLimitReached": false,
       "aggType": "",
       "arguments": {},
       "columnCustomDisplayInfos": {},
       "data": [
        [
         60,
         "rasul",
         "2014",
         "500",
         "F",
         12000
        ],
        [
         70,
         "kumar Chand ",
         "2004",
         "600",
         "M",
         7000
        ]
       ],
       "datasetInfos": [],
       "dbfsResultPath": null,
       "isJsonSchema": true,
       "metadata": {},
       "overflow": false,
       "plotOptions": {
        "customPlotOptions": {},
        "displayType": "table",
        "pivotAggregation": null,
        "pivotColumns": null,
        "xColumns": null,
        "yColumns": null
       },
       "removedWidgets": [],
       "schema": [
        {
         "metadata": "{}",
         "name": "employee_id",
         "type": "\"long\""
        },
        {
         "metadata": "{}",
         "name": "name",
         "type": "\"string\""
        },
        {
         "metadata": "{}",
         "name": "doj",
         "type": "\"string\""
        },
        {
         "metadata": "{}",
         "name": "employee_dept_id",
         "type": "\"string\""
        },
        {
         "metadata": "{}",
         "name": "gender",
         "type": "\"string\""
        },
        {
         "metadata": "{}",
         "name": "salary",
         "type": "\"long\""
        }
       ],
       "type": "table"
      }
     },
     "output_type": "display_data"
    }
   ],
   "source": [
    "df1 = df_emp.join(dept_df, df_emp.employee_dept_id == dept_df.dept_id, 'anti')\n",
    "display(df1)"
   ]
  },
  {
   "cell_type": "code",
   "execution_count": 0,
   "metadata": {
    "application/vnd.databricks.v1+cell": {
     "cellMetadata": {
      "byteLimit": 2048000,
      "rowLimit": 10000
     },
     "inputWidgets": {},
     "nuid": "0eefe52f-5209-4c4c-8c06-075d902ae74c",
     "showTitle": false,
     "title": ""
    }
   },
   "outputs": [
    {
     "output_type": "display_data",
     "data": {
      "text/html": [
       "<style scoped>\n",
       "  .table-result-container {\n",
       "    max-height: 300px;\n",
       "    overflow: auto;\n",
       "  }\n",
       "  table, th, td {\n",
       "    border: 1px solid black;\n",
       "    border-collapse: collapse;\n",
       "  }\n",
       "  th, td {\n",
       "    padding: 5px;\n",
       "  }\n",
       "  th {\n",
       "    text-align: left;\n",
       "  }\n",
       "</style><div class='table-result-container'><table class='table-result'><thead style='background-color: white'><tr><th>employee_id</th><th>name</th><th>doj</th><th>employee_dept_id</th><th>gender</th><th>salary</th><th>dept_name</th><th>dept_id</th></tr></thead><tbody><tr><td>40</td><td>raghava</td><td>2004</td><td>100</td><td>M</td><td>9000</td><td>HR</td><td>100</td></tr><tr><td>30</td><td>raja singh</td><td>2010</td><td>100</td><td>null</td><td>6000</td><td>HR</td><td>100</td></tr><tr><td>10</td><td>raj kumar</td><td>1999</td><td>100</td><td>M</td><td>2000</td><td>HR</td><td>100</td></tr><tr><td>20</td><td>rahul kumar</td><td>2002</td><td>200</td><td>F</td><td>8000</td><td>Supply</td><td>200</td></tr><tr><td>null</td><td>null</td><td>null</td><td>null</td><td>null</td><td>null</td><td>Sales</td><td>300</td></tr><tr><td>50</td><td>rama krishna</td><td>2008</td><td>400</td><td>M</td><td>14000</td><td>Stock</td><td>400</td></tr></tbody></table></div>"
      ]
     },
     "metadata": {
      "application/vnd.databricks.v1+output": {
       "addedWidgets": {},
       "aggData": [],
       "aggError": "",
       "aggOverflow": false,
       "aggSchema": [],
       "aggSeriesLimitReached": false,
       "aggType": "",
       "arguments": {},
       "columnCustomDisplayInfos": {},
       "data": [
        [
         40,
         "raghava",
         "2004",
         "100",
         "M",
         9000,
         "HR",
         100
        ],
        [
         30,
         "raja singh",
         "2010",
         "100",
         null,
         6000,
         "HR",
         100
        ],
        [
         10,
         "raj kumar",
         "1999",
         "100",
         "M",
         2000,
         "HR",
         100
        ],
        [
         20,
         "rahul kumar",
         "2002",
         "200",
         "F",
         8000,
         "Supply",
         200
        ],
        [
         null,
         null,
         null,
         null,
         null,
         null,
         "Sales",
         300
        ],
        [
         50,
         "rama krishna",
         "2008",
         "400",
         "M",
         14000,
         "Stock",
         400
        ]
       ],
       "datasetInfos": [],
       "dbfsResultPath": null,
       "isJsonSchema": true,
       "metadata": {},
       "overflow": false,
       "plotOptions": {
        "customPlotOptions": {},
        "displayType": "table",
        "pivotAggregation": null,
        "pivotColumns": null,
        "xColumns": null,
        "yColumns": null
       },
       "removedWidgets": [],
       "schema": [
        {
         "metadata": "{}",
         "name": "employee_id",
         "type": "\"long\""
        },
        {
         "metadata": "{}",
         "name": "name",
         "type": "\"string\""
        },
        {
         "metadata": "{}",
         "name": "doj",
         "type": "\"string\""
        },
        {
         "metadata": "{}",
         "name": "employee_dept_id",
         "type": "\"string\""
        },
        {
         "metadata": "{}",
         "name": "gender",
         "type": "\"string\""
        },
        {
         "metadata": "{}",
         "name": "salary",
         "type": "\"long\""
        },
        {
         "metadata": "{}",
         "name": "dept_name",
         "type": "\"string\""
        },
        {
         "metadata": "{}",
         "name": "dept_id",
         "type": "\"long\""
        }
       ],
       "type": "table"
      }
     },
     "output_type": "display_data"
    }
   ],
   "source": [
    "df1 = df_emp.join(dept_df, df_emp.employee_dept_id == dept_df.dept_id, 'rightouter')\n",
    "display(df1)"
   ]
  },
  {
   "cell_type": "code",
   "execution_count": 0,
   "metadata": {
    "application/vnd.databricks.v1+cell": {
     "cellMetadata": {
      "byteLimit": 2048000,
      "rowLimit": 10000
     },
     "inputWidgets": {},
     "nuid": "d753ad97-8a2c-48a7-bb60-b5eef63e818b",
     "showTitle": false,
     "title": ""
    }
   },
   "outputs": [
    {
     "output_type": "display_data",
     "data": {
      "text/html": [
       "<style scoped>\n",
       "  .table-result-container {\n",
       "    max-height: 300px;\n",
       "    overflow: auto;\n",
       "  }\n",
       "  table, th, td {\n",
       "    border: 1px solid black;\n",
       "    border-collapse: collapse;\n",
       "  }\n",
       "  th, td {\n",
       "    padding: 5px;\n",
       "  }\n",
       "  th {\n",
       "    text-align: left;\n",
       "  }\n",
       "</style><div class='table-result-container'><table class='table-result'><thead style='background-color: white'><tr><th>employee_id</th><th>name</th><th>doj</th><th>employee_dept_id</th><th>gender</th><th>salary</th><th>dept_name</th><th>dept_id</th></tr></thead><tbody><tr><td>10</td><td>raj kumar</td><td>1999</td><td>100</td><td>M</td><td>2000</td><td>HR</td><td>100</td></tr><tr><td>30</td><td>raja singh</td><td>2010</td><td>100</td><td>null</td><td>6000</td><td>HR</td><td>100</td></tr><tr><td>20</td><td>rahul kumar</td><td>2002</td><td>200</td><td>F</td><td>8000</td><td>Supply</td><td>200</td></tr><tr><td>40</td><td>raghava</td><td>2004</td><td>100</td><td>M</td><td>9000</td><td>HR</td><td>100</td></tr><tr><td>50</td><td>rama krishna</td><td>2008</td><td>400</td><td>M</td><td>14000</td><td>Stock</td><td>400</td></tr><tr><td>70</td><td>kumar Chand </td><td>2004</td><td>600</td><td>M</td><td>7000</td><td>null</td><td>null</td></tr><tr><td>60</td><td>rasul</td><td>2014</td><td>500</td><td>F</td><td>12000</td><td>null</td><td>null</td></tr></tbody></table></div>"
      ]
     },
     "metadata": {
      "application/vnd.databricks.v1+output": {
       "addedWidgets": {},
       "aggData": [],
       "aggError": "",
       "aggOverflow": false,
       "aggSchema": [],
       "aggSeriesLimitReached": false,
       "aggType": "",
       "arguments": {},
       "columnCustomDisplayInfos": {},
       "data": [
        [
         10,
         "raj kumar",
         "1999",
         "100",
         "M",
         2000,
         "HR",
         100
        ],
        [
         30,
         "raja singh",
         "2010",
         "100",
         null,
         6000,
         "HR",
         100
        ],
        [
         20,
         "rahul kumar",
         "2002",
         "200",
         "F",
         8000,
         "Supply",
         200
        ],
        [
         40,
         "raghava",
         "2004",
         "100",
         "M",
         9000,
         "HR",
         100
        ],
        [
         50,
         "rama krishna",
         "2008",
         "400",
         "M",
         14000,
         "Stock",
         400
        ],
        [
         70,
         "kumar Chand ",
         "2004",
         "600",
         "M",
         7000,
         null,
         null
        ],
        [
         60,
         "rasul",
         "2014",
         "500",
         "F",
         12000,
         null,
         null
        ]
       ],
       "datasetInfos": [],
       "dbfsResultPath": null,
       "isJsonSchema": true,
       "metadata": {},
       "overflow": false,
       "plotOptions": {
        "customPlotOptions": {},
        "displayType": "table",
        "pivotAggregation": null,
        "pivotColumns": null,
        "xColumns": null,
        "yColumns": null
       },
       "removedWidgets": [],
       "schema": [
        {
         "metadata": "{}",
         "name": "employee_id",
         "type": "\"long\""
        },
        {
         "metadata": "{}",
         "name": "name",
         "type": "\"string\""
        },
        {
         "metadata": "{}",
         "name": "doj",
         "type": "\"string\""
        },
        {
         "metadata": "{}",
         "name": "employee_dept_id",
         "type": "\"string\""
        },
        {
         "metadata": "{}",
         "name": "gender",
         "type": "\"string\""
        },
        {
         "metadata": "{}",
         "name": "salary",
         "type": "\"long\""
        },
        {
         "metadata": "{}",
         "name": "dept_name",
         "type": "\"string\""
        },
        {
         "metadata": "{}",
         "name": "dept_id",
         "type": "\"long\""
        }
       ],
       "type": "table"
      }
     },
     "output_type": "display_data"
    }
   ],
   "source": [
    "df1 = df_emp.join(dept_df, df_emp.employee_dept_id == dept_df.dept_id, 'leftouter')\n",
    "display(df1)"
   ]
  },
  {
   "cell_type": "code",
   "execution_count": 0,
   "metadata": {
    "application/vnd.databricks.v1+cell": {
     "cellMetadata": {
      "byteLimit": 2048000,
      "rowLimit": 10000
     },
     "inputWidgets": {},
     "nuid": "35488648-f233-4c7e-bc6f-69552b857cfb",
     "showTitle": false,
     "title": ""
    }
   },
   "outputs": [
    {
     "output_type": "display_data",
     "data": {
      "text/html": [
       "<style scoped>\n",
       "  .table-result-container {\n",
       "    max-height: 300px;\n",
       "    overflow: auto;\n",
       "  }\n",
       "  table, th, td {\n",
       "    border: 1px solid black;\n",
       "    border-collapse: collapse;\n",
       "  }\n",
       "  th, td {\n",
       "    padding: 5px;\n",
       "  }\n",
       "  th {\n",
       "    text-align: left;\n",
       "  }\n",
       "</style><div class='table-result-container'><table class='table-result'><thead style='background-color: white'><tr><th>dept_name</th><th>dept_id</th></tr></thead><tbody><tr><td>HR</td><td>100</td></tr><tr><td>Supply</td><td>200</td></tr><tr><td>Stock</td><td>400</td></tr></tbody></table></div>"
      ]
     },
     "metadata": {
      "application/vnd.databricks.v1+output": {
       "addedWidgets": {},
       "aggData": [],
       "aggError": "",
       "aggOverflow": false,
       "aggSchema": [],
       "aggSeriesLimitReached": false,
       "aggType": "",
       "arguments": {},
       "columnCustomDisplayInfos": {},
       "data": [
        [
         "HR",
         100
        ],
        [
         "Supply",
         200
        ],
        [
         "Stock",
         400
        ]
       ],
       "datasetInfos": [],
       "dbfsResultPath": null,
       "isJsonSchema": true,
       "metadata": {},
       "overflow": false,
       "plotOptions": {
        "customPlotOptions": {},
        "displayType": "table",
        "pivotAggregation": null,
        "pivotColumns": null,
        "xColumns": null,
        "yColumns": null
       },
       "removedWidgets": [],
       "schema": [
        {
         "metadata": "{}",
         "name": "dept_name",
         "type": "\"string\""
        },
        {
         "metadata": "{}",
         "name": "dept_id",
         "type": "\"long\""
        }
       ],
       "type": "table"
      }
     },
     "output_type": "display_data"
    }
   ],
   "source": [
    "df3 = dept_df.join(df_emp, dept_df.dept_id == df_emp.employee_dept_id, 'leftsemi')  #or only 'semi'\n",
    "display(df3)"
   ]
  },
  {
   "cell_type": "code",
   "execution_count": 0,
   "metadata": {
    "application/vnd.databricks.v1+cell": {
     "cellMetadata": {
      "byteLimit": 2048000,
      "rowLimit": 10000
     },
     "inputWidgets": {},
     "nuid": "e878d4e4-aff2-44c5-88c6-12811829a99c",
     "showTitle": false,
     "title": ""
    }
   },
   "outputs": [
    {
     "output_type": "display_data",
     "data": {
      "text/html": [
       "<div class = \"ansiout\">\n",
       "The notebook module.\n",
       "  <h3></h3><b>exit(value: String): void</b> -> This method lets you exit a notebook with a value<br /><b>run(path: String, timeoutSeconds: int, arguments: Map): String</b> -> This method runs a notebook and returns its exit value<br /><br /></div>"
      ]
     },
     "metadata": {},
     "output_type": "display_data"
    }
   ],
   "source": [
    "dbutils.notebook.help()"
   ]
  },
  {
   "cell_type": "code",
   "execution_count": 0,
   "metadata": {
    "application/vnd.databricks.v1+cell": {
     "cellMetadata": {},
     "inputWidgets": {},
     "nuid": "6555abb8-1589-463f-b61e-2842d39388bf",
     "showTitle": false,
     "title": ""
    }
   },
   "outputs": [],
   "source": []
  }
 ],
 "metadata": {
  "application/vnd.databricks.v1+notebook": {
   "dashboards": [],
   "language": "python",
   "notebookMetadata": {
    "pythonIndentUnit": 4
   },
   "notebookName": "Untitled Notebook 2023-06-08 18:51:50",
   "widgets": {}
  }
 },
 "nbformat": 4,
 "nbformat_minor": 0
}
